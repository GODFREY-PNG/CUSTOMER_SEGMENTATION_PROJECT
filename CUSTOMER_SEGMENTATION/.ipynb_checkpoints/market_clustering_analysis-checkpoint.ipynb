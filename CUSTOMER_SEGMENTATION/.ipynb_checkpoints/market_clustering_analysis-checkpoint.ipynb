{
 "cells": [
  {
   "cell_type": "markdown",
   "id": "ab0cb711",
   "metadata": {},
   "source": [
    "# **importing the required libraries**"
   ]
  },
  {
   "cell_type": "code",
   "execution_count": 31,
   "id": "ab42a3dc",
   "metadata": {},
   "outputs": [],
   "source": [
    "import pandas as pd\n",
    "import matplotlib.pyplot as plt\n",
    "import seaborn as sns\n",
    "from datetime import datetime\n",
    "from scipy.stats.mstats import trimmed_var\n",
    "import plotly.express as px \n",
    "import pickle\n",
    "from sklearn.cluster import KMeans\n",
    "from sklearn.decomposition import PCA\n",
    "from sklearn.metrics import silhouette_score\n",
    "from sklearn.pipeline import make_pipeline\n",
    "from sklearn.preprocessing import StandardScaler\n",
    "from sklearn.utils.validation import check_is_fitted\n",
    "import warnings\n",
    "\n",
    "warnings.simplefilter(action=\"ignore\", category=FutureWarning)\n",
    "warnings.filterwarnings(\"ignore\", category=DeprecationWarning)"
   ]
  },
  {
   "cell_type": "code",
   "execution_count": 32,
   "id": "74367391-6db0-410a-b630-c82d73fbff84",
   "metadata": {},
   "outputs": [
    {
     "data": {
      "text/html": [
       "<div>\n",
       "<style scoped>\n",
       "    .dataframe tbody tr th:only-of-type {\n",
       "        vertical-align: middle;\n",
       "    }\n",
       "\n",
       "    .dataframe tbody tr th {\n",
       "        vertical-align: top;\n",
       "    }\n",
       "\n",
       "    .dataframe thead th {\n",
       "        text-align: right;\n",
       "    }\n",
       "</style>\n",
       "<table border=\"1\" class=\"dataframe\">\n",
       "  <thead>\n",
       "    <tr style=\"text-align: right;\">\n",
       "      <th></th>\n",
       "      <th>ID</th>\n",
       "      <th>Year_Birth</th>\n",
       "      <th>Education</th>\n",
       "      <th>Marital_Status</th>\n",
       "      <th>Income</th>\n",
       "      <th>Kidhome</th>\n",
       "      <th>Teenhome</th>\n",
       "      <th>Dt_Customer</th>\n",
       "      <th>Recency</th>\n",
       "      <th>MntWines</th>\n",
       "      <th>...</th>\n",
       "      <th>NumWebVisitsMonth</th>\n",
       "      <th>AcceptedCmp3</th>\n",
       "      <th>AcceptedCmp4</th>\n",
       "      <th>AcceptedCmp5</th>\n",
       "      <th>AcceptedCmp1</th>\n",
       "      <th>AcceptedCmp2</th>\n",
       "      <th>Complain</th>\n",
       "      <th>Z_CostContact</th>\n",
       "      <th>Z_Revenue</th>\n",
       "      <th>Response</th>\n",
       "    </tr>\n",
       "  </thead>\n",
       "  <tbody>\n",
       "    <tr>\n",
       "      <th>0</th>\n",
       "      <td>5524</td>\n",
       "      <td>1957</td>\n",
       "      <td>Graduation</td>\n",
       "      <td>Single</td>\n",
       "      <td>58138.0</td>\n",
       "      <td>0</td>\n",
       "      <td>0</td>\n",
       "      <td>04-09-2012</td>\n",
       "      <td>58</td>\n",
       "      <td>635</td>\n",
       "      <td>...</td>\n",
       "      <td>7</td>\n",
       "      <td>0</td>\n",
       "      <td>0</td>\n",
       "      <td>0</td>\n",
       "      <td>0</td>\n",
       "      <td>0</td>\n",
       "      <td>0</td>\n",
       "      <td>3</td>\n",
       "      <td>11</td>\n",
       "      <td>1</td>\n",
       "    </tr>\n",
       "    <tr>\n",
       "      <th>1</th>\n",
       "      <td>2174</td>\n",
       "      <td>1954</td>\n",
       "      <td>Graduation</td>\n",
       "      <td>Single</td>\n",
       "      <td>46344.0</td>\n",
       "      <td>1</td>\n",
       "      <td>1</td>\n",
       "      <td>08-03-2014</td>\n",
       "      <td>38</td>\n",
       "      <td>11</td>\n",
       "      <td>...</td>\n",
       "      <td>5</td>\n",
       "      <td>0</td>\n",
       "      <td>0</td>\n",
       "      <td>0</td>\n",
       "      <td>0</td>\n",
       "      <td>0</td>\n",
       "      <td>0</td>\n",
       "      <td>3</td>\n",
       "      <td>11</td>\n",
       "      <td>0</td>\n",
       "    </tr>\n",
       "    <tr>\n",
       "      <th>2</th>\n",
       "      <td>4141</td>\n",
       "      <td>1965</td>\n",
       "      <td>Graduation</td>\n",
       "      <td>Together</td>\n",
       "      <td>71613.0</td>\n",
       "      <td>0</td>\n",
       "      <td>0</td>\n",
       "      <td>21-08-2013</td>\n",
       "      <td>26</td>\n",
       "      <td>426</td>\n",
       "      <td>...</td>\n",
       "      <td>4</td>\n",
       "      <td>0</td>\n",
       "      <td>0</td>\n",
       "      <td>0</td>\n",
       "      <td>0</td>\n",
       "      <td>0</td>\n",
       "      <td>0</td>\n",
       "      <td>3</td>\n",
       "      <td>11</td>\n",
       "      <td>0</td>\n",
       "    </tr>\n",
       "    <tr>\n",
       "      <th>3</th>\n",
       "      <td>6182</td>\n",
       "      <td>1984</td>\n",
       "      <td>Graduation</td>\n",
       "      <td>Together</td>\n",
       "      <td>26646.0</td>\n",
       "      <td>1</td>\n",
       "      <td>0</td>\n",
       "      <td>10-02-2014</td>\n",
       "      <td>26</td>\n",
       "      <td>11</td>\n",
       "      <td>...</td>\n",
       "      <td>6</td>\n",
       "      <td>0</td>\n",
       "      <td>0</td>\n",
       "      <td>0</td>\n",
       "      <td>0</td>\n",
       "      <td>0</td>\n",
       "      <td>0</td>\n",
       "      <td>3</td>\n",
       "      <td>11</td>\n",
       "      <td>0</td>\n",
       "    </tr>\n",
       "    <tr>\n",
       "      <th>4</th>\n",
       "      <td>5324</td>\n",
       "      <td>1981</td>\n",
       "      <td>PhD</td>\n",
       "      <td>Married</td>\n",
       "      <td>58293.0</td>\n",
       "      <td>1</td>\n",
       "      <td>0</td>\n",
       "      <td>19-01-2014</td>\n",
       "      <td>94</td>\n",
       "      <td>173</td>\n",
       "      <td>...</td>\n",
       "      <td>5</td>\n",
       "      <td>0</td>\n",
       "      <td>0</td>\n",
       "      <td>0</td>\n",
       "      <td>0</td>\n",
       "      <td>0</td>\n",
       "      <td>0</td>\n",
       "      <td>3</td>\n",
       "      <td>11</td>\n",
       "      <td>0</td>\n",
       "    </tr>\n",
       "  </tbody>\n",
       "</table>\n",
       "<p>5 rows × 29 columns</p>\n",
       "</div>"
      ],
      "text/plain": [
       "     ID  Year_Birth   Education Marital_Status   Income  Kidhome  Teenhome  \\\n",
       "0  5524        1957  Graduation         Single  58138.0        0         0   \n",
       "1  2174        1954  Graduation         Single  46344.0        1         1   \n",
       "2  4141        1965  Graduation       Together  71613.0        0         0   \n",
       "3  6182        1984  Graduation       Together  26646.0        1         0   \n",
       "4  5324        1981         PhD        Married  58293.0        1         0   \n",
       "\n",
       "  Dt_Customer  Recency  MntWines  ...  NumWebVisitsMonth  AcceptedCmp3  \\\n",
       "0  04-09-2012       58       635  ...                  7             0   \n",
       "1  08-03-2014       38        11  ...                  5             0   \n",
       "2  21-08-2013       26       426  ...                  4             0   \n",
       "3  10-02-2014       26        11  ...                  6             0   \n",
       "4  19-01-2014       94       173  ...                  5             0   \n",
       "\n",
       "   AcceptedCmp4  AcceptedCmp5  AcceptedCmp1  AcceptedCmp2  Complain  \\\n",
       "0             0             0             0             0         0   \n",
       "1             0             0             0             0         0   \n",
       "2             0             0             0             0         0   \n",
       "3             0             0             0             0         0   \n",
       "4             0             0             0             0         0   \n",
       "\n",
       "   Z_CostContact  Z_Revenue  Response  \n",
       "0              3         11         1  \n",
       "1              3         11         0  \n",
       "2              3         11         0  \n",
       "3              3         11         0  \n",
       "4              3         11         0  \n",
       "\n",
       "[5 rows x 29 columns]"
      ]
     },
     "execution_count": 32,
     "metadata": {},
     "output_type": "execute_result"
    }
   ],
   "source": [
    "df=pd.read_csv('MARKETING CAMPAIGN DATA.csv')\n",
    "df.head()\n"
   ]
  },
  {
   "cell_type": "code",
   "execution_count": 33,
   "id": "cdc85a94",
   "metadata": {},
   "outputs": [
    {
     "name": "stdout",
     "output_type": "stream",
     "text": [
      "<class 'pandas.core.frame.DataFrame'>\n",
      "RangeIndex: 2240 entries, 0 to 2239\n",
      "Data columns (total 29 columns):\n",
      " #   Column               Non-Null Count  Dtype  \n",
      "---  ------               --------------  -----  \n",
      " 0   ID                   2240 non-null   int64  \n",
      " 1   Year_Birth           2240 non-null   int64  \n",
      " 2   Education            2240 non-null   object \n",
      " 3   Marital_Status       2240 non-null   object \n",
      " 4   Income               2216 non-null   float64\n",
      " 5   Kidhome              2240 non-null   int64  \n",
      " 6   Teenhome             2240 non-null   int64  \n",
      " 7   Dt_Customer          2240 non-null   object \n",
      " 8   Recency              2240 non-null   int64  \n",
      " 9   MntWines             2240 non-null   int64  \n",
      " 10  MntFruits            2240 non-null   int64  \n",
      " 11  MntMeatProducts      2240 non-null   int64  \n",
      " 12  MntFishProducts      2240 non-null   int64  \n",
      " 13  MntSweetProducts     2240 non-null   int64  \n",
      " 14  MntGoldProds         2240 non-null   int64  \n",
      " 15  NumDealsPurchases    2240 non-null   int64  \n",
      " 16  NumWebPurchases      2240 non-null   int64  \n",
      " 17  NumCatalogPurchases  2240 non-null   int64  \n",
      " 18  NumStorePurchases    2240 non-null   int64  \n",
      " 19  NumWebVisitsMonth    2240 non-null   int64  \n",
      " 20  AcceptedCmp3         2240 non-null   int64  \n",
      " 21  AcceptedCmp4         2240 non-null   int64  \n",
      " 22  AcceptedCmp5         2240 non-null   int64  \n",
      " 23  AcceptedCmp1         2240 non-null   int64  \n",
      " 24  AcceptedCmp2         2240 non-null   int64  \n",
      " 25  Complain             2240 non-null   int64  \n",
      " 26  Z_CostContact        2240 non-null   int64  \n",
      " 27  Z_Revenue            2240 non-null   int64  \n",
      " 28  Response             2240 non-null   int64  \n",
      "dtypes: float64(1), int64(25), object(3)\n",
      "memory usage: 507.6+ KB\n"
     ]
    }
   ],
   "source": [
    "#inspecting different columns and datatypes\n",
    "df.info()"
   ]
  },
  {
   "cell_type": "code",
   "execution_count": 34,
   "id": "58823fdc",
   "metadata": {},
   "outputs": [
    {
     "data": {
      "text/plain": [
       "ID                      0\n",
       "Year_Birth              0\n",
       "Education               0\n",
       "Marital_Status          0\n",
       "Income                 24\n",
       "Kidhome                 0\n",
       "Teenhome                0\n",
       "Dt_Customer             0\n",
       "Recency                 0\n",
       "MntWines                0\n",
       "MntFruits               0\n",
       "MntMeatProducts         0\n",
       "MntFishProducts         0\n",
       "MntSweetProducts        0\n",
       "MntGoldProds            0\n",
       "NumDealsPurchases       0\n",
       "NumWebPurchases         0\n",
       "NumCatalogPurchases     0\n",
       "NumStorePurchases       0\n",
       "NumWebVisitsMonth       0\n",
       "AcceptedCmp3            0\n",
       "AcceptedCmp4            0\n",
       "AcceptedCmp5            0\n",
       "AcceptedCmp1            0\n",
       "AcceptedCmp2            0\n",
       "Complain                0\n",
       "Z_CostContact           0\n",
       "Z_Revenue               0\n",
       "Response                0\n",
       "dtype: int64"
      ]
     },
     "execution_count": 34,
     "metadata": {},
     "output_type": "execute_result"
    }
   ],
   "source": [
    "#checking for missing values\n",
    "df.isnull().sum()"
   ]
  },
  {
   "cell_type": "code",
   "execution_count": 35,
   "id": "63992da7",
   "metadata": {},
   "outputs": [
    {
     "data": {
      "text/plain": [
       "np.float64(1.0714285714285714)"
      ]
     },
     "execution_count": 35,
     "metadata": {},
     "output_type": "execute_result"
    }
   ],
   "source": [
    "#Dealing with missing values\n",
    "missing_income = df['Income'].isnull().sum()\n",
    "missing_income/len(df)*100"
   ]
  },
  {
   "cell_type": "code",
   "execution_count": 36,
   "id": "5c43c571",
   "metadata": {},
   "outputs": [
    {
     "name": "stdout",
     "output_type": "stream",
     "text": [
      "Median used: 51381.5\n",
      "Missing after fill: 0\n"
     ]
    }
   ],
   "source": [
    "#Imputing missing values in income column \n",
    "#the data is no symetric i will impute with median\n",
    "median_income=df[\"Income\"].median()\n",
    "df[\"Income\"]=df[\"Income\"].fillna(median_income)\n",
    "print(f\"Median used: {median_income}\")\n",
    "print(\"Missing after fill:\", df['Income'].isnull().sum())  # 0"
   ]
  },
  {
   "cell_type": "code",
   "execution_count": 37,
   "id": "1fa22f41",
   "metadata": {
    "scrolled": true
   },
   "outputs": [
    {
     "data": {
      "image/png": "[encoded data removed]",
      "text/plain": [
       "<Figure size 640x480 with 1 Axes>"
      ]
     },
     "metadata": {},
     "output_type": "display_data"
    }
   ],
   "source": [
    "#Histogram of income after imputation\n",
    "df[\"Income\"].hist(bins=10),\n",
    "plt.title('Income Distribution after Cleaning')\n",
    "plt.xlabel('Income')\n",
    "plt.ylabel('frequency');"
   ]
  },
  {
   "cell_type": "code",
   "execution_count": 38,
   "id": "a94a13a2",
   "metadata": {},
   "outputs": [
    {
     "data": {
      "text/html": [
       "<div>\n",
       "<style scoped>\n",
       "    .dataframe tbody tr th:only-of-type {\n",
       "        vertical-align: middle;\n",
       "    }\n",
       "\n",
       "    .dataframe tbody tr th {\n",
       "        vertical-align: top;\n",
       "    }\n",
       "\n",
       "    .dataframe thead th {\n",
       "        text-align: right;\n",
       "    }\n",
       "</style>\n",
       "<table border=\"1\" class=\"dataframe\">\n",
       "  <thead>\n",
       "    <tr style=\"text-align: right;\">\n",
       "      <th></th>\n",
       "      <th>ID</th>\n",
       "      <th>Year_Birth</th>\n",
       "      <th>Income</th>\n",
       "      <th>Kidhome</th>\n",
       "      <th>Teenhome</th>\n",
       "      <th>Recency</th>\n",
       "      <th>MntWines</th>\n",
       "      <th>MntFruits</th>\n",
       "      <th>MntMeatProducts</th>\n",
       "      <th>MntFishProducts</th>\n",
       "      <th>...</th>\n",
       "      <th>NumWebVisitsMonth</th>\n",
       "      <th>AcceptedCmp3</th>\n",
       "      <th>AcceptedCmp4</th>\n",
       "      <th>AcceptedCmp5</th>\n",
       "      <th>AcceptedCmp1</th>\n",
       "      <th>AcceptedCmp2</th>\n",
       "      <th>Complain</th>\n",
       "      <th>Z_CostContact</th>\n",
       "      <th>Z_Revenue</th>\n",
       "      <th>Response</th>\n",
       "    </tr>\n",
       "  </thead>\n",
       "  <tbody>\n",
       "    <tr>\n",
       "      <th>count</th>\n",
       "      <td>2240.000000</td>\n",
       "      <td>2240.000000</td>\n",
       "      <td>2240.000000</td>\n",
       "      <td>2240.000000</td>\n",
       "      <td>2240.000000</td>\n",
       "      <td>2240.000000</td>\n",
       "      <td>2240.000000</td>\n",
       "      <td>2240.000000</td>\n",
       "      <td>2240.000000</td>\n",
       "      <td>2240.000000</td>\n",
       "      <td>...</td>\n",
       "      <td>2240.000000</td>\n",
       "      <td>2240.000000</td>\n",
       "      <td>2240.000000</td>\n",
       "      <td>2240.000000</td>\n",
       "      <td>2240.000000</td>\n",
       "      <td>2240.000000</td>\n",
       "      <td>2240.000000</td>\n",
       "      <td>2240.0</td>\n",
       "      <td>2240.0</td>\n",
       "      <td>2240.000000</td>\n",
       "    </tr>\n",
       "    <tr>\n",
       "      <th>mean</th>\n",
       "      <td>5592.159821</td>\n",
       "      <td>1968.805804</td>\n",
       "      <td>52237.975446</td>\n",
       "      <td>0.444196</td>\n",
       "      <td>0.506250</td>\n",
       "      <td>49.109375</td>\n",
       "      <td>303.935714</td>\n",
       "      <td>26.302232</td>\n",
       "      <td>166.950000</td>\n",
       "      <td>37.525446</td>\n",
       "      <td>...</td>\n",
       "      <td>5.316518</td>\n",
       "      <td>0.072768</td>\n",
       "      <td>0.074554</td>\n",
       "      <td>0.072768</td>\n",
       "      <td>0.064286</td>\n",
       "      <td>0.013393</td>\n",
       "      <td>0.009375</td>\n",
       "      <td>3.0</td>\n",
       "      <td>11.0</td>\n",
       "      <td>0.149107</td>\n",
       "    </tr>\n",
       "    <tr>\n",
       "      <th>std</th>\n",
       "      <td>3246.662198</td>\n",
       "      <td>11.984069</td>\n",
       "      <td>25037.955891</td>\n",
       "      <td>0.538398</td>\n",
       "      <td>0.544538</td>\n",
       "      <td>28.962453</td>\n",
       "      <td>336.597393</td>\n",
       "      <td>39.773434</td>\n",
       "      <td>225.715373</td>\n",
       "      <td>54.628979</td>\n",
       "      <td>...</td>\n",
       "      <td>2.426645</td>\n",
       "      <td>0.259813</td>\n",
       "      <td>0.262728</td>\n",
       "      <td>0.259813</td>\n",
       "      <td>0.245316</td>\n",
       "      <td>0.114976</td>\n",
       "      <td>0.096391</td>\n",
       "      <td>0.0</td>\n",
       "      <td>0.0</td>\n",
       "      <td>0.356274</td>\n",
       "    </tr>\n",
       "    <tr>\n",
       "      <th>min</th>\n",
       "      <td>0.000000</td>\n",
       "      <td>1893.000000</td>\n",
       "      <td>1730.000000</td>\n",
       "      <td>0.000000</td>\n",
       "      <td>0.000000</td>\n",
       "      <td>0.000000</td>\n",
       "      <td>0.000000</td>\n",
       "      <td>0.000000</td>\n",
       "      <td>0.000000</td>\n",
       "      <td>0.000000</td>\n",
       "      <td>...</td>\n",
       "      <td>0.000000</td>\n",
       "      <td>0.000000</td>\n",
       "      <td>0.000000</td>\n",
       "      <td>0.000000</td>\n",
       "      <td>0.000000</td>\n",
       "      <td>0.000000</td>\n",
       "      <td>0.000000</td>\n",
       "      <td>3.0</td>\n",
       "      <td>11.0</td>\n",
       "      <td>0.000000</td>\n",
       "    </tr>\n",
       "    <tr>\n",
       "      <th>25%</th>\n",
       "      <td>2828.250000</td>\n",
       "      <td>1959.000000</td>\n",
       "      <td>35538.750000</td>\n",
       "      <td>0.000000</td>\n",
       "      <td>0.000000</td>\n",
       "      <td>24.000000</td>\n",
       "      <td>23.750000</td>\n",
       "      <td>1.000000</td>\n",
       "      <td>16.000000</td>\n",
       "      <td>3.000000</td>\n",
       "      <td>...</td>\n",
       "      <td>3.000000</td>\n",
       "      <td>0.000000</td>\n",
       "      <td>0.000000</td>\n",
       "      <td>0.000000</td>\n",
       "      <td>0.000000</td>\n",
       "      <td>0.000000</td>\n",
       "      <td>0.000000</td>\n",
       "      <td>3.0</td>\n",
       "      <td>11.0</td>\n",
       "      <td>0.000000</td>\n",
       "    </tr>\n",
       "    <tr>\n",
       "      <th>50%</th>\n",
       "      <td>5458.500000</td>\n",
       "      <td>1970.000000</td>\n",
       "      <td>51381.500000</td>\n",
       "      <td>0.000000</td>\n",
       "      <td>0.000000</td>\n",
       "      <td>49.000000</td>\n",
       "      <td>173.500000</td>\n",
       "      <td>8.000000</td>\n",
       "      <td>67.000000</td>\n",
       "      <td>12.000000</td>\n",
       "      <td>...</td>\n",
       "      <td>6.000000</td>\n",
       "      <td>0.000000</td>\n",
       "      <td>0.000000</td>\n",
       "      <td>0.000000</td>\n",
       "      <td>0.000000</td>\n",
       "      <td>0.000000</td>\n",
       "      <td>0.000000</td>\n",
       "      <td>3.0</td>\n",
       "      <td>11.0</td>\n",
       "      <td>0.000000</td>\n",
       "    </tr>\n",
       "    <tr>\n",
       "      <th>75%</th>\n",
       "      <td>8427.750000</td>\n",
       "      <td>1977.000000</td>\n",
       "      <td>68289.750000</td>\n",
       "      <td>1.000000</td>\n",
       "      <td>1.000000</td>\n",
       "      <td>74.000000</td>\n",
       "      <td>504.250000</td>\n",
       "      <td>33.000000</td>\n",
       "      <td>232.000000</td>\n",
       "      <td>50.000000</td>\n",
       "      <td>...</td>\n",
       "      <td>7.000000</td>\n",
       "      <td>0.000000</td>\n",
       "      <td>0.000000</td>\n",
       "      <td>0.000000</td>\n",
       "      <td>0.000000</td>\n",
       "      <td>0.000000</td>\n",
       "      <td>0.000000</td>\n",
       "      <td>3.0</td>\n",
       "      <td>11.0</td>\n",
       "      <td>0.000000</td>\n",
       "    </tr>\n",
       "    <tr>\n",
       "      <th>max</th>\n",
       "      <td>11191.000000</td>\n",
       "      <td>1996.000000</td>\n",
       "      <td>666666.000000</td>\n",
       "      <td>2.000000</td>\n",
       "      <td>2.000000</td>\n",
       "      <td>99.000000</td>\n",
       "      <td>1493.000000</td>\n",
       "      <td>199.000000</td>\n",
       "      <td>1725.000000</td>\n",
       "      <td>259.000000</td>\n",
       "      <td>...</td>\n",
       "      <td>20.000000</td>\n",
       "      <td>1.000000</td>\n",
       "      <td>1.000000</td>\n",
       "      <td>1.000000</td>\n",
       "      <td>1.000000</td>\n",
       "      <td>1.000000</td>\n",
       "      <td>1.000000</td>\n",
       "      <td>3.0</td>\n",
       "      <td>11.0</td>\n",
       "      <td>1.000000</td>\n",
       "    </tr>\n",
       "  </tbody>\n",
       "</table>\n",
       "<p>8 rows × 26 columns</p>\n",
       "</div>"
      ],
      "text/plain": [
       "                 ID   Year_Birth         Income      Kidhome     Teenhome  \\\n",
       "count   2240.000000  2240.000000    2240.000000  2240.000000  2240.000000   \n",
       "mean    5592.159821  1968.805804   52237.975446     0.444196     0.506250   \n",
       "std     3246.662198    11.984069   25037.955891     0.538398     0.544538   \n",
       "min        0.000000  1893.000000    1730.000000     0.000000     0.000000   \n",
       "25%     2828.250000  1959.000000   35538.750000     0.000000     0.000000   \n",
       "50%     5458.500000  1970.000000   51381.500000     0.000000     0.000000   \n",
       "75%     8427.750000  1977.000000   68289.750000     1.000000     1.000000   \n",
       "max    11191.000000  1996.000000  666666.000000     2.000000     2.000000   \n",
       "\n",
       "           Recency     MntWines    MntFruits  MntMeatProducts  \\\n",
       "count  2240.000000  2240.000000  2240.000000      2240.000000   \n",
       "mean     49.109375   303.935714    26.302232       166.950000   \n",
       "std      28.962453   336.597393    39.773434       225.715373   \n",
       "min       0.000000     0.000000     0.000000         0.000000   \n",
       "25%      24.000000    23.750000     1.000000        16.000000   \n",
       "50%      49.000000   173.500000     8.000000        67.000000   \n",
       "75%      74.000000   504.250000    33.000000       232.000000   \n",
       "max      99.000000  1493.000000   199.000000      1725.000000   \n",
       "\n",
       "       MntFishProducts  ...  NumWebVisitsMonth  AcceptedCmp3  AcceptedCmp4  \\\n",
       "count      2240.000000  ...        2240.000000   2240.000000   2240.000000   \n",
       "mean         37.525446  ...           5.316518      0.072768      0.074554   \n",
       "std          54.628979  ...           2.426645      0.259813      0.262728   \n",
       "min           0.000000  ...           0.000000      0.000000      0.000000   \n",
       "25%           3.000000  ...           3.000000      0.000000      0.000000   \n",
       "50%          12.000000  ...           6.000000      0.000000      0.000000   \n",
       "75%          50.000000  ...           7.000000      0.000000      0.000000   \n",
       "max         259.000000  ...          20.000000      1.000000      1.000000   \n",
       "\n",
       "       AcceptedCmp5  AcceptedCmp1  AcceptedCmp2     Complain  Z_CostContact  \\\n",
       "count   2240.000000   2240.000000   2240.000000  2240.000000         2240.0   \n",
       "mean       0.072768      0.064286      0.013393     0.009375            3.0   \n",
       "std        0.259813      0.245316      0.114976     0.096391            0.0   \n",
       "min        0.000000      0.000000      0.000000     0.000000            3.0   \n",
       "25%        0.000000      0.000000      0.000000     0.000000            3.0   \n",
       "50%        0.000000      0.000000      0.000000     0.000000            3.0   \n",
       "75%        0.000000      0.000000      0.000000     0.000000            3.0   \n",
       "max        1.000000      1.000000      1.000000     1.000000            3.0   \n",
       "\n",
       "       Z_Revenue     Response  \n",
       "count     2240.0  2240.000000  \n",
       "mean        11.0     0.149107  \n",
       "std          0.0     0.356274  \n",
       "min         11.0     0.000000  \n",
       "25%         11.0     0.000000  \n",
       "50%         11.0     0.000000  \n",
       "75%         11.0     0.000000  \n",
       "max         11.0     1.000000  \n",
       "\n",
       "[8 rows x 26 columns]"
      ]
     },
     "execution_count": 38,
     "metadata": {},
     "output_type": "execute_result"
    }
   ],
   "source": [
    "#more EDA\n",
    "df.describe()"
   ]
  },
  {
   "cell_type": "code",
   "execution_count": 39,
   "id": "f4f13092",
   "metadata": {},
   "outputs": [
    {
     "name": "stdout",
     "output_type": "stream",
     "text": [
      "   Year_Birth  Age\n",
      "0        1957   68\n",
      "1        1954   71\n",
      "2        1965   60\n",
      "3        1984   41\n",
      "4        1981   44\n",
      "Age stats: count    2240.000000\n",
      "mean       56.194196\n",
      "std        11.984069\n",
      "min        29.000000\n",
      "25%        48.000000\n",
      "50%        55.000000\n",
      "75%        66.000000\n",
      "max       132.000000\n",
      "Name: Age, dtype: float64\n"
     ]
    }
   ],
   "source": [
    "#adding age to be one of the features\n",
    "# Get current year (dynamically; as of now, it's 2025)\n",
    "current_year = datetime.now().year\n",
    "\n",
    "# Add 'Age' column: current year minus birth year\n",
    "df['Age'] = current_year - df['Year_Birth'] \n",
    "# Quick check\n",
    "print(df[['Year_Birth', 'Age']].head())\n",
    "print(\"Age stats:\", df['Age'].describe())"
   ]
  },
  {
   "cell_type": "code",
   "execution_count": 40,
   "id": "32d77422",
   "metadata": {},
   "outputs": [
    {
     "data": {
      "text/plain": [
       "ID                     2240\n",
       "Year_Birth               59\n",
       "Education                 5\n",
       "Marital_Status            8\n",
       "Income                 1975\n",
       "Kidhome                   3\n",
       "Teenhome                  3\n",
       "Dt_Customer             663\n",
       "Recency                 100\n",
       "MntWines                776\n",
       "MntFruits               158\n",
       "MntMeatProducts         558\n",
       "MntFishProducts         182\n",
       "MntSweetProducts        177\n",
       "MntGoldProds            213\n",
       "NumDealsPurchases        15\n",
       "NumWebPurchases          15\n",
       "NumCatalogPurchases      14\n",
       "NumStorePurchases        14\n",
       "NumWebVisitsMonth        16\n",
       "AcceptedCmp3              2\n",
       "AcceptedCmp4              2\n",
       "AcceptedCmp5              2\n",
       "AcceptedCmp1              2\n",
       "AcceptedCmp2              2\n",
       "Complain                  2\n",
       "Z_CostContact             1\n",
       "Z_Revenue                 1\n",
       "Response                  2\n",
       "Age                      59\n",
       "dtype: int64"
      ]
     },
     "execution_count": 40,
     "metadata": {},
     "output_type": "execute_result"
    }
   ],
   "source": [
    "#Identifying high_cardinality features and low_cardinality features \n",
    "df.nunique()"
   ]
  },
  {
   "cell_type": "code",
   "execution_count": 41,
   "id": "67c3826a",
   "metadata": {
    "vscode": {
     "languageId": "markdown"
    }
   },
   "outputs": [
    {
     "name": "stdout",
     "output_type": "stream",
     "text": [
      "<class 'pandas.core.frame.DataFrame'>\n",
      "RangeIndex: 2240 entries, 0 to 2239\n",
      "Data columns (total 26 columns):\n",
      " #   Column               Non-Null Count  Dtype  \n",
      "---  ------               --------------  -----  \n",
      " 0   Education            2240 non-null   object \n",
      " 1   Marital_Status       2240 non-null   object \n",
      " 2   Income               2240 non-null   float64\n",
      " 3   Kidhome              2240 non-null   int64  \n",
      " 4   Teenhome             2240 non-null   int64  \n",
      " 5   Dt_Customer          2240 non-null   object \n",
      " 6   Recency              2240 non-null   int64  \n",
      " 7   MntWines             2240 non-null   int64  \n",
      " 8   MntFruits            2240 non-null   int64  \n",
      " 9   MntMeatProducts      2240 non-null   int64  \n",
      " 10  MntFishProducts      2240 non-null   int64  \n",
      " 11  MntSweetProducts     2240 non-null   int64  \n",
      " 12  MntGoldProds         2240 non-null   int64  \n",
      " 13  NumDealsPurchases    2240 non-null   int64  \n",
      " 14  NumWebPurchases      2240 non-null   int64  \n",
      " 15  NumCatalogPurchases  2240 non-null   int64  \n",
      " 16  NumStorePurchases    2240 non-null   int64  \n",
      " 17  NumWebVisitsMonth    2240 non-null   int64  \n",
      " 18  AcceptedCmp3         2240 non-null   int64  \n",
      " 19  AcceptedCmp4         2240 non-null   int64  \n",
      " 20  AcceptedCmp5         2240 non-null   int64  \n",
      " 21  AcceptedCmp1         2240 non-null   int64  \n",
      " 22  AcceptedCmp2         2240 non-null   int64  \n",
      " 23  Complain             2240 non-null   int64  \n",
      " 24  Response             2240 non-null   int64  \n",
      " 25  Age                  2240 non-null   int64  \n",
      "dtypes: float64(1), int64(22), object(3)\n",
      "memory usage: 455.1+ KB\n"
     ]
    }
   ],
   "source": [
    "#Droping high cardinality features (ID),low cardinality features (Z_CostContact,Z_Revenue)and year_Birth which we used to calculate age \n",
    "\n",
    "df=df.drop(columns=[\"Z_CostContact\",\"Z_Revenue\",\"ID\",\"Year_Birth\"])\n",
    "df.info()"
   ]
  },
  {
   "cell_type": "code",
   "execution_count": 42,
   "id": "1280f628",
   "metadata": {},
   "outputs": [
    {
     "data": {
      "text/html": [
       "<div>\n",
       "<style scoped>\n",
       "    .dataframe tbody tr th:only-of-type {\n",
       "        vertical-align: middle;\n",
       "    }\n",
       "\n",
       "    .dataframe tbody tr th {\n",
       "        vertical-align: top;\n",
       "    }\n",
       "\n",
       "    .dataframe thead th {\n",
       "        text-align: right;\n",
       "    }\n",
       "</style>\n",
       "<table border=\"1\" class=\"dataframe\">\n",
       "  <thead>\n",
       "    <tr style=\"text-align: right;\">\n",
       "      <th></th>\n",
       "      <th>Income</th>\n",
       "      <th>Kidhome</th>\n",
       "      <th>Teenhome</th>\n",
       "      <th>Recency</th>\n",
       "      <th>MntWines</th>\n",
       "      <th>MntFruits</th>\n",
       "      <th>MntMeatProducts</th>\n",
       "      <th>MntFishProducts</th>\n",
       "      <th>MntSweetProducts</th>\n",
       "      <th>MntGoldProds</th>\n",
       "      <th>...</th>\n",
       "      <th>NumStorePurchases</th>\n",
       "      <th>NumWebVisitsMonth</th>\n",
       "      <th>AcceptedCmp3</th>\n",
       "      <th>AcceptedCmp4</th>\n",
       "      <th>AcceptedCmp5</th>\n",
       "      <th>AcceptedCmp1</th>\n",
       "      <th>AcceptedCmp2</th>\n",
       "      <th>Complain</th>\n",
       "      <th>Response</th>\n",
       "      <th>Age</th>\n",
       "    </tr>\n",
       "  </thead>\n",
       "  <tbody>\n",
       "    <tr>\n",
       "      <th>Income</th>\n",
       "      <td>1.000000</td>\n",
       "      <td>-0.425326</td>\n",
       "      <td>0.018965</td>\n",
       "      <td>-0.004061</td>\n",
       "      <td>0.576903</td>\n",
       "      <td>0.428791</td>\n",
       "      <td>0.577805</td>\n",
       "      <td>0.437564</td>\n",
       "      <td>0.436131</td>\n",
       "      <td>0.321938</td>\n",
       "      <td>...</td>\n",
       "      <td>0.526600</td>\n",
       "      <td>-0.549785</td>\n",
       "      <td>-0.016064</td>\n",
       "      <td>0.182718</td>\n",
       "      <td>0.334893</td>\n",
       "      <td>0.274891</td>\n",
       "      <td>0.087581</td>\n",
       "      <td>-0.027187</td>\n",
       "      <td>0.132867</td>\n",
       "      <td>0.160899</td>\n",
       "    </tr>\n",
       "    <tr>\n",
       "      <th>Kidhome</th>\n",
       "      <td>-0.425326</td>\n",
       "      <td>1.000000</td>\n",
       "      <td>-0.036133</td>\n",
       "      <td>0.008827</td>\n",
       "      <td>-0.496297</td>\n",
       "      <td>-0.372581</td>\n",
       "      <td>-0.437129</td>\n",
       "      <td>-0.387644</td>\n",
       "      <td>-0.370673</td>\n",
       "      <td>-0.349595</td>\n",
       "      <td>...</td>\n",
       "      <td>-0.499683</td>\n",
       "      <td>0.447846</td>\n",
       "      <td>0.014674</td>\n",
       "      <td>-0.161600</td>\n",
       "      <td>-0.205634</td>\n",
       "      <td>-0.172339</td>\n",
       "      <td>-0.081716</td>\n",
       "      <td>0.040207</td>\n",
       "      <td>-0.080008</td>\n",
       "      <td>-0.230176</td>\n",
       "    </tr>\n",
       "    <tr>\n",
       "      <th>Teenhome</th>\n",
       "      <td>0.018965</td>\n",
       "      <td>-0.036133</td>\n",
       "      <td>1.000000</td>\n",
       "      <td>0.016198</td>\n",
       "      <td>0.004846</td>\n",
       "      <td>-0.176764</td>\n",
       "      <td>-0.261160</td>\n",
       "      <td>-0.204187</td>\n",
       "      <td>-0.162475</td>\n",
       "      <td>-0.021725</td>\n",
       "      <td>...</td>\n",
       "      <td>0.050695</td>\n",
       "      <td>0.134884</td>\n",
       "      <td>-0.042677</td>\n",
       "      <td>0.038886</td>\n",
       "      <td>-0.191050</td>\n",
       "      <td>-0.140090</td>\n",
       "      <td>-0.015605</td>\n",
       "      <td>0.003138</td>\n",
       "      <td>-0.154446</td>\n",
       "      <td>0.352111</td>\n",
       "    </tr>\n",
       "    <tr>\n",
       "      <th>Recency</th>\n",
       "      <td>-0.004061</td>\n",
       "      <td>0.008827</td>\n",
       "      <td>0.016198</td>\n",
       "      <td>1.000000</td>\n",
       "      <td>0.016064</td>\n",
       "      <td>-0.004306</td>\n",
       "      <td>0.023056</td>\n",
       "      <td>0.001079</td>\n",
       "      <td>0.022670</td>\n",
       "      <td>0.016693</td>\n",
       "      <td>...</td>\n",
       "      <td>0.000799</td>\n",
       "      <td>-0.021445</td>\n",
       "      <td>-0.032991</td>\n",
       "      <td>0.018826</td>\n",
       "      <td>0.000129</td>\n",
       "      <td>-0.019283</td>\n",
       "      <td>-0.001781</td>\n",
       "      <td>0.013231</td>\n",
       "      <td>-0.198437</td>\n",
       "      <td>0.019871</td>\n",
       "    </tr>\n",
       "    <tr>\n",
       "      <th>MntWines</th>\n",
       "      <td>0.576903</td>\n",
       "      <td>-0.496297</td>\n",
       "      <td>0.004846</td>\n",
       "      <td>0.016064</td>\n",
       "      <td>1.000000</td>\n",
       "      <td>0.389637</td>\n",
       "      <td>0.562667</td>\n",
       "      <td>0.399753</td>\n",
       "      <td>0.386581</td>\n",
       "      <td>0.387516</td>\n",
       "      <td>...</td>\n",
       "      <td>0.642100</td>\n",
       "      <td>-0.320653</td>\n",
       "      <td>0.062202</td>\n",
       "      <td>0.373286</td>\n",
       "      <td>0.472613</td>\n",
       "      <td>0.354133</td>\n",
       "      <td>0.205907</td>\n",
       "      <td>-0.039007</td>\n",
       "      <td>0.247254</td>\n",
       "      <td>0.157773</td>\n",
       "    </tr>\n",
       "    <tr>\n",
       "      <th>MntFruits</th>\n",
       "      <td>0.428791</td>\n",
       "      <td>-0.372581</td>\n",
       "      <td>-0.176764</td>\n",
       "      <td>-0.004306</td>\n",
       "      <td>0.389637</td>\n",
       "      <td>1.000000</td>\n",
       "      <td>0.543105</td>\n",
       "      <td>0.594804</td>\n",
       "      <td>0.567164</td>\n",
       "      <td>0.392995</td>\n",
       "      <td>...</td>\n",
       "      <td>0.461758</td>\n",
       "      <td>-0.418383</td>\n",
       "      <td>0.014727</td>\n",
       "      <td>0.010152</td>\n",
       "      <td>0.215833</td>\n",
       "      <td>0.194748</td>\n",
       "      <td>-0.009773</td>\n",
       "      <td>-0.005166</td>\n",
       "      <td>0.125289</td>\n",
       "      <td>0.017917</td>\n",
       "    </tr>\n",
       "    <tr>\n",
       "      <th>MntMeatProducts</th>\n",
       "      <td>0.577805</td>\n",
       "      <td>-0.437129</td>\n",
       "      <td>-0.261160</td>\n",
       "      <td>0.023056</td>\n",
       "      <td>0.562667</td>\n",
       "      <td>0.543105</td>\n",
       "      <td>1.000000</td>\n",
       "      <td>0.568402</td>\n",
       "      <td>0.523846</td>\n",
       "      <td>0.350609</td>\n",
       "      <td>...</td>\n",
       "      <td>0.479659</td>\n",
       "      <td>-0.539470</td>\n",
       "      <td>0.018272</td>\n",
       "      <td>0.102912</td>\n",
       "      <td>0.373769</td>\n",
       "      <td>0.309761</td>\n",
       "      <td>0.043033</td>\n",
       "      <td>-0.023483</td>\n",
       "      <td>0.236335</td>\n",
       "      <td>0.030872</td>\n",
       "    </tr>\n",
       "    <tr>\n",
       "      <th>MntFishProducts</th>\n",
       "      <td>0.437564</td>\n",
       "      <td>-0.387644</td>\n",
       "      <td>-0.204187</td>\n",
       "      <td>0.001079</td>\n",
       "      <td>0.399753</td>\n",
       "      <td>0.594804</td>\n",
       "      <td>0.568402</td>\n",
       "      <td>1.000000</td>\n",
       "      <td>0.579870</td>\n",
       "      <td>0.422875</td>\n",
       "      <td>...</td>\n",
       "      <td>0.459855</td>\n",
       "      <td>-0.446003</td>\n",
       "      <td>0.000357</td>\n",
       "      <td>0.016843</td>\n",
       "      <td>0.199578</td>\n",
       "      <td>0.260762</td>\n",
       "      <td>0.002577</td>\n",
       "      <td>-0.020953</td>\n",
       "      <td>0.111331</td>\n",
       "      <td>0.041625</td>\n",
       "    </tr>\n",
       "    <tr>\n",
       "      <th>MntSweetProducts</th>\n",
       "      <td>0.436131</td>\n",
       "      <td>-0.370673</td>\n",
       "      <td>-0.162475</td>\n",
       "      <td>0.022670</td>\n",
       "      <td>0.386581</td>\n",
       "      <td>0.567164</td>\n",
       "      <td>0.523846</td>\n",
       "      <td>0.579870</td>\n",
       "      <td>1.000000</td>\n",
       "      <td>0.369724</td>\n",
       "      <td>...</td>\n",
       "      <td>0.448756</td>\n",
       "      <td>-0.423294</td>\n",
       "      <td>0.001530</td>\n",
       "      <td>0.028641</td>\n",
       "      <td>0.259590</td>\n",
       "      <td>0.241818</td>\n",
       "      <td>0.009985</td>\n",
       "      <td>-0.022485</td>\n",
       "      <td>0.117372</td>\n",
       "      <td>0.018133</td>\n",
       "    </tr>\n",
       "    <tr>\n",
       "      <th>MntGoldProds</th>\n",
       "      <td>0.321938</td>\n",
       "      <td>-0.349595</td>\n",
       "      <td>-0.021725</td>\n",
       "      <td>0.016693</td>\n",
       "      <td>0.387516</td>\n",
       "      <td>0.392995</td>\n",
       "      <td>0.350609</td>\n",
       "      <td>0.422875</td>\n",
       "      <td>0.369724</td>\n",
       "      <td>1.000000</td>\n",
       "      <td>...</td>\n",
       "      <td>0.381678</td>\n",
       "      <td>-0.250719</td>\n",
       "      <td>0.123091</td>\n",
       "      <td>0.022268</td>\n",
       "      <td>0.181021</td>\n",
       "      <td>0.166396</td>\n",
       "      <td>0.049990</td>\n",
       "      <td>-0.030861</td>\n",
       "      <td>0.139850</td>\n",
       "      <td>0.061818</td>\n",
       "    </tr>\n",
       "    <tr>\n",
       "      <th>NumDealsPurchases</th>\n",
       "      <td>-0.082315</td>\n",
       "      <td>0.221798</td>\n",
       "      <td>0.387741</td>\n",
       "      <td>-0.001098</td>\n",
       "      <td>0.010940</td>\n",
       "      <td>-0.132114</td>\n",
       "      <td>-0.122415</td>\n",
       "      <td>-0.139361</td>\n",
       "      <td>-0.120100</td>\n",
       "      <td>0.049085</td>\n",
       "      <td>...</td>\n",
       "      <td>0.068879</td>\n",
       "      <td>0.347633</td>\n",
       "      <td>-0.023109</td>\n",
       "      <td>0.015594</td>\n",
       "      <td>-0.183248</td>\n",
       "      <td>-0.123244</td>\n",
       "      <td>-0.037695</td>\n",
       "      <td>0.000420</td>\n",
       "      <td>0.002238</td>\n",
       "      <td>0.060846</td>\n",
       "    </tr>\n",
       "    <tr>\n",
       "      <th>NumWebPurchases</th>\n",
       "      <td>0.380554</td>\n",
       "      <td>-0.361647</td>\n",
       "      <td>0.155500</td>\n",
       "      <td>-0.010726</td>\n",
       "      <td>0.542265</td>\n",
       "      <td>0.296735</td>\n",
       "      <td>0.293761</td>\n",
       "      <td>0.293681</td>\n",
       "      <td>0.348544</td>\n",
       "      <td>0.421836</td>\n",
       "      <td>...</td>\n",
       "      <td>0.502713</td>\n",
       "      <td>-0.055846</td>\n",
       "      <td>0.042176</td>\n",
       "      <td>0.155903</td>\n",
       "      <td>0.138684</td>\n",
       "      <td>0.155143</td>\n",
       "      <td>0.034188</td>\n",
       "      <td>-0.016310</td>\n",
       "      <td>0.148730</td>\n",
       "      <td>0.145040</td>\n",
       "    </tr>\n",
       "    <tr>\n",
       "      <th>NumCatalogPurchases</th>\n",
       "      <td>0.586826</td>\n",
       "      <td>-0.502237</td>\n",
       "      <td>-0.110769</td>\n",
       "      <td>0.025110</td>\n",
       "      <td>0.635226</td>\n",
       "      <td>0.487917</td>\n",
       "      <td>0.723827</td>\n",
       "      <td>0.534478</td>\n",
       "      <td>0.490924</td>\n",
       "      <td>0.437697</td>\n",
       "      <td>...</td>\n",
       "      <td>0.518738</td>\n",
       "      <td>-0.520364</td>\n",
       "      <td>0.104730</td>\n",
       "      <td>0.139247</td>\n",
       "      <td>0.322321</td>\n",
       "      <td>0.308097</td>\n",
       "      <td>0.099852</td>\n",
       "      <td>-0.020453</td>\n",
       "      <td>0.220810</td>\n",
       "      <td>0.121275</td>\n",
       "    </tr>\n",
       "    <tr>\n",
       "      <th>NumStorePurchases</th>\n",
       "      <td>0.526600</td>\n",
       "      <td>-0.499683</td>\n",
       "      <td>0.050695</td>\n",
       "      <td>0.000799</td>\n",
       "      <td>0.642100</td>\n",
       "      <td>0.461758</td>\n",
       "      <td>0.479659</td>\n",
       "      <td>0.459855</td>\n",
       "      <td>0.448756</td>\n",
       "      <td>0.381678</td>\n",
       "      <td>...</td>\n",
       "      <td>1.000000</td>\n",
       "      <td>-0.428473</td>\n",
       "      <td>-0.067577</td>\n",
       "      <td>0.179379</td>\n",
       "      <td>0.214790</td>\n",
       "      <td>0.183249</td>\n",
       "      <td>0.085189</td>\n",
       "      <td>-0.016524</td>\n",
       "      <td>0.039363</td>\n",
       "      <td>0.128272</td>\n",
       "    </tr>\n",
       "    <tr>\n",
       "      <th>NumWebVisitsMonth</th>\n",
       "      <td>-0.549785</td>\n",
       "      <td>0.447846</td>\n",
       "      <td>0.134884</td>\n",
       "      <td>-0.021445</td>\n",
       "      <td>-0.320653</td>\n",
       "      <td>-0.418383</td>\n",
       "      <td>-0.539470</td>\n",
       "      <td>-0.446003</td>\n",
       "      <td>-0.423294</td>\n",
       "      <td>-0.250719</td>\n",
       "      <td>...</td>\n",
       "      <td>-0.428473</td>\n",
       "      <td>1.000000</td>\n",
       "      <td>0.061211</td>\n",
       "      <td>-0.032126</td>\n",
       "      <td>-0.278113</td>\n",
       "      <td>-0.192502</td>\n",
       "      <td>-0.007196</td>\n",
       "      <td>0.019769</td>\n",
       "      <td>-0.003987</td>\n",
       "      <td>-0.121139</td>\n",
       "    </tr>\n",
       "    <tr>\n",
       "      <th>AcceptedCmp3</th>\n",
       "      <td>-0.016064</td>\n",
       "      <td>0.014674</td>\n",
       "      <td>-0.042677</td>\n",
       "      <td>-0.032991</td>\n",
       "      <td>0.062202</td>\n",
       "      <td>0.014727</td>\n",
       "      <td>0.018272</td>\n",
       "      <td>0.000357</td>\n",
       "      <td>0.001530</td>\n",
       "      <td>0.123091</td>\n",
       "      <td>...</td>\n",
       "      <td>-0.067577</td>\n",
       "      <td>0.061211</td>\n",
       "      <td>1.000000</td>\n",
       "      <td>-0.079512</td>\n",
       "      <td>0.080316</td>\n",
       "      <td>0.094751</td>\n",
       "      <td>0.072020</td>\n",
       "      <td>0.008415</td>\n",
       "      <td>0.254258</td>\n",
       "      <td>-0.061774</td>\n",
       "    </tr>\n",
       "    <tr>\n",
       "      <th>AcceptedCmp4</th>\n",
       "      <td>0.182718</td>\n",
       "      <td>-0.161600</td>\n",
       "      <td>0.038886</td>\n",
       "      <td>0.018826</td>\n",
       "      <td>0.373286</td>\n",
       "      <td>0.010152</td>\n",
       "      <td>0.102912</td>\n",
       "      <td>0.016843</td>\n",
       "      <td>0.028641</td>\n",
       "      <td>0.022268</td>\n",
       "      <td>...</td>\n",
       "      <td>0.179379</td>\n",
       "      <td>-0.032126</td>\n",
       "      <td>-0.079512</td>\n",
       "      <td>1.000000</td>\n",
       "      <td>0.306526</td>\n",
       "      <td>0.251300</td>\n",
       "      <td>0.292210</td>\n",
       "      <td>-0.027611</td>\n",
       "      <td>0.177019</td>\n",
       "      <td>0.060510</td>\n",
       "    </tr>\n",
       "    <tr>\n",
       "      <th>AcceptedCmp5</th>\n",
       "      <td>0.334893</td>\n",
       "      <td>-0.205634</td>\n",
       "      <td>-0.191050</td>\n",
       "      <td>0.000129</td>\n",
       "      <td>0.472613</td>\n",
       "      <td>0.215833</td>\n",
       "      <td>0.373769</td>\n",
       "      <td>0.199578</td>\n",
       "      <td>0.259590</td>\n",
       "      <td>0.181021</td>\n",
       "      <td>...</td>\n",
       "      <td>0.214790</td>\n",
       "      <td>-0.278113</td>\n",
       "      <td>0.080316</td>\n",
       "      <td>0.306526</td>\n",
       "      <td>1.000000</td>\n",
       "      <td>0.403078</td>\n",
       "      <td>0.221533</td>\n",
       "      <td>-0.009419</td>\n",
       "      <td>0.326634</td>\n",
       "      <td>-0.007123</td>\n",
       "    </tr>\n",
       "    <tr>\n",
       "      <th>AcceptedCmp1</th>\n",
       "      <td>0.274891</td>\n",
       "      <td>-0.172339</td>\n",
       "      <td>-0.140090</td>\n",
       "      <td>-0.019283</td>\n",
       "      <td>0.354133</td>\n",
       "      <td>0.194748</td>\n",
       "      <td>0.309761</td>\n",
       "      <td>0.260762</td>\n",
       "      <td>0.241818</td>\n",
       "      <td>0.166396</td>\n",
       "      <td>...</td>\n",
       "      <td>0.183249</td>\n",
       "      <td>-0.192502</td>\n",
       "      <td>0.094751</td>\n",
       "      <td>0.251300</td>\n",
       "      <td>0.403078</td>\n",
       "      <td>1.000000</td>\n",
       "      <td>0.175315</td>\n",
       "      <td>-0.025499</td>\n",
       "      <td>0.293982</td>\n",
       "      <td>0.005930</td>\n",
       "    </tr>\n",
       "    <tr>\n",
       "      <th>AcceptedCmp2</th>\n",
       "      <td>0.087581</td>\n",
       "      <td>-0.081716</td>\n",
       "      <td>-0.015605</td>\n",
       "      <td>-0.001781</td>\n",
       "      <td>0.205907</td>\n",
       "      <td>-0.009773</td>\n",
       "      <td>0.043033</td>\n",
       "      <td>0.002577</td>\n",
       "      <td>0.009985</td>\n",
       "      <td>0.049990</td>\n",
       "      <td>...</td>\n",
       "      <td>0.085189</td>\n",
       "      <td>-0.007196</td>\n",
       "      <td>0.072020</td>\n",
       "      <td>0.292210</td>\n",
       "      <td>0.221533</td>\n",
       "      <td>0.175315</td>\n",
       "      <td>1.000000</td>\n",
       "      <td>-0.011334</td>\n",
       "      <td>0.169293</td>\n",
       "      <td>0.006539</td>\n",
       "    </tr>\n",
       "    <tr>\n",
       "      <th>Complain</th>\n",
       "      <td>-0.027187</td>\n",
       "      <td>0.040207</td>\n",
       "      <td>0.003138</td>\n",
       "      <td>0.013231</td>\n",
       "      <td>-0.039007</td>\n",
       "      <td>-0.005166</td>\n",
       "      <td>-0.023483</td>\n",
       "      <td>-0.020953</td>\n",
       "      <td>-0.022485</td>\n",
       "      <td>-0.030861</td>\n",
       "      <td>...</td>\n",
       "      <td>-0.016524</td>\n",
       "      <td>0.019769</td>\n",
       "      <td>0.008415</td>\n",
       "      <td>-0.027611</td>\n",
       "      <td>-0.009419</td>\n",
       "      <td>-0.025499</td>\n",
       "      <td>-0.011334</td>\n",
       "      <td>1.000000</td>\n",
       "      <td>-0.001707</td>\n",
       "      <td>0.030128</td>\n",
       "    </tr>\n",
       "    <tr>\n",
       "      <th>Response</th>\n",
       "      <td>0.132867</td>\n",
       "      <td>-0.080008</td>\n",
       "      <td>-0.154446</td>\n",
       "      <td>-0.198437</td>\n",
       "      <td>0.247254</td>\n",
       "      <td>0.125289</td>\n",
       "      <td>0.236335</td>\n",
       "      <td>0.111331</td>\n",
       "      <td>0.117372</td>\n",
       "      <td>0.139850</td>\n",
       "      <td>...</td>\n",
       "      <td>0.039363</td>\n",
       "      <td>-0.003987</td>\n",
       "      <td>0.254258</td>\n",
       "      <td>0.177019</td>\n",
       "      <td>0.326634</td>\n",
       "      <td>0.293982</td>\n",
       "      <td>0.169293</td>\n",
       "      <td>-0.001707</td>\n",
       "      <td>1.000000</td>\n",
       "      <td>-0.021325</td>\n",
       "    </tr>\n",
       "    <tr>\n",
       "      <th>Age</th>\n",
       "      <td>0.160899</td>\n",
       "      <td>-0.230176</td>\n",
       "      <td>0.352111</td>\n",
       "      <td>0.019871</td>\n",
       "      <td>0.157773</td>\n",
       "      <td>0.017917</td>\n",
       "      <td>0.030872</td>\n",
       "      <td>0.041625</td>\n",
       "      <td>0.018133</td>\n",
       "      <td>0.061818</td>\n",
       "      <td>...</td>\n",
       "      <td>0.128272</td>\n",
       "      <td>-0.121139</td>\n",
       "      <td>-0.061774</td>\n",
       "      <td>0.060510</td>\n",
       "      <td>-0.007123</td>\n",
       "      <td>0.005930</td>\n",
       "      <td>0.006539</td>\n",
       "      <td>0.030128</td>\n",
       "      <td>-0.021325</td>\n",
       "      <td>1.000000</td>\n",
       "    </tr>\n",
       "  </tbody>\n",
       "</table>\n",
       "<p>23 rows × 23 columns</p>\n",
       "</div>"
      ],
      "text/plain": [
       "                       Income   Kidhome  Teenhome   Recency  MntWines  \\\n",
       "Income               1.000000 -0.425326  0.018965 -0.004061  0.576903   \n",
       "Kidhome             -0.425326  1.000000 -0.036133  0.008827 -0.496297   \n",
       "Teenhome             0.018965 -0.036133  1.000000  0.016198  0.004846   \n",
       "Recency             -0.004061  0.008827  0.016198  1.000000  0.016064   \n",
       "MntWines             0.576903 -0.496297  0.004846  0.016064  1.000000   \n",
       "MntFruits            0.428791 -0.372581 -0.176764 -0.004306  0.389637   \n",
       "MntMeatProducts      0.577805 -0.437129 -0.261160  0.023056  0.562667   \n",
       "MntFishProducts      0.437564 -0.387644 -0.204187  0.001079  0.399753   \n",
       "MntSweetProducts     0.436131 -0.370673 -0.162475  0.022670  0.386581   \n",
       "MntGoldProds         0.321938 -0.349595 -0.021725  0.016693  0.387516   \n",
       "NumDealsPurchases   -0.082315  0.221798  0.387741 -0.001098  0.010940   \n",
       "NumWebPurchases      0.380554 -0.361647  0.155500 -0.010726  0.542265   \n",
       "NumCatalogPurchases  0.586826 -0.502237 -0.110769  0.025110  0.635226   \n",
       "NumStorePurchases    0.526600 -0.499683  0.050695  0.000799  0.642100   \n",
       "NumWebVisitsMonth   -0.549785  0.447846  0.134884 -0.021445 -0.320653   \n",
       "AcceptedCmp3        -0.016064  0.014674 -0.042677 -0.032991  0.062202   \n",
       "AcceptedCmp4         0.182718 -0.161600  0.038886  0.018826  0.373286   \n",
       "AcceptedCmp5         0.334893 -0.205634 -0.191050  0.000129  0.472613   \n",
       "AcceptedCmp1         0.274891 -0.172339 -0.140090 -0.019283  0.354133   \n",
       "AcceptedCmp2         0.087581 -0.081716 -0.015605 -0.001781  0.205907   \n",
       "Complain            -0.027187  0.040207  0.003138  0.013231 -0.039007   \n",
       "Response             0.132867 -0.080008 -0.154446 -0.198437  0.247254   \n",
       "Age                  0.160899 -0.230176  0.352111  0.019871  0.157773   \n",
       "\n",
       "                     MntFruits  MntMeatProducts  MntFishProducts  \\\n",
       "Income                0.428791         0.577805         0.437564   \n",
       "Kidhome              -0.372581        -0.437129        -0.387644   \n",
       "Teenhome             -0.176764        -0.261160        -0.204187   \n",
       "Recency              -0.004306         0.023056         0.001079   \n",
       "MntWines              0.389637         0.562667         0.399753   \n",
       "MntFruits             1.000000         0.543105         0.594804   \n",
       "MntMeatProducts       0.543105         1.000000         0.568402   \n",
       "MntFishProducts       0.594804         0.568402         1.000000   \n",
       "MntSweetProducts      0.567164         0.523846         0.579870   \n",
       "MntGoldProds          0.392995         0.350609         0.422875   \n",
       "NumDealsPurchases    -0.132114        -0.122415        -0.139361   \n",
       "NumWebPurchases       0.296735         0.293761         0.293681   \n",
       "NumCatalogPurchases   0.487917         0.723827         0.534478   \n",
       "NumStorePurchases     0.461758         0.479659         0.459855   \n",
       "NumWebVisitsMonth    -0.418383        -0.539470        -0.446003   \n",
       "AcceptedCmp3          0.014727         0.018272         0.000357   \n",
       "AcceptedCmp4          0.010152         0.102912         0.016843   \n",
       "AcceptedCmp5          0.215833         0.373769         0.199578   \n",
       "AcceptedCmp1          0.194748         0.309761         0.260762   \n",
       "AcceptedCmp2         -0.009773         0.043033         0.002577   \n",
       "Complain             -0.005166        -0.023483        -0.020953   \n",
       "Response              0.125289         0.236335         0.111331   \n",
       "Age                   0.017917         0.030872         0.041625   \n",
       "\n",
       "                     MntSweetProducts  MntGoldProds  ...  NumStorePurchases  \\\n",
       "Income                       0.436131      0.321938  ...           0.526600   \n",
       "Kidhome                     -0.370673     -0.349595  ...          -0.499683   \n",
       "Teenhome                    -0.162475     -0.021725  ...           0.050695   \n",
       "Recency                      0.022670      0.016693  ...           0.000799   \n",
       "MntWines                     0.386581      0.387516  ...           0.642100   \n",
       "MntFruits                    0.567164      0.392995  ...           0.461758   \n",
       "MntMeatProducts              0.523846      0.350609  ...           0.479659   \n",
       "MntFishProducts              0.579870      0.422875  ...           0.459855   \n",
       "MntSweetProducts             1.000000      0.369724  ...           0.448756   \n",
       "MntGoldProds                 0.369724      1.000000  ...           0.381678   \n",
       "NumDealsPurchases           -0.120100      0.049085  ...           0.068879   \n",
       "NumWebPurchases              0.348544      0.421836  ...           0.502713   \n",
       "NumCatalogPurchases          0.490924      0.437697  ...           0.518738   \n",
       "NumStorePurchases            0.448756      0.381678  ...           1.000000   \n",
       "NumWebVisitsMonth           -0.423294     -0.250719  ...          -0.428473   \n",
       "AcceptedCmp3                 0.001530      0.123091  ...          -0.067577   \n",
       "AcceptedCmp4                 0.028641      0.022268  ...           0.179379   \n",
       "AcceptedCmp5                 0.259590      0.181021  ...           0.214790   \n",
       "AcceptedCmp1                 0.241818      0.166396  ...           0.183249   \n",
       "AcceptedCmp2                 0.009985      0.049990  ...           0.085189   \n",
       "Complain                    -0.022485     -0.030861  ...          -0.016524   \n",
       "Response                     0.117372      0.139850  ...           0.039363   \n",
       "Age                          0.018133      0.061818  ...           0.128272   \n",
       "\n",
       "                     NumWebVisitsMonth  AcceptedCmp3  AcceptedCmp4  \\\n",
       "Income                       -0.549785     -0.016064      0.182718   \n",
       "Kidhome                       0.447846      0.014674     -0.161600   \n",
       "Teenhome                      0.134884     -0.042677      0.038886   \n",
       "Recency                      -0.021445     -0.032991      0.018826   \n",
       "MntWines                     -0.320653      0.062202      0.373286   \n",
       "MntFruits                    -0.418383      0.014727      0.010152   \n",
       "MntMeatProducts              -0.539470      0.018272      0.102912   \n",
       "MntFishProducts              -0.446003      0.000357      0.016843   \n",
       "MntSweetProducts             -0.423294      0.001530      0.028641   \n",
       "MntGoldProds                 -0.250719      0.123091      0.022268   \n",
       "NumDealsPurchases             0.347633     -0.023109      0.015594   \n",
       "NumWebPurchases              -0.055846      0.042176      0.155903   \n",
       "NumCatalogPurchases          -0.520364      0.104730      0.139247   \n",
       "NumStorePurchases            -0.428473     -0.067577      0.179379   \n",
       "NumWebVisitsMonth             1.000000      0.061211     -0.032126   \n",
       "AcceptedCmp3                  0.061211      1.000000     -0.079512   \n",
       "AcceptedCmp4                 -0.032126     -0.079512      1.000000   \n",
       "AcceptedCmp5                 -0.278113      0.080316      0.306526   \n",
       "AcceptedCmp1                 -0.192502      0.094751      0.251300   \n",
       "AcceptedCmp2                 -0.007196      0.072020      0.292210   \n",
       "Complain                      0.019769      0.008415     -0.027611   \n",
       "Response                     -0.003987      0.254258      0.177019   \n",
       "Age                          -0.121139     -0.061774      0.060510   \n",
       "\n",
       "                     AcceptedCmp5  AcceptedCmp1  AcceptedCmp2  Complain  \\\n",
       "Income                   0.334893      0.274891      0.087581 -0.027187   \n",
       "Kidhome                 -0.205634     -0.172339     -0.081716  0.040207   \n",
       "Teenhome                -0.191050     -0.140090     -0.015605  0.003138   \n",
       "Recency                  0.000129     -0.019283     -0.001781  0.013231   \n",
       "MntWines                 0.472613      0.354133      0.205907 -0.039007   \n",
       "MntFruits                0.215833      0.194748     -0.009773 -0.005166   \n",
       "MntMeatProducts          0.373769      0.309761      0.043033 -0.023483   \n",
       "MntFishProducts          0.199578      0.260762      0.002577 -0.020953   \n",
       "MntSweetProducts         0.259590      0.241818      0.009985 -0.022485   \n",
       "MntGoldProds             0.181021      0.166396      0.049990 -0.030861   \n",
       "NumDealsPurchases       -0.183248     -0.123244     -0.037695  0.000420   \n",
       "NumWebPurchases          0.138684      0.155143      0.034188 -0.016310   \n",
       "NumCatalogPurchases      0.322321      0.308097      0.099852 -0.020453   \n",
       "NumStorePurchases        0.214790      0.183249      0.085189 -0.016524   \n",
       "NumWebVisitsMonth       -0.278113     -0.192502     -0.007196  0.019769   \n",
       "AcceptedCmp3             0.080316      0.094751      0.072020  0.008415   \n",
       "AcceptedCmp4             0.306526      0.251300      0.292210 -0.027611   \n",
       "AcceptedCmp5             1.000000      0.403078      0.221533 -0.009419   \n",
       "AcceptedCmp1             0.403078      1.000000      0.175315 -0.025499   \n",
       "AcceptedCmp2             0.221533      0.175315      1.000000 -0.011334   \n",
       "Complain                -0.009419     -0.025499     -0.011334  1.000000   \n",
       "Response                 0.326634      0.293982      0.169293 -0.001707   \n",
       "Age                     -0.007123      0.005930      0.006539  0.030128   \n",
       "\n",
       "                     Response       Age  \n",
       "Income               0.132867  0.160899  \n",
       "Kidhome             -0.080008 -0.230176  \n",
       "Teenhome            -0.154446  0.352111  \n",
       "Recency             -0.198437  0.019871  \n",
       "MntWines             0.247254  0.157773  \n",
       "MntFruits            0.125289  0.017917  \n",
       "MntMeatProducts      0.236335  0.030872  \n",
       "MntFishProducts      0.111331  0.041625  \n",
       "MntSweetProducts     0.117372  0.018133  \n",
       "MntGoldProds         0.139850  0.061818  \n",
       "NumDealsPurchases    0.002238  0.060846  \n",
       "NumWebPurchases      0.148730  0.145040  \n",
       "NumCatalogPurchases  0.220810  0.121275  \n",
       "NumStorePurchases    0.039363  0.128272  \n",
       "NumWebVisitsMonth   -0.003987 -0.121139  \n",
       "AcceptedCmp3         0.254258 -0.061774  \n",
       "AcceptedCmp4         0.177019  0.060510  \n",
       "AcceptedCmp5         0.326634 -0.007123  \n",
       "AcceptedCmp1         0.293982  0.005930  \n",
       "AcceptedCmp2         0.169293  0.006539  \n",
       "Complain            -0.001707  0.030128  \n",
       "Response             1.000000 -0.021325  \n",
       "Age                 -0.021325  1.000000  \n",
       "\n",
       "[23 rows x 23 columns]"
      ]
     },
     "execution_count": 42,
     "metadata": {},
     "output_type": "execute_result"
    }
   ],
   "source": [
    "# Checking for multi-corrlinearity in numerical data in df \n",
    "#\n",
    "correlation=df.select_dtypes(\"number\").corr()\n",
    "correlation"
   ]
  },
  {
   "cell_type": "code",
   "execution_count": 43,
   "id": "02851a29",
   "metadata": {},
   "outputs": [
    {
     "data": {
      "text/plain": [
       "Text(0.5, 1.0, 'Customer Features Correlation Heatmap')"
      ]
     },
     "execution_count": 43,
     "metadata": {},
     "output_type": "execute_result"
    },
    {
     "data": {
      "image/png": "[encoded data removed]",
      "text/plain": [
       "<Figure size 640x480 with 2 Axes>"
      ]
     },
     "metadata": {},
     "output_type": "display_data"
    }
   ],
   "source": [
    "#correlation heatmap for easier visualisation of correlation\n",
    "sns.heatmap(correlation)\n",
    "plt.title('Customer Features Correlation Heatmap')"
   ]
  },
  {
   "cell_type": "code",
   "execution_count": 44,
   "id": "5cc32fb9-3e71-49d5-b02b-9e949071b448",
   "metadata": {},
   "outputs": [
    {
     "name": "stdout",
     "output_type": "stream",
     "text": [
      "NumStorePurchases    1.056873e+01\n",
      "Age                  1.436179e+02\n",
      "Recency              8.388237e+02\n",
      "MntFruits            1.581926e+03\n",
      "MntSweetProducts     1.704080e+03\n",
      "MntGoldProds         2.721442e+03\n",
      "MntFishProducts      2.984325e+03\n",
      "MntMeatProducts      5.094743e+04\n",
      "MntWines             1.132978e+05\n",
      "Income               6.268992e+08\n",
      "dtype: float64\n"
     ]
    }
   ],
   "source": [
    "# Calculate variance, get 10 high variance features (only on numeric columns)\n",
    "numeric_cols = df.select_dtypes(include=['number']).columns\n",
    "top_10_var = df[numeric_cols].var().sort_values().tail(10)\n",
    "print(top_10_var)"
   ]
  },
  {
   "cell_type": "code",
   "execution_count": 45,
   "id": "22a3fb94-c42b-4bc3-91aa-c38c64481d1c",
   "metadata": {
    "scrolled": true
   },
   "outputs": [
    {
     "data": {
      "application/vnd.plotly.v1+json": {
       "config": {
        "plotlyServerURL": "https://plot.ly"
       },
       "data": [
        {
         "hovertemplate": "x=%{x}<br>y=%{y}<extra></extra>",
         "legendgroup": "",
         "marker": {
          "color": "#636efa",
          "pattern": {
           "shape": ""
          }
         },
         "name": "",
         "orientation": "h",
         "showlegend": false,
         "textposition": "auto",
         "type": "bar",
         "x": {
          "bdata": "C04GbjAjJUAPPLsBxvNhQPZks+GWNopA9jIbQrS3mEBp6Ph2UaCaQLaCRCTiQqVAgsOYmaZQp0BsJ4y9beDoQCtEFuAcqftAFyKXkdyuwkE=",
          "dtype": "f8"
         },
         "xaxis": "x",
         "y": [
          "NumStorePurchases",
          "Age",
          "Recency",
          "MntFruits",
          "MntSweetProducts",
          "MntGoldProds",
          "MntFishProducts",
          "MntMeatProducts",
          "MntWines",
          "Income"
         ],
         "yaxis": "y"
        }
       ],
       "layout": {
        "barmode": "relative",
        "legend": {
         "tracegroupgap": 0
        },
        "template": {
         "data": {
          "bar": [
           {
            "error_x": {
             "color": "#2a3f5f"
            },
            "error_y": {
             "color": "#2a3f5f"
            },
            "marker": {
             "line": {
              "color": "#E5ECF6",
              "width": 0.5
             },
             "pattern": {
              "fillmode": "overlay",
              "size": 10,
              "solidity": 0.2
             }
            },
            "type": "bar"
           }
          ],
          "barpolar": [
           {
            "marker": {
             "line": {
              "color": "#E5ECF6",
              "width": 0.5
             },
             "pattern": {
              "fillmode": "overlay",
              "size": 10,
              "solidity": 0.2
             }
            },
            "type": "barpolar"
           }
          ],
          "carpet": [
           {
            "aaxis": {
             "endlinecolor": "#2a3f5f",
             "gridcolor": "white",
             "linecolor": "white",
             "minorgridcolor": "white",
             "startlinecolor": "#2a3f5f"
            },
            "baxis": {
             "endlinecolor": "#2a3f5f",
             "gridcolor": "white",
             "linecolor": "white",
             "minorgridcolor": "white",
             "startlinecolor": "#2a3f5f"
            },
            "type": "carpet"
           }
          ],
          "choropleth": [
           {
            "colorbar": {
             "outlinewidth": 0,
             "ticks": ""
            },
            "type": "choropleth"
           }
          ],
          "contour": [
           {
            "colorbar": {
             "outlinewidth": 0,
             "ticks": ""
            },
            "colorscale": [
             [
              0,
              "#0d0887"
             ],
             [
              0.1111111111111111,
              "#46039f"
             ],
             [
              0.2222222222222222,
              "#7201a8"
             ],
             [
              0.3333333333333333,
              "#9c179e"
             ],
             [
              0.4444444444444444,
              "#bd3786"
             ],
             [
              0.5555555555555556,
              "#d8576b"
             ],
             [
              0.6666666666666666,
              "#ed7953"
             ],
             [
              0.7777777777777778,
              "#fb9f3a"
             ],
             [
              0.8888888888888888,
              "#fdca26"
             ],
             [
              1,
              "#f0f921"
             ]
            ],
            "type": "contour"
           }
          ],
          "contourcarpet": [
           {
            "colorbar": {
             "outlinewidth": 0,
             "ticks": ""
            },
            "type": "contourcarpet"
           }
          ],
          "heatmap": [
           {
            "colorbar": {
             "outlinewidth": 0,
             "ticks": ""
            },
            "colorscale": [
             [
              0,
              "#0d0887"
             ],
             [
              0.1111111111111111,
              "#46039f"
             ],
             [
              0.2222222222222222,
              "#7201a8"
             ],
             [
              0.3333333333333333,
              "#9c179e"
             ],
             [
              0.4444444444444444,
              "#bd3786"
             ],
             [
              0.5555555555555556,
              "#d8576b"
             ],
             [
              0.6666666666666666,
              "#ed7953"
             ],
             [
              0.7777777777777778,
              "#fb9f3a"
             ],
             [
              0.8888888888888888,
              "#fdca26"
             ],
             [
              1,
              "#f0f921"
             ]
            ],
            "type": "heatmap"
           }
          ],
          "histogram": [
           {
            "marker": {
             "pattern": {
              "fillmode": "overlay",
              "size": 10,
              "solidity": 0.2
             }
            },
            "type": "histogram"
           }
          ],
          "histogram2d": [
           {
            "colorbar": {
             "outlinewidth": 0,
             "ticks": ""
            },
            "colorscale": [
             [
              0,
              "#0d0887"
             ],
             [
              0.1111111111111111,
              "#46039f"
             ],
             [
              0.2222222222222222,
              "#7201a8"
             ],
             [
              0.3333333333333333,
              "#9c179e"
             ],
             [
              0.4444444444444444,
              "#bd3786"
             ],
             [
              0.5555555555555556,
              "#d8576b"
             ],
             [
              0.6666666666666666,
              "#ed7953"
             ],
             [
              0.7777777777777778,
              "#fb9f3a"
             ],
             [
              0.8888888888888888,
              "#fdca26"
             ],
             [
              1,
              "#f0f921"
             ]
            ],
            "type": "histogram2d"
           }
          ],
          "histogram2dcontour": [
           {
            "colorbar": {
             "outlinewidth": 0,
             "ticks": ""
            },
            "colorscale": [
             [
              0,
              "#0d0887"
             ],
             [
              0.1111111111111111,
              "#46039f"
             ],
             [
              0.2222222222222222,
              "#7201a8"
             ],
             [
              0.3333333333333333,
              "#9c179e"
             ],
             [
              0.4444444444444444,
              "#bd3786"
             ],
             [
              0.5555555555555556,
              "#d8576b"
             ],
             [
              0.6666666666666666,
              "#ed7953"
             ],
             [
              0.7777777777777778,
              "#fb9f3a"
             ],
             [
              0.8888888888888888,
              "#fdca26"
             ],
             [
              1,
              "#f0f921"
             ]
            ],
            "type": "histogram2dcontour"
           }
          ],
          "mesh3d": [
           {
            "colorbar": {
             "outlinewidth": 0,
             "ticks": ""
            },
            "type": "mesh3d"
           }
          ],
          "parcoords": [
           {
            "line": {
             "colorbar": {
              "outlinewidth": 0,
              "ticks": ""
             }
            },
            "type": "parcoords"
           }
          ],
          "pie": [
           {
            "automargin": true,
            "type": "pie"
           }
          ],
          "scatter": [
           {
            "fillpattern": {
             "fillmode": "overlay",
             "size": 10,
             "solidity": 0.2
            },
            "type": "scatter"
           }
          ],
          "scatter3d": [
           {
            "line": {
             "colorbar": {
              "outlinewidth": 0,
              "ticks": ""
             }
            },
            "marker": {
             "colorbar": {
              "outlinewidth": 0,
              "ticks": ""
             }
            },
            "type": "scatter3d"
           }
          ],
          "scattercarpet": [
           {
            "marker": {
             "colorbar": {
              "outlinewidth": 0,
              "ticks": ""
             }
            },
            "type": "scattercarpet"
           }
          ],
          "scattergeo": [
           {
            "marker": {
             "colorbar": {
              "outlinewidth": 0,
              "ticks": ""
             }
            },
            "type": "scattergeo"
           }
          ],
          "scattergl": [
           {
            "marker": {
             "colorbar": {
              "outlinewidth": 0,
              "ticks": ""
             }
            },
            "type": "scattergl"
           }
          ],
          "scattermap": [
           {
            "marker": {
             "colorbar": {
              "outlinewidth": 0,
              "ticks": ""
             }
            },
            "type": "scattermap"
           }
          ],
          "scattermapbox": [
           {
            "marker": {
             "colorbar": {
              "outlinewidth": 0,
              "ticks": ""
             }
            },
            "type": "scattermapbox"
           }
          ],
          "scatterpolar": [
           {
            "marker": {
             "colorbar": {
              "outlinewidth": 0,
              "ticks": ""
             }
            },
            "type": "scatterpolar"
           }
          ],
          "scatterpolargl": [
           {
            "marker": {
             "colorbar": {
              "outlinewidth": 0,
              "ticks": ""
             }
            },
            "type": "scatterpolargl"
           }
          ],
          "scatterternary": [
           {
            "marker": {
             "colorbar": {
              "outlinewidth": 0,
              "ticks": ""
             }
            },
            "type": "scatterternary"
           }
          ],
          "surface": [
           {
            "colorbar": {
             "outlinewidth": 0,
             "ticks": ""
            },
            "colorscale": [
             [
              0,
              "#0d0887"
             ],
             [
              0.1111111111111111,
              "#46039f"
             ],
             [
              0.2222222222222222,
              "#7201a8"
             ],
             [
              0.3333333333333333,
              "#9c179e"
             ],
             [
              0.4444444444444444,
              "#bd3786"
             ],
             [
              0.5555555555555556,
              "#d8576b"
             ],
             [
              0.6666666666666666,
              "#ed7953"
             ],
             [
              0.7777777777777778,
              "#fb9f3a"
             ],
             [
              0.8888888888888888,
              "#fdca26"
             ],
             [
              1,
              "#f0f921"
             ]
            ],
            "type": "surface"
           }
          ],
          "table": [
           {
            "cells": {
             "fill": {
              "color": "#EBF0F8"
             },
             "line": {
              "color": "white"
             }
            },
            "header": {
             "fill": {
              "color": "#C8D4E3"
             },
             "line": {
              "color": "white"
             }
            },
            "type": "table"
           }
          ]
         },
         "layout": {
          "annotationdefaults": {
           "arrowcolor": "#2a3f5f",
           "arrowhead": 0,
           "arrowwidth": 1
          },
          "autotypenumbers": "strict",
          "coloraxis": {
           "colorbar": {
            "outlinewidth": 0,
            "ticks": ""
           }
          },
          "colorscale": {
           "diverging": [
            [
             0,
             "#8e0152"
            ],
            [
             0.1,
             "#c51b7d"
            ],
            [
             0.2,
             "#de77ae"
            ],
            [
             0.3,
             "#f1b6da"
            ],
            [
             0.4,
             "#fde0ef"
            ],
            [
             0.5,
             "#f7f7f7"
            ],
            [
             0.6,
             "#e6f5d0"
            ],
            [
             0.7,
             "#b8e186"
            ],
            [
             0.8,
             "#7fbc41"
            ],
            [
             0.9,
             "#4d9221"
            ],
            [
             1,
             "#276419"
            ]
           ],
           "sequential": [
            [
             0,
             "#0d0887"
            ],
            [
             0.1111111111111111,
             "#46039f"
            ],
            [
             0.2222222222222222,
             "#7201a8"
            ],
            [
             0.3333333333333333,
             "#9c179e"
            ],
            [
             0.4444444444444444,
             "#bd3786"
            ],
            [
             0.5555555555555556,
             "#d8576b"
            ],
            [
             0.6666666666666666,
             "#ed7953"
            ],
            [
             0.7777777777777778,
             "#fb9f3a"
            ],
            [
             0.8888888888888888,
             "#fdca26"
            ],
            [
             1,
             "#f0f921"
            ]
           ],
           "sequentialminus": [
            [
             0,
             "#0d0887"
            ],
            [
             0.1111111111111111,
             "#46039f"
            ],
            [
             0.2222222222222222,
             "#7201a8"
            ],
            [
             0.3333333333333333,
             "#9c179e"
            ],
            [
             0.4444444444444444,
             "#bd3786"
            ],
            [
             0.5555555555555556,
             "#d8576b"
            ],
            [
             0.6666666666666666,
             "#ed7953"
            ],
            [
             0.7777777777777778,
             "#fb9f3a"
            ],
            [
             0.8888888888888888,
             "#fdca26"
            ],
            [
             1,
             "#f0f921"
            ]
           ]
          },
          "colorway": [
           "#636efa",
           "#EF553B",
           "#00cc96",
           "#ab63fa",
           "#FFA15A",
           "#19d3f3",
           "#FF6692",
           "#B6E880",
           "#FF97FF",
           "#FECB52"
          ],
          "font": {
           "color": "#2a3f5f"
          },
          "geo": {
           "bgcolor": "white",
           "lakecolor": "white",
           "landcolor": "#E5ECF6",
           "showlakes": true,
           "showland": true,
           "subunitcolor": "white"
          },
          "hoverlabel": {
           "align": "left"
          },
          "hovermode": "closest",
          "mapbox": {
           "style": "light"
          },
          "paper_bgcolor": "white",
          "plot_bgcolor": "#E5ECF6",
          "polar": {
           "angularaxis": {
            "gridcolor": "white",
            "linecolor": "white",
            "ticks": ""
           },
           "bgcolor": "#E5ECF6",
           "radialaxis": {
            "gridcolor": "white",
            "linecolor": "white",
            "ticks": ""
           }
          },
          "scene": {
           "xaxis": {
            "backgroundcolor": "#E5ECF6",
            "gridcolor": "white",
            "gridwidth": 2,
            "linecolor": "white",
            "showbackground": true,
            "ticks": "",
            "zerolinecolor": "white"
           },
           "yaxis": {
            "backgroundcolor": "#E5ECF6",
            "gridcolor": "white",
            "gridwidth": 2,
            "linecolor": "white",
            "showbackground": true,
            "ticks": "",
            "zerolinecolor": "white"
           },
           "zaxis": {
            "backgroundcolor": "#E5ECF6",
            "gridcolor": "white",
            "gridwidth": 2,
            "linecolor": "white",
            "showbackground": true,
            "ticks": "",
            "zerolinecolor": "white"
           }
          },
          "shapedefaults": {
           "line": {
            "color": "#2a3f5f"
           }
          },
          "ternary": {
           "aaxis": {
            "gridcolor": "white",
            "linecolor": "white",
            "ticks": ""
           },
           "baxis": {
            "gridcolor": "white",
            "linecolor": "white",
            "ticks": ""
           },
           "bgcolor": "#E5ECF6",
           "caxis": {
            "gridcolor": "white",
            "linecolor": "white",
            "ticks": ""
           }
          },
          "title": {
           "x": 0.05
          },
          "xaxis": {
           "automargin": true,
           "gridcolor": "white",
           "linecolor": "white",
           "ticks": "",
           "title": {
            "standoff": 15
           },
           "zerolinecolor": "white",
           "zerolinewidth": 2
          },
          "yaxis": {
           "automargin": true,
           "gridcolor": "white",
           "linecolor": "white",
           "ticks": "",
           "title": {
            "standoff": 15
           },
           "zerolinecolor": "white",
           "zerolinewidth": 2
          }
         }
        },
        "title": {
         "text": "market clustering: High Variance Features"
        },
        "xaxis": {
         "anchor": "y",
         "domain": [
          0,
          1
         ],
         "title": {
          "text": " Variance "
         },
         "type": "log"
        },
        "yaxis": {
         "anchor": "x",
         "domain": [
          0,
          1
         ],
         "title": {
          "text": "Features"
         }
        }
       }
      },
      "image/png": "[encoded data removed]"
     },
     "metadata": {},
     "output_type": "display_data"
    }
   ],
   "source": [
    "\n",
    "# Create horizontal bar chart of `top_ten_trim_var`\n",
    "#import plotly.express as px this is the library used here\n",
    "fig = px.bar(\n",
    "    x=top_10_var,\n",
    "    y=top_10_var.index,\n",
    "    orientation=\"h\",\n",
    "    title=\"market clustering: High Variance Features\")\n",
    "fig.update_layout(xaxis_title=\" Variance \",yaxis_title=\"Features\")\n",
    "fig.update_xaxes(type='log')\n",
    "fig.show()"
   ]
  },
  {
   "cell_type": "code",
   "execution_count": 46,
   "id": "e20902b7-83e8-424f-a94f-ab8e3a68c749",
   "metadata": {},
   "outputs": [
    {
     "data": {
      "application/vnd.plotly.v1+json": {
       "config": {
        "plotlyServerURL": "https://plot.ly"
       },
       "data": [
        {
         "alignmentgroup": "True",
         "hovertemplate": "Income=%{x}<extra></extra>",
         "legendgroup": "",
         "marker": {
          "color": "#636efa"
         },
         "name": "",
         "notched": false,
         "offsetgroup": "",
         "orientation": "h",
         "showlegend": false,
         "type": "box",
         "x": {
          "bdata": "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",
          "dtype": "f8"
         },
         "x0": " ",
         "xaxis": "x",
         "y0": " ",
         "yaxis": "y"
        }
       ],
       "layout": {
        "boxmode": "group",
        "legend": {
         "tracegroupgap": 0
        },
        "template": {
         "data": {
          "bar": [
           {
            "error_x": {
             "color": "#2a3f5f"
            },
            "error_y": {
             "color": "#2a3f5f"
            },
            "marker": {
             "line": {
              "color": "#E5ECF6",
              "width": 0.5
             },
             "pattern": {
              "fillmode": "overlay",
              "size": 10,
              "solidity": 0.2
             }
            },
            "type": "bar"
           }
          ],
          "barpolar": [
           {
            "marker": {
             "line": {
              "color": "#E5ECF6",
              "width": 0.5
             },
             "pattern": {
              "fillmode": "overlay",
              "size": 10,
              "solidity": 0.2
             }
            },
            "type": "barpolar"
           }
          ],
          "carpet": [
           {
            "aaxis": {
             "endlinecolor": "#2a3f5f",
             "gridcolor": "white",
             "linecolor": "white",
             "minorgridcolor": "white",
             "startlinecolor": "#2a3f5f"
            },
            "baxis": {
             "endlinecolor": "#2a3f5f",
             "gridcolor": "white",
             "linecolor": "white",
             "minorgridcolor": "white",
             "startlinecolor": "#2a3f5f"
            },
            "type": "carpet"
           }
          ],
          "choropleth": [
           {
            "colorbar": {
             "outlinewidth": 0,
             "ticks": ""
            },
            "type": "choropleth"
           }
          ],
          "contour": [
           {
            "colorbar": {
             "outlinewidth": 0,
             "ticks": ""
            },
            "colorscale": [
             [
              0,
              "#0d0887"
             ],
             [
              0.1111111111111111,
              "#46039f"
             ],
             [
              0.2222222222222222,
              "#7201a8"
             ],
             [
              0.3333333333333333,
              "#9c179e"
             ],
             [
              0.4444444444444444,
              "#bd3786"
             ],
             [
              0.5555555555555556,
              "#d8576b"
             ],
             [
              0.6666666666666666,
              "#ed7953"
             ],
             [
              0.7777777777777778,
              "#fb9f3a"
             ],
             [
              0.8888888888888888,
              "#fdca26"
             ],
             [
              1,
              "#f0f921"
             ]
            ],
            "type": "contour"
           }
          ],
          "contourcarpet": [
           {
            "colorbar": {
             "outlinewidth": 0,
             "ticks": ""
            },
            "type": "contourcarpet"
           }
          ],
          "heatmap": [
           {
            "colorbar": {
             "outlinewidth": 0,
             "ticks": ""
            },
            "colorscale": [
             [
              0,
              "#0d0887"
             ],
             [
              0.1111111111111111,
              "#46039f"
             ],
             [
              0.2222222222222222,
              "#7201a8"
             ],
             [
              0.3333333333333333,
              "#9c179e"
             ],
             [
              0.4444444444444444,
              "#bd3786"
             ],
             [
              0.5555555555555556,
              "#d8576b"
             ],
             [
              0.6666666666666666,
              "#ed7953"
             ],
             [
              0.7777777777777778,
              "#fb9f3a"
             ],
             [
              0.8888888888888888,
              "#fdca26"
             ],
             [
              1,
              "#f0f921"
             ]
            ],
            "type": "heatmap"
           }
          ],
          "histogram": [
           {
            "marker": {
             "pattern": {
              "fillmode": "overlay",
              "size": 10,
              "solidity": 0.2
             }
            },
            "type": "histogram"
           }
          ],
          "histogram2d": [
           {
            "colorbar": {
             "outlinewidth": 0,
             "ticks": ""
            },
            "colorscale": [
             [
              0,
              "#0d0887"
             ],
             [
              0.1111111111111111,
              "#46039f"
             ],
             [
              0.2222222222222222,
              "#7201a8"
             ],
             [
              0.3333333333333333,
              "#9c179e"
             ],
             [
              0.4444444444444444,
              "#bd3786"
             ],
             [
              0.5555555555555556,
              "#d8576b"
             ],
             [
              0.6666666666666666,
              "#ed7953"
             ],
             [
              0.7777777777777778,
              "#fb9f3a"
             ],
             [
              0.8888888888888888,
              "#fdca26"
             ],
             [
              1,
              "#f0f921"
             ]
            ],
            "type": "histogram2d"
           }
          ],
          "histogram2dcontour": [
           {
            "colorbar": {
             "outlinewidth": 0,
             "ticks": ""
            },
            "colorscale": [
             [
              0,
              "#0d0887"
             ],
             [
              0.1111111111111111,
              "#46039f"
             ],
             [
              0.2222222222222222,
              "#7201a8"
             ],
             [
              0.3333333333333333,
              "#9c179e"
             ],
             [
              0.4444444444444444,
              "#bd3786"
             ],
             [
              0.5555555555555556,
              "#d8576b"
             ],
             [
              0.6666666666666666,
              "#ed7953"
             ],
             [
              0.7777777777777778,
              "#fb9f3a"
             ],
             [
              0.8888888888888888,
              "#fdca26"
             ],
             [
              1,
              "#f0f921"
             ]
            ],
            "type": "histogram2dcontour"
           }
          ],
          "mesh3d": [
           {
            "colorbar": {
             "outlinewidth": 0,
             "ticks": ""
            },
            "type": "mesh3d"
           }
          ],
          "parcoords": [
           {
            "line": {
             "colorbar": {
              "outlinewidth": 0,
              "ticks": ""
             }
            },
            "type": "parcoords"
           }
          ],
          "pie": [
           {
            "automargin": true,
            "type": "pie"
           }
          ],
          "scatter": [
           {
            "fillpattern": {
             "fillmode": "overlay",
             "size": 10,
             "solidity": 0.2
            },
            "type": "scatter"
           }
          ],
          "scatter3d": [
           {
            "line": {
             "colorbar": {
              "outlinewidth": 0,
              "ticks": ""
             }
            },
            "marker": {
             "colorbar": {
              "outlinewidth": 0,
              "ticks": ""
             }
            },
            "type": "scatter3d"
           }
          ],
          "scattercarpet": [
           {
            "marker": {
             "colorbar": {
              "outlinewidth": 0,
              "ticks": ""
             }
            },
            "type": "scattercarpet"
           }
          ],
          "scattergeo": [
           {
            "marker": {
             "colorbar": {
              "outlinewidth": 0,
              "ticks": ""
             }
            },
            "type": "scattergeo"
           }
          ],
          "scattergl": [
           {
            "marker": {
             "colorbar": {
              "outlinewidth": 0,
              "ticks": ""
             }
            },
            "type": "scattergl"
           }
          ],
          "scattermap": [
           {
            "marker": {
             "colorbar": {
              "outlinewidth": 0,
              "ticks": ""
             }
            },
            "type": "scattermap"
           }
          ],
          "scattermapbox": [
           {
            "marker": {
             "colorbar": {
              "outlinewidth": 0,
              "ticks": ""
             }
            },
            "type": "scattermapbox"
           }
          ],
          "scatterpolar": [
           {
            "marker": {
             "colorbar": {
              "outlinewidth": 0,
              "ticks": ""
             }
            },
            "type": "scatterpolar"
           }
          ],
          "scatterpolargl": [
           {
            "marker": {
             "colorbar": {
              "outlinewidth": 0,
              "ticks": ""
             }
            },
            "type": "scatterpolargl"
           }
          ],
          "scatterternary": [
           {
            "marker": {
             "colorbar": {
              "outlinewidth": 0,
              "ticks": ""
             }
            },
            "type": "scatterternary"
           }
          ],
          "surface": [
           {
            "colorbar": {
             "outlinewidth": 0,
             "ticks": ""
            },
            "colorscale": [
             [
              0,
              "#0d0887"
             ],
             [
              0.1111111111111111,
              "#46039f"
             ],
             [
              0.2222222222222222,
              "#7201a8"
             ],
             [
              0.3333333333333333,
              "#9c179e"
             ],
             [
              0.4444444444444444,
              "#bd3786"
             ],
             [
              0.5555555555555556,
              "#d8576b"
             ],
             [
              0.6666666666666666,
              "#ed7953"
             ],
             [
              0.7777777777777778,
              "#fb9f3a"
             ],
             [
              0.8888888888888888,
              "#fdca26"
             ],
             [
              1,
              "#f0f921"
             ]
            ],
            "type": "surface"
           }
          ],
          "table": [
           {
            "cells": {
             "fill": {
              "color": "#EBF0F8"
             },
             "line": {
              "color": "white"
             }
            },
            "header": {
             "fill": {
              "color": "#C8D4E3"
             },
             "line": {
              "color": "white"
             }
            },
            "type": "table"
           }
          ]
         },
         "layout": {
          "annotationdefaults": {
           "arrowcolor": "#2a3f5f",
           "arrowhead": 0,
           "arrowwidth": 1
          },
          "autotypenumbers": "strict",
          "coloraxis": {
           "colorbar": {
            "outlinewidth": 0,
            "ticks": ""
           }
          },
          "colorscale": {
           "diverging": [
            [
             0,
             "#8e0152"
            ],
            [
             0.1,
             "#c51b7d"
            ],
            [
             0.2,
             "#de77ae"
            ],
            [
             0.3,
             "#f1b6da"
            ],
            [
             0.4,
             "#fde0ef"
            ],
            [
             0.5,
             "#f7f7f7"
            ],
            [
             0.6,
             "#e6f5d0"
            ],
            [
             0.7,
             "#b8e186"
            ],
            [
             0.8,
             "#7fbc41"
            ],
            [
             0.9,
             "#4d9221"
            ],
            [
             1,
             "#276419"
            ]
           ],
           "sequential": [
            [
             0,
             "#0d0887"
            ],
            [
             0.1111111111111111,
             "#46039f"
            ],
            [
             0.2222222222222222,
             "#7201a8"
            ],
            [
             0.3333333333333333,
             "#9c179e"
            ],
            [
             0.4444444444444444,
             "#bd3786"
            ],
            [
             0.5555555555555556,
             "#d8576b"
            ],
            [
             0.6666666666666666,
             "#ed7953"
            ],
            [
             0.7777777777777778,
             "#fb9f3a"
            ],
            [
             0.8888888888888888,
             "#fdca26"
            ],
            [
             1,
             "#f0f921"
            ]
           ],
           "sequentialminus": [
            [
             0,
             "#0d0887"
            ],
            [
             0.1111111111111111,
             "#46039f"
            ],
            [
             0.2222222222222222,
             "#7201a8"
            ],
            [
             0.3333333333333333,
             "#9c179e"
            ],
            [
             0.4444444444444444,
             "#bd3786"
            ],
            [
             0.5555555555555556,
             "#d8576b"
            ],
            [
             0.6666666666666666,
             "#ed7953"
            ],
            [
             0.7777777777777778,
             "#fb9f3a"
            ],
            [
             0.8888888888888888,
             "#fdca26"
            ],
            [
             1,
             "#f0f921"
            ]
           ]
          },
          "colorway": [
           "#636efa",
           "#EF553B",
           "#00cc96",
           "#ab63fa",
           "#FFA15A",
           "#19d3f3",
           "#FF6692",
           "#B6E880",
           "#FF97FF",
           "#FECB52"
          ],
          "font": {
           "color": "#2a3f5f"
          },
          "geo": {
           "bgcolor": "white",
           "lakecolor": "white",
           "landcolor": "#E5ECF6",
           "showlakes": true,
           "showland": true,
           "subunitcolor": "white"
          },
          "hoverlabel": {
           "align": "left"
          },
          "hovermode": "closest",
          "mapbox": {
           "style": "light"
          },
          "paper_bgcolor": "white",
          "plot_bgcolor": "#E5ECF6",
          "polar": {
           "angularaxis": {
            "gridcolor": "white",
            "linecolor": "white",
            "ticks": ""
           },
           "bgcolor": "#E5ECF6",
           "radialaxis": {
            "gridcolor": "white",
            "linecolor": "white",
            "ticks": ""
           }
          },
          "scene": {
           "xaxis": {
            "backgroundcolor": "#E5ECF6",
            "gridcolor": "white",
            "gridwidth": 2,
            "linecolor": "white",
            "showbackground": true,
            "ticks": "",
            "zerolinecolor": "white"
           },
           "yaxis": {
            "backgroundcolor": "#E5ECF6",
            "gridcolor": "white",
            "gridwidth": 2,
            "linecolor": "white",
            "showbackground": true,
            "ticks": "",
            "zerolinecolor": "white"
           },
           "zaxis": {
            "backgroundcolor": "#E5ECF6",
            "gridcolor": "white",
            "gridwidth": 2,
            "linecolor": "white",
            "showbackground": true,
            "ticks": "",
            "zerolinecolor": "white"
           }
          },
          "shapedefaults": {
           "line": {
            "color": "#2a3f5f"
           }
          },
          "ternary": {
           "aaxis": {
            "gridcolor": "white",
            "linecolor": "white",
            "ticks": ""
           },
           "baxis": {
            "gridcolor": "white",
            "linecolor": "white",
            "ticks": ""
           },
           "bgcolor": "#E5ECF6",
           "caxis": {
            "gridcolor": "white",
            "linecolor": "white",
            "ticks": ""
           }
          },
          "title": {
           "x": 0.05
          },
          "xaxis": {
           "automargin": true,
           "gridcolor": "white",
           "linecolor": "white",
           "ticks": "",
           "title": {
            "standoff": 15
           },
           "zerolinecolor": "white",
           "zerolinewidth": 2
          },
          "yaxis": {
           "automargin": true,
           "gridcolor": "white",
           "linecolor": "white",
           "ticks": "",
           "title": {
            "standoff": 15
           },
           "zerolinecolor": "white",
           "zerolinewidth": 2
          }
         }
        },
        "title": {
         "text": "income boxplot"
        },
        "xaxis": {
         "anchor": "y",
         "domain": [
          0,
          1
         ],
         "title": {
          "text": "income[$]"
         }
        },
        "yaxis": {
         "anchor": "x",
         "domain": [
          0,
          1
         ]
        }
       }
      },
      "image/png": "[encoded data removed]"
     },
     "metadata": {},
     "output_type": "display_data"
    }
   ],
   "source": [
    "#building a box plot\n",
    "fig=px.box(\n",
    "    data_frame=df,\n",
    "    x=\"Income\",\n",
    "    title=\"income boxplot\"\n",
    ")\n",
    "fig.update_layout(xaxis_title=\"income[$]\")\n",
    "fig.show()"
   ]
  },
  {
   "cell_type": "code",
   "execution_count": 47,
   "id": "86524172-85a2-43e1-b04d-499d5a0c9113",
   "metadata": {},
   "outputs": [
    {
     "data": {
      "text/plain": [
       "['NumStorePurchases',\n",
       " 'Age',\n",
       " 'Recency',\n",
       " 'MntFruits',\n",
       " 'MntSweetProducts',\n",
       " 'MntGoldProds',\n",
       " 'MntFishProducts',\n",
       " 'MntMeatProducts',\n",
       " 'MntWines',\n",
       " 'Income']"
      ]
     },
     "execution_count": 47,
     "metadata": {},
     "output_type": "execute_result"
    }
   ],
   "source": [
    "#Extract feature names\n",
    "high_var_feature=top_10_var.index.tolist()\n",
    "high_var_feature"
   ]
  },
  {
   "cell_type": "code",
   "execution_count": 48,
   "id": "d5a1d50b-6f66-458c-a405-c8914e91da97",
   "metadata": {},
   "outputs": [
    {
     "name": "stdout",
     "output_type": "stream",
     "text": [
      "X.shape: (2240, 10)\n"
     ]
    }
   ],
   "source": [
    "#split\n",
    "X=df[high_var_feature]\n",
    "print(\"X.shape:\",X.shape)"
   ]
  },
  {
   "cell_type": "code",
   "execution_count": 49,
   "id": "9e54cec8-0a0b-45ba-acdf-94feff928104",
   "metadata": {},
   "outputs": [
    {
     "data": {
      "text/html": [
       "<div>\n",
       "<style scoped>\n",
       "    .dataframe tbody tr th:only-of-type {\n",
       "        vertical-align: middle;\n",
       "    }\n",
       "\n",
       "    .dataframe tbody tr th {\n",
       "        vertical-align: top;\n",
       "    }\n",
       "\n",
       "    .dataframe thead th {\n",
       "        text-align: right;\n",
       "    }\n",
       "</style>\n",
       "<table border=\"1\" class=\"dataframe\">\n",
       "  <thead>\n",
       "    <tr style=\"text-align: right;\">\n",
       "      <th></th>\n",
       "      <th>NumStorePurchases</th>\n",
       "      <th>Age</th>\n",
       "      <th>Recency</th>\n",
       "      <th>MntFruits</th>\n",
       "      <th>MntSweetProducts</th>\n",
       "      <th>MntGoldProds</th>\n",
       "      <th>MntFishProducts</th>\n",
       "      <th>MntMeatProducts</th>\n",
       "      <th>MntWines</th>\n",
       "      <th>Income</th>\n",
       "    </tr>\n",
       "  </thead>\n",
       "  <tbody>\n",
       "    <tr>\n",
       "      <th>mean</th>\n",
       "      <td>5.790179</td>\n",
       "      <td>56.194196</td>\n",
       "      <td>49.109375</td>\n",
       "      <td>26.302232</td>\n",
       "      <td>27.062946</td>\n",
       "      <td>44.021875</td>\n",
       "      <td>37.525446</td>\n",
       "      <td>166.950000</td>\n",
       "      <td>303.935714</td>\n",
       "      <td>52237.975446</td>\n",
       "    </tr>\n",
       "    <tr>\n",
       "      <th>std</th>\n",
       "      <td>3.250958</td>\n",
       "      <td>11.984069</td>\n",
       "      <td>28.962453</td>\n",
       "      <td>39.773434</td>\n",
       "      <td>41.280498</td>\n",
       "      <td>52.167439</td>\n",
       "      <td>54.628979</td>\n",
       "      <td>225.715373</td>\n",
       "      <td>336.597393</td>\n",
       "      <td>25037.955891</td>\n",
       "    </tr>\n",
       "  </tbody>\n",
       "</table>\n",
       "</div>"
      ],
      "text/plain": [
       "      NumStorePurchases        Age    Recency  MntFruits  MntSweetProducts  \\\n",
       "mean           5.790179  56.194196  49.109375  26.302232         27.062946   \n",
       "std            3.250958  11.984069  28.962453  39.773434         41.280498   \n",
       "\n",
       "      MntGoldProds  MntFishProducts  MntMeatProducts    MntWines        Income  \n",
       "mean     44.021875        37.525446       166.950000  303.935714  52237.975446  \n",
       "std      52.167439        54.628979       225.715373  336.597393  25037.955891  "
      ]
     },
     "execution_count": 49,
     "metadata": {},
     "output_type": "execute_result"
    }
   ],
   "source": [
    "X_summary=X.aggregate([\"mean\",\"std\"])\n",
    "X_summary"
   ]
  },
  {
   "cell_type": "code",
   "execution_count": 50,
   "id": "293589fb-be27-4362-ab90-09aa3f16a0f7",
   "metadata": {},
   "outputs": [
    {
     "name": "stdout",
     "output_type": "stream",
     "text": [
      "X_scaled type: <class 'pandas.core.frame.DataFrame'>\n",
      "X_scaled shape: (2240, 10)\n"
     ]
    },
    {
     "data": {
      "text/html": [
       "<div>\n",
       "<style scoped>\n",
       "    .dataframe tbody tr th:only-of-type {\n",
       "        vertical-align: middle;\n",
       "    }\n",
       "\n",
       "    .dataframe tbody tr th {\n",
       "        vertical-align: top;\n",
       "    }\n",
       "\n",
       "    .dataframe thead th {\n",
       "        text-align: right;\n",
       "    }\n",
       "</style>\n",
       "<table border=\"1\" class=\"dataframe\">\n",
       "  <thead>\n",
       "    <tr style=\"text-align: right;\">\n",
       "      <th></th>\n",
       "      <th>NumStorePurchases</th>\n",
       "      <th>Age</th>\n",
       "      <th>Recency</th>\n",
       "      <th>MntFruits</th>\n",
       "      <th>MntSweetProducts</th>\n",
       "      <th>MntGoldProds</th>\n",
       "      <th>MntFishProducts</th>\n",
       "      <th>MntMeatProducts</th>\n",
       "      <th>MntWines</th>\n",
       "      <th>Income</th>\n",
       "    </tr>\n",
       "  </thead>\n",
       "  <tbody>\n",
       "    <tr>\n",
       "      <th>0</th>\n",
       "      <td>-0.550785</td>\n",
       "      <td>0.985345</td>\n",
       "      <td>0.307039</td>\n",
       "      <td>1.551577</td>\n",
       "      <td>1.476500</td>\n",
       "      <td>0.843207</td>\n",
       "      <td>2.462147</td>\n",
       "      <td>1.679702</td>\n",
       "      <td>0.983781</td>\n",
       "      <td>0.235696</td>\n",
       "    </tr>\n",
       "    <tr>\n",
       "      <th>1</th>\n",
       "      <td>-1.166125</td>\n",
       "      <td>1.235733</td>\n",
       "      <td>-0.383664</td>\n",
       "      <td>-0.636301</td>\n",
       "      <td>-0.631503</td>\n",
       "      <td>-0.729006</td>\n",
       "      <td>-0.650449</td>\n",
       "      <td>-0.713225</td>\n",
       "      <td>-0.870479</td>\n",
       "      <td>-0.235454</td>\n",
       "    </tr>\n",
       "    <tr>\n",
       "      <th>2</th>\n",
       "      <td>1.295237</td>\n",
       "      <td>0.317643</td>\n",
       "      <td>-0.798086</td>\n",
       "      <td>0.570804</td>\n",
       "      <td>-0.146905</td>\n",
       "      <td>-0.038766</td>\n",
       "      <td>1.345274</td>\n",
       "      <td>-0.177032</td>\n",
       "      <td>0.362723</td>\n",
       "      <td>0.773999</td>\n",
       "    </tr>\n",
       "    <tr>\n",
       "      <th>3</th>\n",
       "      <td>-0.550785</td>\n",
       "      <td>-1.268149</td>\n",
       "      <td>-0.798086</td>\n",
       "      <td>-0.560857</td>\n",
       "      <td>-0.583043</td>\n",
       "      <td>-0.748179</td>\n",
       "      <td>-0.503974</td>\n",
       "      <td>-0.651187</td>\n",
       "      <td>-0.870479</td>\n",
       "      <td>-1.022355</td>\n",
       "    </tr>\n",
       "    <tr>\n",
       "      <th>4</th>\n",
       "      <td>0.064556</td>\n",
       "      <td>-1.017761</td>\n",
       "      <td>1.550305</td>\n",
       "      <td>0.419916</td>\n",
       "      <td>-0.001525</td>\n",
       "      <td>-0.556446</td>\n",
       "      <td>0.155164</td>\n",
       "      <td>-0.216914</td>\n",
       "      <td>-0.389085</td>\n",
       "      <td>0.241888</td>\n",
       "    </tr>\n",
       "  </tbody>\n",
       "</table>\n",
       "</div>"
      ],
      "text/plain": [
       "   NumStorePurchases       Age   Recency  MntFruits  MntSweetProducts  \\\n",
       "0          -0.550785  0.985345  0.307039   1.551577          1.476500   \n",
       "1          -1.166125  1.235733 -0.383664  -0.636301         -0.631503   \n",
       "2           1.295237  0.317643 -0.798086   0.570804         -0.146905   \n",
       "3          -0.550785 -1.268149 -0.798086  -0.560857         -0.583043   \n",
       "4           0.064556 -1.017761  1.550305   0.419916         -0.001525   \n",
       "\n",
       "   MntGoldProds  MntFishProducts  MntMeatProducts  MntWines    Income  \n",
       "0      0.843207         2.462147         1.679702  0.983781  0.235696  \n",
       "1     -0.729006        -0.650449        -0.713225 -0.870479 -0.235454  \n",
       "2     -0.038766         1.345274        -0.177032  0.362723  0.773999  \n",
       "3     -0.748179        -0.503974        -0.651187 -0.870479 -1.022355  \n",
       "4     -0.556446         0.155164        -0.216914 -0.389085  0.241888  "
      ]
     },
     "execution_count": 50,
     "metadata": {},
     "output_type": "execute_result"
    }
   ],
   "source": [
    "#starndadization using standard scaler\n",
    "#instantiate standard scaler\n",
    "ss =StandardScaler()\n",
    "# Transform `X`\n",
    "X_scaled_data = ss.fit_transform(X)\n",
    "# Put `X_scaled_data` into DataFrame\n",
    "X_scaled = pd.DataFrame(X_scaled_data,columns=X.columns)\n",
    "\n",
    "print(\"X_scaled type:\", type(X_scaled))\n",
    "print(\"X_scaled shape:\", X_scaled.shape)\n",
    "X_scaled.head()"
   ]
  },
  {
   "cell_type": "code",
   "execution_count": 51,
   "id": "291bf416-ae71-431c-9e3e-7050a22f4c92",
   "metadata": {},
   "outputs": [
    {
     "name": "stdout",
     "output_type": "stream",
     "text": [
      "X_scaled_summary type: <class 'pandas.core.frame.DataFrame'>\n",
      "X_scaled_summary shape: (2, 10)\n"
     ]
    },
    {
     "data": {
      "text/html": [
       "<div>\n",
       "<style scoped>\n",
       "    .dataframe tbody tr th:only-of-type {\n",
       "        vertical-align: middle;\n",
       "    }\n",
       "\n",
       "    .dataframe tbody tr th {\n",
       "        vertical-align: top;\n",
       "    }\n",
       "\n",
       "    .dataframe thead th {\n",
       "        text-align: right;\n",
       "    }\n",
       "</style>\n",
       "<table border=\"1\" class=\"dataframe\">\n",
       "  <thead>\n",
       "    <tr style=\"text-align: right;\">\n",
       "      <th></th>\n",
       "      <th>NumStorePurchases</th>\n",
       "      <th>Age</th>\n",
       "      <th>Recency</th>\n",
       "      <th>MntFruits</th>\n",
       "      <th>MntSweetProducts</th>\n",
       "      <th>MntGoldProds</th>\n",
       "      <th>MntFishProducts</th>\n",
       "      <th>MntMeatProducts</th>\n",
       "      <th>MntWines</th>\n",
       "      <th>Income</th>\n",
       "    </tr>\n",
       "  </thead>\n",
       "  <tbody>\n",
       "    <tr>\n",
       "      <th>mean</th>\n",
       "      <td>0</td>\n",
       "      <td>0</td>\n",
       "      <td>0</td>\n",
       "      <td>0</td>\n",
       "      <td>0</td>\n",
       "      <td>0</td>\n",
       "      <td>0</td>\n",
       "      <td>0</td>\n",
       "      <td>0</td>\n",
       "      <td>0</td>\n",
       "    </tr>\n",
       "    <tr>\n",
       "      <th>std</th>\n",
       "      <td>1</td>\n",
       "      <td>1</td>\n",
       "      <td>1</td>\n",
       "      <td>1</td>\n",
       "      <td>1</td>\n",
       "      <td>1</td>\n",
       "      <td>1</td>\n",
       "      <td>1</td>\n",
       "      <td>1</td>\n",
       "      <td>1</td>\n",
       "    </tr>\n",
       "  </tbody>\n",
       "</table>\n",
       "</div>"
      ],
      "text/plain": [
       "      NumStorePurchases  Age  Recency  MntFruits  MntSweetProducts  \\\n",
       "mean                  0    0        0          0                 0   \n",
       "std                   1    1        1          1                 1   \n",
       "\n",
       "      MntGoldProds  MntFishProducts  MntMeatProducts  MntWines  Income  \n",
       "mean             0                0                0         0       0  \n",
       "std              1                1                1         1       1  "
      ]
     },
     "execution_count": 51,
     "metadata": {},
     "output_type": "execute_result"
    }
   ],
   "source": [
    "X_scaled_summary = X_scaled.aggregate([\"mean\",\"std\"]).astype(int\n",
    "                                                        \n",
    "                                                            )\n",
    "\n",
    "print(\"X_scaled_summary type:\", type(X_scaled_summary))\n",
    "print(\"X_scaled_summary shape:\", X_scaled_summary.shape)\n",
    "X_scaled_summary"
   ]
  },
  {
   "cell_type": "code",
   "execution_count": 52,
   "id": "edb2a8df-04a8-4a24-a0c8-598a45c9485d",
   "metadata": {},
   "outputs": [
    {
     "name": "stdout",
     "output_type": "stream",
     "text": [
      "inertia_errors type: <class 'list'>\n",
      "inertia_errors len: 11\n",
      "Inertia: [14785.2636607747, 13035.88720413312, 12401.13899371947, 11535.117671709137, 11082.076005506742, 10614.1531811916, 10076.607084407779, 9601.579057293893, 9036.916112521198, 8781.854078320219, 8551.170687009326]\n",
      "\n",
      "silhouette_scores type: <class 'list'>\n",
      "silhouette_scores len: 11\n",
      "Silhouette Scores: [0.47032337118345324, 0.2618369541894554, 0.20299579445206228, 0.014731407577812083, 0.0026059813660738334, -0.07536575531238271, -0.09454889262144588, -0.11905238336836053, -0.10964959342090516, -0.1302710640332882, -0.14387765583002343]\n"
     ]
    }
   ],
   "source": [
    "n_clusters = range(2,13)\n",
    "inertia_errors = []\n",
    "silhouette_scores =[]\n",
    "\n",
    "# Add `for` loop to train model and calculate inertia, silhouette score.\n",
    "for k in n_clusters:\n",
    "    #build model\n",
    "    model=make_pipeline(StandardScaler(),KMeans(n_clusters=k,random_state=42))\n",
    "    #train model\n",
    "    model.fit(X)\n",
    "    #calculate inertia\n",
    "    inertia_errors.append(model.named_steps[\"kmeans\"].inertia_)\n",
    "    #calculate silhouette_ score\n",
    "    silhouette_scores.append(silhouette_score(X,model.named_steps[\"kmeans\"].labels_))\n",
    "\n",
    "print(\"inertia_errors type:\", type(inertia_errors))\n",
    "print(\"inertia_errors len:\", len(inertia_errors))\n",
    "print(\"Inertia:\", inertia_errors)\n",
    "print()\n",
    "print(\"silhouette_scores type:\", type(silhouette_scores))\n",
    "print(\"silhouette_scores len:\", len(silhouette_scores))\n",
    "print(\"Silhouette Scores:\", silhouette_scores)"
   ]
  },
  {
   "cell_type": "code",
   "execution_count": 53,
   "id": "93f56320-aea0-478e-8f75-cddc665f3487",
   "metadata": {},
   "outputs": [
    {
     "data": {
      "application/vnd.plotly.v1+json": {
       "config": {
        "plotlyServerURL": "https://plot.ly"
       },
       "data": [
        {
         "hovertemplate": "x=%{x}<br>y=%{y}<extra></extra>",
         "legendgroup": "",
         "line": {
          "color": "#636efa",
          "dash": "solid"
         },
         "marker": {
          "symbol": "circle"
         },
         "mode": "lines",
         "name": "",
         "orientation": "v",
         "showlegend": false,
         "type": "scatter",
         "x": {
          "bdata": "AgMEBQYHCAkKCww=",
          "dtype": "i1"
         },
         "xaxis": "x",
         "y": {
          "bdata": "SuKiv6HgzEBQsOeP8XXJQL3Ti8qROMhANNfdD4+HxkDjZoy6CaXFQCT4cJsTu8RAqR7xtE2uw0DkpYweysDCQADTLEN1psFAyDpwUu0mwUB0aRLZlbPAQA==",
          "dtype": "f8"
         },
         "yaxis": "y"
        }
       ],
       "layout": {
        "legend": {
         "tracegroupgap": 0
        },
        "template": {
         "data": {
          "bar": [
           {
            "error_x": {
             "color": "#2a3f5f"
            },
            "error_y": {
             "color": "#2a3f5f"
            },
            "marker": {
             "line": {
              "color": "#E5ECF6",
              "width": 0.5
             },
             "pattern": {
              "fillmode": "overlay",
              "size": 10,
              "solidity": 0.2
             }
            },
            "type": "bar"
           }
          ],
          "barpolar": [
           {
            "marker": {
             "line": {
              "color": "#E5ECF6",
              "width": 0.5
             },
             "pattern": {
              "fillmode": "overlay",
              "size": 10,
              "solidity": 0.2
             }
            },
            "type": "barpolar"
           }
          ],
          "carpet": [
           {
            "aaxis": {
             "endlinecolor": "#2a3f5f",
             "gridcolor": "white",
             "linecolor": "white",
             "minorgridcolor": "white",
             "startlinecolor": "#2a3f5f"
            },
            "baxis": {
             "endlinecolor": "#2a3f5f",
             "gridcolor": "white",
             "linecolor": "white",
             "minorgridcolor": "white",
             "startlinecolor": "#2a3f5f"
            },
            "type": "carpet"
           }
          ],
          "choropleth": [
           {
            "colorbar": {
             "outlinewidth": 0,
             "ticks": ""
            },
            "type": "choropleth"
           }
          ],
          "contour": [
           {
            "colorbar": {
             "outlinewidth": 0,
             "ticks": ""
            },
            "colorscale": [
             [
              0,
              "#0d0887"
             ],
             [
              0.1111111111111111,
              "#46039f"
             ],
             [
              0.2222222222222222,
              "#7201a8"
             ],
             [
              0.3333333333333333,
              "#9c179e"
             ],
             [
              0.4444444444444444,
              "#bd3786"
             ],
             [
              0.5555555555555556,
              "#d8576b"
             ],
             [
              0.6666666666666666,
              "#ed7953"
             ],
             [
              0.7777777777777778,
              "#fb9f3a"
             ],
             [
              0.8888888888888888,
              "#fdca26"
             ],
             [
              1,
              "#f0f921"
             ]
            ],
            "type": "contour"
           }
          ],
          "contourcarpet": [
           {
            "colorbar": {
             "outlinewidth": 0,
             "ticks": ""
            },
            "type": "contourcarpet"
           }
          ],
          "heatmap": [
           {
            "colorbar": {
             "outlinewidth": 0,
             "ticks": ""
            },
            "colorscale": [
             [
              0,
              "#0d0887"
             ],
             [
              0.1111111111111111,
              "#46039f"
             ],
             [
              0.2222222222222222,
              "#7201a8"
             ],
             [
              0.3333333333333333,
              "#9c179e"
             ],
             [
              0.4444444444444444,
              "#bd3786"
             ],
             [
              0.5555555555555556,
              "#d8576b"
             ],
             [
              0.6666666666666666,
              "#ed7953"
             ],
             [
              0.7777777777777778,
              "#fb9f3a"
             ],
             [
              0.8888888888888888,
              "#fdca26"
             ],
             [
              1,
              "#f0f921"
             ]
            ],
            "type": "heatmap"
           }
          ],
          "histogram": [
           {
            "marker": {
             "pattern": {
              "fillmode": "overlay",
              "size": 10,
              "solidity": 0.2
             }
            },
            "type": "histogram"
           }
          ],
          "histogram2d": [
           {
            "colorbar": {
             "outlinewidth": 0,
             "ticks": ""
            },
            "colorscale": [
             [
              0,
              "#0d0887"
             ],
             [
              0.1111111111111111,
              "#46039f"
             ],
             [
              0.2222222222222222,
              "#7201a8"
             ],
             [
              0.3333333333333333,
              "#9c179e"
             ],
             [
              0.4444444444444444,
              "#bd3786"
             ],
             [
              0.5555555555555556,
              "#d8576b"
             ],
             [
              0.6666666666666666,
              "#ed7953"
             ],
             [
              0.7777777777777778,
              "#fb9f3a"
             ],
             [
              0.8888888888888888,
              "#fdca26"
             ],
             [
              1,
              "#f0f921"
             ]
            ],
            "type": "histogram2d"
           }
          ],
          "histogram2dcontour": [
           {
            "colorbar": {
             "outlinewidth": 0,
             "ticks": ""
            },
            "colorscale": [
             [
              0,
              "#0d0887"
             ],
             [
              0.1111111111111111,
              "#46039f"
             ],
             [
              0.2222222222222222,
              "#7201a8"
             ],
             [
              0.3333333333333333,
              "#9c179e"
             ],
             [
              0.4444444444444444,
              "#bd3786"
             ],
             [
              0.5555555555555556,
              "#d8576b"
             ],
             [
              0.6666666666666666,
              "#ed7953"
             ],
             [
              0.7777777777777778,
              "#fb9f3a"
             ],
             [
              0.8888888888888888,
              "#fdca26"
             ],
             [
              1,
              "#f0f921"
             ]
            ],
            "type": "histogram2dcontour"
           }
          ],
          "mesh3d": [
           {
            "colorbar": {
             "outlinewidth": 0,
             "ticks": ""
            },
            "type": "mesh3d"
           }
          ],
          "parcoords": [
           {
            "line": {
             "colorbar": {
              "outlinewidth": 0,
              "ticks": ""
             }
            },
            "type": "parcoords"
           }
          ],
          "pie": [
           {
            "automargin": true,
            "type": "pie"
           }
          ],
          "scatter": [
           {
            "fillpattern": {
             "fillmode": "overlay",
             "size": 10,
             "solidity": 0.2
            },
            "type": "scatter"
           }
          ],
          "scatter3d": [
           {
            "line": {
             "colorbar": {
              "outlinewidth": 0,
              "ticks": ""
             }
            },
            "marker": {
             "colorbar": {
              "outlinewidth": 0,
              "ticks": ""
             }
            },
            "type": "scatter3d"
           }
          ],
          "scattercarpet": [
           {
            "marker": {
             "colorbar": {
              "outlinewidth": 0,
              "ticks": ""
             }
            },
            "type": "scattercarpet"
           }
          ],
          "scattergeo": [
           {
            "marker": {
             "colorbar": {
              "outlinewidth": 0,
              "ticks": ""
             }
            },
            "type": "scattergeo"
           }
          ],
          "scattergl": [
           {
            "marker": {
             "colorbar": {
              "outlinewidth": 0,
              "ticks": ""
             }
            },
            "type": "scattergl"
           }
          ],
          "scattermap": [
           {
            "marker": {
             "colorbar": {
              "outlinewidth": 0,
              "ticks": ""
             }
            },
            "type": "scattermap"
           }
          ],
          "scattermapbox": [
           {
            "marker": {
             "colorbar": {
              "outlinewidth": 0,
              "ticks": ""
             }
            },
            "type": "scattermapbox"
           }
          ],
          "scatterpolar": [
           {
            "marker": {
             "colorbar": {
              "outlinewidth": 0,
              "ticks": ""
             }
            },
            "type": "scatterpolar"
           }
          ],
          "scatterpolargl": [
           {
            "marker": {
             "colorbar": {
              "outlinewidth": 0,
              "ticks": ""
             }
            },
            "type": "scatterpolargl"
           }
          ],
          "scatterternary": [
           {
            "marker": {
             "colorbar": {
              "outlinewidth": 0,
              "ticks": ""
             }
            },
            "type": "scatterternary"
           }
          ],
          "surface": [
           {
            "colorbar": {
             "outlinewidth": 0,
             "ticks": ""
            },
            "colorscale": [
             [
              0,
              "#0d0887"
             ],
             [
              0.1111111111111111,
              "#46039f"
             ],
             [
              0.2222222222222222,
              "#7201a8"
             ],
             [
              0.3333333333333333,
              "#9c179e"
             ],
             [
              0.4444444444444444,
              "#bd3786"
             ],
             [
              0.5555555555555556,
              "#d8576b"
             ],
             [
              0.6666666666666666,
              "#ed7953"
             ],
             [
              0.7777777777777778,
              "#fb9f3a"
             ],
             [
              0.8888888888888888,
              "#fdca26"
             ],
             [
              1,
              "#f0f921"
             ]
            ],
            "type": "surface"
           }
          ],
          "table": [
           {
            "cells": {
             "fill": {
              "color": "#EBF0F8"
             },
             "line": {
              "color": "white"
             }
            },
            "header": {
             "fill": {
              "color": "#C8D4E3"
             },
             "line": {
              "color": "white"
             }
            },
            "type": "table"
           }
          ]
         },
         "layout": {
          "annotationdefaults": {
           "arrowcolor": "#2a3f5f",
           "arrowhead": 0,
           "arrowwidth": 1
          },
          "autotypenumbers": "strict",
          "coloraxis": {
           "colorbar": {
            "outlinewidth": 0,
            "ticks": ""
           }
          },
          "colorscale": {
           "diverging": [
            [
             0,
             "#8e0152"
            ],
            [
             0.1,
             "#c51b7d"
            ],
            [
             0.2,
             "#de77ae"
            ],
            [
             0.3,
             "#f1b6da"
            ],
            [
             0.4,
             "#fde0ef"
            ],
            [
             0.5,
             "#f7f7f7"
            ],
            [
             0.6,
             "#e6f5d0"
            ],
            [
             0.7,
             "#b8e186"
            ],
            [
             0.8,
             "#7fbc41"
            ],
            [
             0.9,
             "#4d9221"
            ],
            [
             1,
             "#276419"
            ]
           ],
           "sequential": [
            [
             0,
             "#0d0887"
            ],
            [
             0.1111111111111111,
             "#46039f"
            ],
            [
             0.2222222222222222,
             "#7201a8"
            ],
            [
             0.3333333333333333,
             "#9c179e"
            ],
            [
             0.4444444444444444,
             "#bd3786"
            ],
            [
             0.5555555555555556,
             "#d8576b"
            ],
            [
             0.6666666666666666,
             "#ed7953"
            ],
            [
             0.7777777777777778,
             "#fb9f3a"
            ],
            [
             0.8888888888888888,
             "#fdca26"
            ],
            [
             1,
             "#f0f921"
            ]
           ],
           "sequentialminus": [
            [
             0,
             "#0d0887"
            ],
            [
             0.1111111111111111,
             "#46039f"
            ],
            [
             0.2222222222222222,
             "#7201a8"
            ],
            [
             0.3333333333333333,
             "#9c179e"
            ],
            [
             0.4444444444444444,
             "#bd3786"
            ],
            [
             0.5555555555555556,
             "#d8576b"
            ],
            [
             0.6666666666666666,
             "#ed7953"
            ],
            [
             0.7777777777777778,
             "#fb9f3a"
            ],
            [
             0.8888888888888888,
             "#fdca26"
            ],
            [
             1,
             "#f0f921"
            ]
           ]
          },
          "colorway": [
           "#636efa",
           "#EF553B",
           "#00cc96",
           "#ab63fa",
           "#FFA15A",
           "#19d3f3",
           "#FF6692",
           "#B6E880",
           "#FF97FF",
           "#FECB52"
          ],
          "font": {
           "color": "#2a3f5f"
          },
          "geo": {
           "bgcolor": "white",
           "lakecolor": "white",
           "landcolor": "#E5ECF6",
           "showlakes": true,
           "showland": true,
           "subunitcolor": "white"
          },
          "hoverlabel": {
           "align": "left"
          },
          "hovermode": "closest",
          "mapbox": {
           "style": "light"
          },
          "paper_bgcolor": "white",
          "plot_bgcolor": "#E5ECF6",
          "polar": {
           "angularaxis": {
            "gridcolor": "white",
            "linecolor": "white",
            "ticks": ""
           },
           "bgcolor": "#E5ECF6",
           "radialaxis": {
            "gridcolor": "white",
            "linecolor": "white",
            "ticks": ""
           }
          },
          "scene": {
           "xaxis": {
            "backgroundcolor": "#E5ECF6",
            "gridcolor": "white",
            "gridwidth": 2,
            "linecolor": "white",
            "showbackground": true,
            "ticks": "",
            "zerolinecolor": "white"
           },
           "yaxis": {
            "backgroundcolor": "#E5ECF6",
            "gridcolor": "white",
            "gridwidth": 2,
            "linecolor": "white",
            "showbackground": true,
            "ticks": "",
            "zerolinecolor": "white"
           },
           "zaxis": {
            "backgroundcolor": "#E5ECF6",
            "gridcolor": "white",
            "gridwidth": 2,
            "linecolor": "white",
            "showbackground": true,
            "ticks": "",
            "zerolinecolor": "white"
           }
          },
          "shapedefaults": {
           "line": {
            "color": "#2a3f5f"
           }
          },
          "ternary": {
           "aaxis": {
            "gridcolor": "white",
            "linecolor": "white",
            "ticks": ""
           },
           "baxis": {
            "gridcolor": "white",
            "linecolor": "white",
            "ticks": ""
           },
           "bgcolor": "#E5ECF6",
           "caxis": {
            "gridcolor": "white",
            "linecolor": "white",
            "ticks": ""
           }
          },
          "title": {
           "x": 0.05
          },
          "xaxis": {
           "automargin": true,
           "gridcolor": "white",
           "linecolor": "white",
           "ticks": "",
           "title": {
            "standoff": 15
           },
           "zerolinecolor": "white",
           "zerolinewidth": 2
          },
          "yaxis": {
           "automargin": true,
           "gridcolor": "white",
           "linecolor": "white",
           "ticks": "",
           "title": {
            "standoff": 15
           },
           "zerolinecolor": "white",
           "zerolinewidth": 2
          }
         }
        },
        "title": {
         "text": "K-Means Model: Inertia vs Number of Clusters"
        },
        "xaxis": {
         "anchor": "y",
         "domain": [
          0,
          1
         ],
         "title": {
          "text": "number of clusters(k)"
         }
        },
        "yaxis": {
         "anchor": "x",
         "domain": [
          0,
          1
         ],
         "title": {
          "text": "inertia[$]"
         }
        }
       }
      },
      "image/png": "[encoded data removed]"
     },
     "metadata": {},
     "output_type": "display_data"
    }
   ],
   "source": [
    "# Create line plot of `inertia_errors` vs `n_clusters`\n",
    "fig = px.line(\n",
    "    x=n_clusters,y=inertia_errors,title=\"K-Means Model: Inertia vs Number of Clusters\"\n",
    ")\n",
    "fig.update_layout(xaxis_title=\"number of clusters(k)\",yaxis_title=\"inertia[$]\")\n",
    "fig.show()"
   ]
  },
  {
   "cell_type": "code",
   "execution_count": 54,
   "id": "a6b3f3ac-e0ad-4c07-bf7a-df8deec5056e",
   "metadata": {},
   "outputs": [
    {
     "data": {
      "application/vnd.plotly.v1+json": {
       "config": {
        "plotlyServerURL": "https://plot.ly"
       },
       "data": [
        {
         "hovertemplate": "x=%{x}<br>y=%{y}<extra></extra>",
         "legendgroup": "",
         "line": {
          "color": "#636efa",
          "dash": "solid"
         },
         "marker": {
          "symbol": "circle"
         },
         "mode": "lines",
         "name": "",
         "orientation": "v",
         "showlegend": false,
         "type": "scatter",
         "x": {
          "bdata": "AgMEBQYHCAkKCww=",
          "dtype": "i1"
         },
         "xaxis": "x",
         "y": {
          "bdata": "7sBxMscZ3j+EMMjI78HQP6zVMiXE+8k/s34qDoArjj8lgbiXI1llP+wVTo4rS7O/y5+uMVs0uL9f9RONN3q+vy4yw+n+Eby/Fq3R47iswL/QITVBlWrCvw==",
          "dtype": "f8"
         },
         "yaxis": "y"
        }
       ],
       "layout": {
        "legend": {
         "tracegroupgap": 0
        },
        "template": {
         "data": {
          "bar": [
           {
            "error_x": {
             "color": "#2a3f5f"
            },
            "error_y": {
             "color": "#2a3f5f"
            },
            "marker": {
             "line": {
              "color": "#E5ECF6",
              "width": 0.5
             },
             "pattern": {
              "fillmode": "overlay",
              "size": 10,
              "solidity": 0.2
             }
            },
            "type": "bar"
           }
          ],
          "barpolar": [
           {
            "marker": {
             "line": {
              "color": "#E5ECF6",
              "width": 0.5
             },
             "pattern": {
              "fillmode": "overlay",
              "size": 10,
              "solidity": 0.2
             }
            },
            "type": "barpolar"
           }
          ],
          "carpet": [
           {
            "aaxis": {
             "endlinecolor": "#2a3f5f",
             "gridcolor": "white",
             "linecolor": "white",
             "minorgridcolor": "white",
             "startlinecolor": "#2a3f5f"
            },
            "baxis": {
             "endlinecolor": "#2a3f5f",
             "gridcolor": "white",
             "linecolor": "white",
             "minorgridcolor": "white",
             "startlinecolor": "#2a3f5f"
            },
            "type": "carpet"
           }
          ],
          "choropleth": [
           {
            "colorbar": {
             "outlinewidth": 0,
             "ticks": ""
            },
            "type": "choropleth"
           }
          ],
          "contour": [
           {
            "colorbar": {
             "outlinewidth": 0,
             "ticks": ""
            },
            "colorscale": [
             [
              0,
              "#0d0887"
             ],
             [
              0.1111111111111111,
              "#46039f"
             ],
             [
              0.2222222222222222,
              "#7201a8"
             ],
             [
              0.3333333333333333,
              "#9c179e"
             ],
             [
              0.4444444444444444,
              "#bd3786"
             ],
             [
              0.5555555555555556,
              "#d8576b"
             ],
             [
              0.6666666666666666,
              "#ed7953"
             ],
             [
              0.7777777777777778,
              "#fb9f3a"
             ],
             [
              0.8888888888888888,
              "#fdca26"
             ],
             [
              1,
              "#f0f921"
             ]
            ],
            "type": "contour"
           }
          ],
          "contourcarpet": [
           {
            "colorbar": {
             "outlinewidth": 0,
             "ticks": ""
            },
            "type": "contourcarpet"
           }
          ],
          "heatmap": [
           {
            "colorbar": {
             "outlinewidth": 0,
             "ticks": ""
            },
            "colorscale": [
             [
              0,
              "#0d0887"
             ],
             [
              0.1111111111111111,
              "#46039f"
             ],
             [
              0.2222222222222222,
              "#7201a8"
             ],
             [
              0.3333333333333333,
              "#9c179e"
             ],
             [
              0.4444444444444444,
              "#bd3786"
             ],
             [
              0.5555555555555556,
              "#d8576b"
             ],
             [
              0.6666666666666666,
              "#ed7953"
             ],
             [
              0.7777777777777778,
              "#fb9f3a"
             ],
             [
              0.8888888888888888,
              "#fdca26"
             ],
             [
              1,
              "#f0f921"
             ]
            ],
            "type": "heatmap"
           }
          ],
          "histogram": [
           {
            "marker": {
             "pattern": {
              "fillmode": "overlay",
              "size": 10,
              "solidity": 0.2
             }
            },
            "type": "histogram"
           }
          ],
          "histogram2d": [
           {
            "colorbar": {
             "outlinewidth": 0,
             "ticks": ""
            },
            "colorscale": [
             [
              0,
              "#0d0887"
             ],
             [
              0.1111111111111111,
              "#46039f"
             ],
             [
              0.2222222222222222,
              "#7201a8"
             ],
             [
              0.3333333333333333,
              "#9c179e"
             ],
             [
              0.4444444444444444,
              "#bd3786"
             ],
             [
              0.5555555555555556,
              "#d8576b"
             ],
             [
              0.6666666666666666,
              "#ed7953"
             ],
             [
              0.7777777777777778,
              "#fb9f3a"
             ],
             [
              0.8888888888888888,
              "#fdca26"
             ],
             [
              1,
              "#f0f921"
             ]
            ],
            "type": "histogram2d"
           }
          ],
          "histogram2dcontour": [
           {
            "colorbar": {
             "outlinewidth": 0,
             "ticks": ""
            },
            "colorscale": [
             [
              0,
              "#0d0887"
             ],
             [
              0.1111111111111111,
              "#46039f"
             ],
             [
              0.2222222222222222,
              "#7201a8"
             ],
             [
              0.3333333333333333,
              "#9c179e"
             ],
             [
              0.4444444444444444,
              "#bd3786"
             ],
             [
              0.5555555555555556,
              "#d8576b"
             ],
             [
              0.6666666666666666,
              "#ed7953"
             ],
             [
              0.7777777777777778,
              "#fb9f3a"
             ],
             [
              0.8888888888888888,
              "#fdca26"
             ],
             [
              1,
              "#f0f921"
             ]
            ],
            "type": "histogram2dcontour"
           }
          ],
          "mesh3d": [
           {
            "colorbar": {
             "outlinewidth": 0,
             "ticks": ""
            },
            "type": "mesh3d"
           }
          ],
          "parcoords": [
           {
            "line": {
             "colorbar": {
              "outlinewidth": 0,
              "ticks": ""
             }
            },
            "type": "parcoords"
           }
          ],
          "pie": [
           {
            "automargin": true,
            "type": "pie"
           }
          ],
          "scatter": [
           {
            "fillpattern": {
             "fillmode": "overlay",
             "size": 10,
             "solidity": 0.2
            },
            "type": "scatter"
           }
          ],
          "scatter3d": [
           {
            "line": {
             "colorbar": {
              "outlinewidth": 0,
              "ticks": ""
             }
            },
            "marker": {
             "colorbar": {
              "outlinewidth": 0,
              "ticks": ""
             }
            },
            "type": "scatter3d"
           }
          ],
          "scattercarpet": [
           {
            "marker": {
             "colorbar": {
              "outlinewidth": 0,
              "ticks": ""
             }
            },
            "type": "scattercarpet"
           }
          ],
          "scattergeo": [
           {
            "marker": {
             "colorbar": {
              "outlinewidth": 0,
              "ticks": ""
             }
            },
            "type": "scattergeo"
           }
          ],
          "scattergl": [
           {
            "marker": {
             "colorbar": {
              "outlinewidth": 0,
              "ticks": ""
             }
            },
            "type": "scattergl"
           }
          ],
          "scattermap": [
           {
            "marker": {
             "colorbar": {
              "outlinewidth": 0,
              "ticks": ""
             }
            },
            "type": "scattermap"
           }
          ],
          "scattermapbox": [
           {
            "marker": {
             "colorbar": {
              "outlinewidth": 0,
              "ticks": ""
             }
            },
            "type": "scattermapbox"
           }
          ],
          "scatterpolar": [
           {
            "marker": {
             "colorbar": {
              "outlinewidth": 0,
              "ticks": ""
             }
            },
            "type": "scatterpolar"
           }
          ],
          "scatterpolargl": [
           {
            "marker": {
             "colorbar": {
              "outlinewidth": 0,
              "ticks": ""
             }
            },
            "type": "scatterpolargl"
           }
          ],
          "scatterternary": [
           {
            "marker": {
             "colorbar": {
              "outlinewidth": 0,
              "ticks": ""
             }
            },
            "type": "scatterternary"
           }
          ],
          "surface": [
           {
            "colorbar": {
             "outlinewidth": 0,
             "ticks": ""
            },
            "colorscale": [
             [
              0,
              "#0d0887"
             ],
             [
              0.1111111111111111,
              "#46039f"
             ],
             [
              0.2222222222222222,
              "#7201a8"
             ],
             [
              0.3333333333333333,
              "#9c179e"
             ],
             [
              0.4444444444444444,
              "#bd3786"
             ],
             [
              0.5555555555555556,
              "#d8576b"
             ],
             [
              0.6666666666666666,
              "#ed7953"
             ],
             [
              0.7777777777777778,
              "#fb9f3a"
             ],
             [
              0.8888888888888888,
              "#fdca26"
             ],
             [
              1,
              "#f0f921"
             ]
            ],
            "type": "surface"
           }
          ],
          "table": [
           {
            "cells": {
             "fill": {
              "color": "#EBF0F8"
             },
             "line": {
              "color": "white"
             }
            },
            "header": {
             "fill": {
              "color": "#C8D4E3"
             },
             "line": {
              "color": "white"
             }
            },
            "type": "table"
           }
          ]
         },
         "layout": {
          "annotationdefaults": {
           "arrowcolor": "#2a3f5f",
           "arrowhead": 0,
           "arrowwidth": 1
          },
          "autotypenumbers": "strict",
          "coloraxis": {
           "colorbar": {
            "outlinewidth": 0,
            "ticks": ""
           }
          },
          "colorscale": {
           "diverging": [
            [
             0,
             "#8e0152"
            ],
            [
             0.1,
             "#c51b7d"
            ],
            [
             0.2,
             "#de77ae"
            ],
            [
             0.3,
             "#f1b6da"
            ],
            [
             0.4,
             "#fde0ef"
            ],
            [
             0.5,
             "#f7f7f7"
            ],
            [
             0.6,
             "#e6f5d0"
            ],
            [
             0.7,
             "#b8e186"
            ],
            [
             0.8,
             "#7fbc41"
            ],
            [
             0.9,
             "#4d9221"
            ],
            [
             1,
             "#276419"
            ]
           ],
           "sequential": [
            [
             0,
             "#0d0887"
            ],
            [
             0.1111111111111111,
             "#46039f"
            ],
            [
             0.2222222222222222,
             "#7201a8"
            ],
            [
             0.3333333333333333,
             "#9c179e"
            ],
            [
             0.4444444444444444,
             "#bd3786"
            ],
            [
             0.5555555555555556,
             "#d8576b"
            ],
            [
             0.6666666666666666,
             "#ed7953"
            ],
            [
             0.7777777777777778,
             "#fb9f3a"
            ],
            [
             0.8888888888888888,
             "#fdca26"
            ],
            [
             1,
             "#f0f921"
            ]
           ],
           "sequentialminus": [
            [
             0,
             "#0d0887"
            ],
            [
             0.1111111111111111,
             "#46039f"
            ],
            [
             0.2222222222222222,
             "#7201a8"
            ],
            [
             0.3333333333333333,
             "#9c179e"
            ],
            [
             0.4444444444444444,
             "#bd3786"
            ],
            [
             0.5555555555555556,
             "#d8576b"
            ],
            [
             0.6666666666666666,
             "#ed7953"
            ],
            [
             0.7777777777777778,
             "#fb9f3a"
            ],
            [
             0.8888888888888888,
             "#fdca26"
            ],
            [
             1,
             "#f0f921"
            ]
           ]
          },
          "colorway": [
           "#636efa",
           "#EF553B",
           "#00cc96",
           "#ab63fa",
           "#FFA15A",
           "#19d3f3",
           "#FF6692",
           "#B6E880",
           "#FF97FF",
           "#FECB52"
          ],
          "font": {
           "color": "#2a3f5f"
          },
          "geo": {
           "bgcolor": "white",
           "lakecolor": "white",
           "landcolor": "#E5ECF6",
           "showlakes": true,
           "showland": true,
           "subunitcolor": "white"
          },
          "hoverlabel": {
           "align": "left"
          },
          "hovermode": "closest",
          "mapbox": {
           "style": "light"
          },
          "paper_bgcolor": "white",
          "plot_bgcolor": "#E5ECF6",
          "polar": {
           "angularaxis": {
            "gridcolor": "white",
            "linecolor": "white",
            "ticks": ""
           },
           "bgcolor": "#E5ECF6",
           "radialaxis": {
            "gridcolor": "white",
            "linecolor": "white",
            "ticks": ""
           }
          },
          "scene": {
           "xaxis": {
            "backgroundcolor": "#E5ECF6",
            "gridcolor": "white",
            "gridwidth": 2,
            "linecolor": "white",
            "showbackground": true,
            "ticks": "",
            "zerolinecolor": "white"
           },
           "yaxis": {
            "backgroundcolor": "#E5ECF6",
            "gridcolor": "white",
            "gridwidth": 2,
            "linecolor": "white",
            "showbackground": true,
            "ticks": "",
            "zerolinecolor": "white"
           },
           "zaxis": {
            "backgroundcolor": "#E5ECF6",
            "gridcolor": "white",
            "gridwidth": 2,
            "linecolor": "white",
            "showbackground": true,
            "ticks": "",
            "zerolinecolor": "white"
           }
          },
          "shapedefaults": {
           "line": {
            "color": "#2a3f5f"
           }
          },
          "ternary": {
           "aaxis": {
            "gridcolor": "white",
            "linecolor": "white",
            "ticks": ""
           },
           "baxis": {
            "gridcolor": "white",
            "linecolor": "white",
            "ticks": ""
           },
           "bgcolor": "#E5ECF6",
           "caxis": {
            "gridcolor": "white",
            "linecolor": "white",
            "ticks": ""
           }
          },
          "title": {
           "x": 0.05
          },
          "xaxis": {
           "automargin": true,
           "gridcolor": "white",
           "linecolor": "white",
           "ticks": "",
           "title": {
            "standoff": 15
           },
           "zerolinecolor": "white",
           "zerolinewidth": 2
          },
          "yaxis": {
           "automargin": true,
           "gridcolor": "white",
           "linecolor": "white",
           "ticks": "",
           "title": {
            "standoff": 15
           },
           "zerolinecolor": "white",
           "zerolinewidth": 2
          }
         }
        },
        "title": {
         "text": "K-Means Model: Silhouette Score vs Number of Clusters"
        },
        "xaxis": {
         "anchor": "y",
         "domain": [
          0,
          1
         ],
         "title": {
          "text": "number of clusters"
         }
        },
        "yaxis": {
         "anchor": "x",
         "domain": [
          0,
          1
         ],
         "title": {
          "text": "silhouette_score"
         }
        }
       }
      },
      "image/png": "[encoded data removed]"
     },
     "metadata": {},
     "output_type": "display_data"
    }
   ],
   "source": [
    "# Create a line plot of `silhouette_scores` vs `n_clusters`\n",
    "fig = px.line(\n",
    "    x=n_clusters,\n",
    "    y=silhouette_scores,\n",
    "    title=\"K-Means Model: Silhouette Score vs Number of Clusters\"\n",
    ")\n",
    "fig.update_layout(xaxis_title=\"number of clusters\",yaxis_title=\"silhouette_score\")\n",
    "fig.show()"
   ]
  },
  {
   "cell_type": "code",
   "execution_count": 55,
   "id": "b7efa853-ce46-49ce-8e06-53992ae123fa",
   "metadata": {},
   "outputs": [
    {
     "data": {
      "text/html": [
       "<style>#sk-container-id-2 {\n",
       "  /* Definition of color scheme common for light and dark mode */\n",
       "  --sklearn-color-text: #000;\n",
       "  --sklearn-color-text-muted: #666;\n",
       "  --sklearn-color-line: gray;\n",
       "  /* Definition of color scheme for unfitted estimators */\n",
       "  --sklearn-color-unfitted-level-0: #fff5e6;\n",
       "  --sklearn-color-unfitted-level-1: #f6e4d2;\n",
       "  --sklearn-color-unfitted-level-2: #ffe0b3;\n",
       "  --sklearn-color-unfitted-level-3: chocolate;\n",
       "  /* Definition of color scheme for fitted estimators */\n",
       "  --sklearn-color-fitted-level-0: #f0f8ff;\n",
       "  --sklearn-color-fitted-level-1: #d4ebff;\n",
       "  --sklearn-color-fitted-level-2: #b3dbfd;\n",
       "  --sklearn-color-fitted-level-3: cornflowerblue;\n",
       "\n",
       "  /* Specific color for light theme */\n",
       "  --sklearn-color-text-on-default-background: var(--sg-text-color, var(--theme-code-foreground, var(--jp-content-font-color1, black)));\n",
       "  --sklearn-color-background: var(--sg-background-color, var(--theme-background, var(--jp-layout-color0, white)));\n",
       "  --sklearn-color-border-box: var(--sg-text-color, var(--theme-code-foreground, var(--jp-content-font-color1, black)));\n",
       "  --sklearn-color-icon: #696969;\n",
       "\n",
       "  @media (prefers-color-scheme: dark) {\n",
       "    /* Redefinition of color scheme for dark theme */\n",
       "    --sklearn-color-text-on-default-background: var(--sg-text-color, var(--theme-code-foreground, var(--jp-content-font-color1, white)));\n",
       "    --sklearn-color-background: var(--sg-background-color, var(--theme-background, var(--jp-layout-color0, #111)));\n",
       "    --sklearn-color-border-box: var(--sg-text-color, var(--theme-code-foreground, var(--jp-content-font-color1, white)));\n",
       "    --sklearn-color-icon: #878787;\n",
       "  }\n",
       "}\n",
       "\n",
       "#sk-container-id-2 {\n",
       "  color: var(--sklearn-color-text);\n",
       "}\n",
       "\n",
       "#sk-container-id-2 pre {\n",
       "  padding: 0;\n",
       "}\n",
       "\n",
       "#sk-container-id-2 input.sk-hidden--visually {\n",
       "  border: 0;\n",
       "  clip: rect(1px 1px 1px 1px);\n",
       "  clip: rect(1px, 1px, 1px, 1px);\n",
       "  height: 1px;\n",
       "  margin: -1px;\n",
       "  overflow: hidden;\n",
       "  padding: 0;\n",
       "  position: absolute;\n",
       "  width: 1px;\n",
       "}\n",
       "\n",
       "#sk-container-id-2 div.sk-dashed-wrapped {\n",
       "  border: 1px dashed var(--sklearn-color-line);\n",
       "  margin: 0 0.4em 0.5em 0.4em;\n",
       "  box-sizing: border-box;\n",
       "  padding-bottom: 0.4em;\n",
       "  background-color: var(--sklearn-color-background);\n",
       "}\n",
       "\n",
       "#sk-container-id-2 div.sk-container {\n",
       "  /* jupyter's `normalize.less` sets `[hidden] { display: none; }`\n",
       "     but bootstrap.min.css set `[hidden] { display: none !important; }`\n",
       "     so we also need the `!important` here to be able to override the\n",
       "     default hidden behavior on the sphinx rendered scikit-learn.org.\n",
       "     See: https://github.com/scikit-learn/scikit-learn/issues/21755 */\n",
       "  display: inline-block !important;\n",
       "  position: relative;\n",
       "}\n",
       "\n",
       "#sk-container-id-2 div.sk-text-repr-fallback {\n",
       "  display: none;\n",
       "}\n",
       "\n",
       "div.sk-parallel-item,\n",
       "div.sk-serial,\n",
       "div.sk-item {\n",
       "  /* draw centered vertical line to link estimators */\n",
       "  background-image: linear-gradient(var(--sklearn-color-text-on-default-background), var(--sklearn-color-text-on-default-background));\n",
       "  background-size: 2px 100%;\n",
       "  background-repeat: no-repeat;\n",
       "  background-position: center center;\n",
       "}\n",
       "\n",
       "/* Parallel-specific style estimator block */\n",
       "\n",
       "#sk-container-id-2 div.sk-parallel-item::after {\n",
       "  content: \"\";\n",
       "  width: 100%;\n",
       "  border-bottom: 2px solid var(--sklearn-color-text-on-default-background);\n",
       "  flex-grow: 1;\n",
       "}\n",
       "\n",
       "#sk-container-id-2 div.sk-parallel {\n",
       "  display: flex;\n",
       "  align-items: stretch;\n",
       "  justify-content: center;\n",
       "  background-color: var(--sklearn-color-background);\n",
       "  position: relative;\n",
       "}\n",
       "\n",
       "#sk-container-id-2 div.sk-parallel-item {\n",
       "  display: flex;\n",
       "  flex-direction: column;\n",
       "}\n",
       "\n",
       "#sk-container-id-2 div.sk-parallel-item:first-child::after {\n",
       "  align-self: flex-end;\n",
       "  width: 50%;\n",
       "}\n",
       "\n",
       "#sk-container-id-2 div.sk-parallel-item:last-child::after {\n",
       "  align-self: flex-start;\n",
       "  width: 50%;\n",
       "}\n",
       "\n",
       "#sk-container-id-2 div.sk-parallel-item:only-child::after {\n",
       "  width: 0;\n",
       "}\n",
       "\n",
       "/* Serial-specific style estimator block */\n",
       "\n",
       "#sk-container-id-2 div.sk-serial {\n",
       "  display: flex;\n",
       "  flex-direction: column;\n",
       "  align-items: center;\n",
       "  background-color: var(--sklearn-color-background);\n",
       "  padding-right: 1em;\n",
       "  padding-left: 1em;\n",
       "}\n",
       "\n",
       "\n",
       "/* Toggleable style: style used for estimator/Pipeline/ColumnTransformer box that is\n",
       "clickable and can be expanded/collapsed.\n",
       "- Pipeline and ColumnTransformer use this feature and define the default style\n",
       "- Estimators will overwrite some part of the style using the `sk-estimator` class\n",
       "*/\n",
       "\n",
       "/* Pipeline and ColumnTransformer style (default) */\n",
       "\n",
       "#sk-container-id-2 div.sk-toggleable {\n",
       "  /* Default theme specific background. It is overwritten whether we have a\n",
       "  specific estimator or a Pipeline/ColumnTransformer */\n",
       "  background-color: var(--sklearn-color-background);\n",
       "}\n",
       "\n",
       "/* Toggleable label */\n",
       "#sk-container-id-2 label.sk-toggleable__label {\n",
       "  cursor: pointer;\n",
       "  display: flex;\n",
       "  width: 100%;\n",
       "  margin-bottom: 0;\n",
       "  padding: 0.5em;\n",
       "  box-sizing: border-box;\n",
       "  text-align: center;\n",
       "  align-items: start;\n",
       "  justify-content: space-between;\n",
       "  gap: 0.5em;\n",
       "}\n",
       "\n",
       "#sk-container-id-2 label.sk-toggleable__label .caption {\n",
       "  font-size: 0.6rem;\n",
       "  font-weight: lighter;\n",
       "  color: var(--sklearn-color-text-muted);\n",
       "}\n",
       "\n",
       "#sk-container-id-2 label.sk-toggleable__label-arrow:before {\n",
       "  /* Arrow on the left of the label */\n",
       "  content: \"▸\";\n",
       "  float: left;\n",
       "  margin-right: 0.25em;\n",
       "  color: var(--sklearn-color-icon);\n",
       "}\n",
       "\n",
       "#sk-container-id-2 label.sk-toggleable__label-arrow:hover:before {\n",
       "  color: var(--sklearn-color-text);\n",
       "}\n",
       "\n",
       "/* Toggleable content - dropdown */\n",
       "\n",
       "#sk-container-id-2 div.sk-toggleable__content {\n",
       "  display: none;\n",
       "  text-align: left;\n",
       "  /* unfitted */\n",
       "  background-color: var(--sklearn-color-unfitted-level-0);\n",
       "}\n",
       "\n",
       "#sk-container-id-2 div.sk-toggleable__content.fitted {\n",
       "  /* fitted */\n",
       "  background-color: var(--sklearn-color-fitted-level-0);\n",
       "}\n",
       "\n",
       "#sk-container-id-2 div.sk-toggleable__content pre {\n",
       "  margin: 0.2em;\n",
       "  border-radius: 0.25em;\n",
       "  color: var(--sklearn-color-text);\n",
       "  /* unfitted */\n",
       "  background-color: var(--sklearn-color-unfitted-level-0);\n",
       "}\n",
       "\n",
       "#sk-container-id-2 div.sk-toggleable__content.fitted pre {\n",
       "  /* unfitted */\n",
       "  background-color: var(--sklearn-color-fitted-level-0);\n",
       "}\n",
       "\n",
       "#sk-container-id-2 input.sk-toggleable__control:checked~div.sk-toggleable__content {\n",
       "  /* Expand drop-down */\n",
       "  display: block;\n",
       "  width: 100%;\n",
       "  overflow: visible;\n",
       "}\n",
       "\n",
       "#sk-container-id-2 input.sk-toggleable__control:checked~label.sk-toggleable__label-arrow:before {\n",
       "  content: \"▾\";\n",
       "}\n",
       "\n",
       "/* Pipeline/ColumnTransformer-specific style */\n",
       "\n",
       "#sk-container-id-2 div.sk-label input.sk-toggleable__control:checked~label.sk-toggleable__label {\n",
       "  color: var(--sklearn-color-text);\n",
       "  background-color: var(--sklearn-color-unfitted-level-2);\n",
       "}\n",
       "\n",
       "#sk-container-id-2 div.sk-label.fitted input.sk-toggleable__control:checked~label.sk-toggleable__label {\n",
       "  background-color: var(--sklearn-color-fitted-level-2);\n",
       "}\n",
       "\n",
       "/* Estimator-specific style */\n",
       "\n",
       "/* Colorize estimator box */\n",
       "#sk-container-id-2 div.sk-estimator input.sk-toggleable__control:checked~label.sk-toggleable__label {\n",
       "  /* unfitted */\n",
       "  background-color: var(--sklearn-color-unfitted-level-2);\n",
       "}\n",
       "\n",
       "#sk-container-id-2 div.sk-estimator.fitted input.sk-toggleable__control:checked~label.sk-toggleable__label {\n",
       "  /* fitted */\n",
       "  background-color: var(--sklearn-color-fitted-level-2);\n",
       "}\n",
       "\n",
       "#sk-container-id-2 div.sk-label label.sk-toggleable__label,\n",
       "#sk-container-id-2 div.sk-label label {\n",
       "  /* The background is the default theme color */\n",
       "  color: var(--sklearn-color-text-on-default-background);\n",
       "}\n",
       "\n",
       "/* On hover, darken the color of the background */\n",
       "#sk-container-id-2 div.sk-label:hover label.sk-toggleable__label {\n",
       "  color: var(--sklearn-color-text);\n",
       "  background-color: var(--sklearn-color-unfitted-level-2);\n",
       "}\n",
       "\n",
       "/* Label box, darken color on hover, fitted */\n",
       "#sk-container-id-2 div.sk-label.fitted:hover label.sk-toggleable__label.fitted {\n",
       "  color: var(--sklearn-color-text);\n",
       "  background-color: var(--sklearn-color-fitted-level-2);\n",
       "}\n",
       "\n",
       "/* Estimator label */\n",
       "\n",
       "#sk-container-id-2 div.sk-label label {\n",
       "  font-family: monospace;\n",
       "  font-weight: bold;\n",
       "  display: inline-block;\n",
       "  line-height: 1.2em;\n",
       "}\n",
       "\n",
       "#sk-container-id-2 div.sk-label-container {\n",
       "  text-align: center;\n",
       "}\n",
       "\n",
       "/* Estimator-specific */\n",
       "#sk-container-id-2 div.sk-estimator {\n",
       "  font-family: monospace;\n",
       "  border: 1px dotted var(--sklearn-color-border-box);\n",
       "  border-radius: 0.25em;\n",
       "  box-sizing: border-box;\n",
       "  margin-bottom: 0.5em;\n",
       "  /* unfitted */\n",
       "  background-color: var(--sklearn-color-unfitted-level-0);\n",
       "}\n",
       "\n",
       "#sk-container-id-2 div.sk-estimator.fitted {\n",
       "  /* fitted */\n",
       "  background-color: var(--sklearn-color-fitted-level-0);\n",
       "}\n",
       "\n",
       "/* on hover */\n",
       "#sk-container-id-2 div.sk-estimator:hover {\n",
       "  /* unfitted */\n",
       "  background-color: var(--sklearn-color-unfitted-level-2);\n",
       "}\n",
       "\n",
       "#sk-container-id-2 div.sk-estimator.fitted:hover {\n",
       "  /* fitted */\n",
       "  background-color: var(--sklearn-color-fitted-level-2);\n",
       "}\n",
       "\n",
       "/* Specification for estimator info (e.g. \"i\" and \"?\") */\n",
       "\n",
       "/* Common style for \"i\" and \"?\" */\n",
       "\n",
       ".sk-estimator-doc-link,\n",
       "a:link.sk-estimator-doc-link,\n",
       "a:visited.sk-estimator-doc-link {\n",
       "  float: right;\n",
       "  font-size: smaller;\n",
       "  line-height: 1em;\n",
       "  font-family: monospace;\n",
       "  background-color: var(--sklearn-color-background);\n",
       "  border-radius: 1em;\n",
       "  height: 1em;\n",
       "  width: 1em;\n",
       "  text-decoration: none !important;\n",
       "  margin-left: 0.5em;\n",
       "  text-align: center;\n",
       "  /* unfitted */\n",
       "  border: var(--sklearn-color-unfitted-level-1) 1pt solid;\n",
       "  color: var(--sklearn-color-unfitted-level-1);\n",
       "}\n",
       "\n",
       ".sk-estimator-doc-link.fitted,\n",
       "a:link.sk-estimator-doc-link.fitted,\n",
       "a:visited.sk-estimator-doc-link.fitted {\n",
       "  /* fitted */\n",
       "  border: var(--sklearn-color-fitted-level-1) 1pt solid;\n",
       "  color: var(--sklearn-color-fitted-level-1);\n",
       "}\n",
       "\n",
       "/* On hover */\n",
       "div.sk-estimator:hover .sk-estimator-doc-link:hover,\n",
       ".sk-estimator-doc-link:hover,\n",
       "div.sk-label-container:hover .sk-estimator-doc-link:hover,\n",
       ".sk-estimator-doc-link:hover {\n",
       "  /* unfitted */\n",
       "  background-color: var(--sklearn-color-unfitted-level-3);\n",
       "  color: var(--sklearn-color-background);\n",
       "  text-decoration: none;\n",
       "}\n",
       "\n",
       "div.sk-estimator.fitted:hover .sk-estimator-doc-link.fitted:hover,\n",
       ".sk-estimator-doc-link.fitted:hover,\n",
       "div.sk-label-container:hover .sk-estimator-doc-link.fitted:hover,\n",
       ".sk-estimator-doc-link.fitted:hover {\n",
       "  /* fitted */\n",
       "  background-color: var(--sklearn-color-fitted-level-3);\n",
       "  color: var(--sklearn-color-background);\n",
       "  text-decoration: none;\n",
       "}\n",
       "\n",
       "/* Span, style for the box shown on hovering the info icon */\n",
       ".sk-estimator-doc-link span {\n",
       "  display: none;\n",
       "  z-index: 9999;\n",
       "  position: relative;\n",
       "  font-weight: normal;\n",
       "  right: .2ex;\n",
       "  padding: .5ex;\n",
       "  margin: .5ex;\n",
       "  width: min-content;\n",
       "  min-width: 20ex;\n",
       "  max-width: 50ex;\n",
       "  color: var(--sklearn-color-text);\n",
       "  box-shadow: 2pt 2pt 4pt #999;\n",
       "  /* unfitted */\n",
       "  background: var(--sklearn-color-unfitted-level-0);\n",
       "  border: .5pt solid var(--sklearn-color-unfitted-level-3);\n",
       "}\n",
       "\n",
       ".sk-estimator-doc-link.fitted span {\n",
       "  /* fitted */\n",
       "  background: var(--sklearn-color-fitted-level-0);\n",
       "  border: var(--sklearn-color-fitted-level-3);\n",
       "}\n",
       "\n",
       ".sk-estimator-doc-link:hover span {\n",
       "  display: block;\n",
       "}\n",
       "\n",
       "/* \"?\"-specific style due to the `<a>` HTML tag */\n",
       "\n",
       "#sk-container-id-2 a.estimator_doc_link {\n",
       "  float: right;\n",
       "  font-size: 1rem;\n",
       "  line-height: 1em;\n",
       "  font-family: monospace;\n",
       "  background-color: var(--sklearn-color-background);\n",
       "  border-radius: 1rem;\n",
       "  height: 1rem;\n",
       "  width: 1rem;\n",
       "  text-decoration: none;\n",
       "  /* unfitted */\n",
       "  color: var(--sklearn-color-unfitted-level-1);\n",
       "  border: var(--sklearn-color-unfitted-level-1) 1pt solid;\n",
       "}\n",
       "\n",
       "#sk-container-id-2 a.estimator_doc_link.fitted {\n",
       "  /* fitted */\n",
       "  border: var(--sklearn-color-fitted-level-1) 1pt solid;\n",
       "  color: var(--sklearn-color-fitted-level-1);\n",
       "}\n",
       "\n",
       "/* On hover */\n",
       "#sk-container-id-2 a.estimator_doc_link:hover {\n",
       "  /* unfitted */\n",
       "  background-color: var(--sklearn-color-unfitted-level-3);\n",
       "  color: var(--sklearn-color-background);\n",
       "  text-decoration: none;\n",
       "}\n",
       "\n",
       "#sk-container-id-2 a.estimator_doc_link.fitted:hover {\n",
       "  /* fitted */\n",
       "  background-color: var(--sklearn-color-fitted-level-3);\n",
       "}\n",
       "\n",
       ".estimator-table summary {\n",
       "    padding: .5rem;\n",
       "    font-family: monospace;\n",
       "    cursor: pointer;\n",
       "}\n",
       "\n",
       ".estimator-table details[open] {\n",
       "    padding-left: 0.1rem;\n",
       "    padding-right: 0.1rem;\n",
       "    padding-bottom: 0.3rem;\n",
       "}\n",
       "\n",
       ".estimator-table .parameters-table {\n",
       "    margin-left: auto !important;\n",
       "    margin-right: auto !important;\n",
       "}\n",
       "\n",
       ".estimator-table .parameters-table tr:nth-child(odd) {\n",
       "    background-color: #fff;\n",
       "}\n",
       "\n",
       ".estimator-table .parameters-table tr:nth-child(even) {\n",
       "    background-color: #f6f6f6;\n",
       "}\n",
       "\n",
       ".estimator-table .parameters-table tr:hover {\n",
       "    background-color: #e0e0e0;\n",
       "}\n",
       "\n",
       ".estimator-table table td {\n",
       "    border: 1px solid rgba(106, 105, 104, 0.232);\n",
       "}\n",
       "\n",
       ".user-set td {\n",
       "    color:rgb(255, 94, 0);\n",
       "    text-align: left;\n",
       "}\n",
       "\n",
       ".user-set td.value pre {\n",
       "    color:rgb(255, 94, 0) !important;\n",
       "    background-color: transparent !important;\n",
       "}\n",
       "\n",
       ".default td {\n",
       "    color: black;\n",
       "    text-align: left;\n",
       "}\n",
       "\n",
       ".user-set td i,\n",
       ".default td i {\n",
       "    color: black;\n",
       "}\n",
       "\n",
       ".copy-paste-icon {\n",
       "    background-image: url(data:image/svg+xml;base64,PHN2ZyB4bWxucz0iaHR0cDovL3d3dy53My5vcmcvMjAwMC9zdmciIHZpZXdCb3g9IjAgMCA0NDggNTEyIj48IS0tIUZvbnQgQXdlc29tZSBGcmVlIDYuNy4yIGJ5IEBmb250YXdlc29tZSAtIGh0dHBzOi8vZm9udGF3ZXNvbWUuY29tIExpY2Vuc2UgLSBodHRwczovL2ZvbnRhd2Vzb21lLmNvbS9saWNlbnNlL2ZyZWUgQ29weXJpZ2h0IDIwMjUgRm9udGljb25zLCBJbmMuLS0+PHBhdGggZD0iTTIwOCAwTDMzMi4xIDBjMTIuNyAwIDI0LjkgNS4xIDMzLjkgMTQuMWw2Ny45IDY3LjljOSA5IDE0LjEgMjEuMiAxNC4xIDMzLjlMNDQ4IDMzNmMwIDI2LjUtMjEuNSA0OC00OCA0OGwtMTkyIDBjLTI2LjUgMC00OC0yMS41LTQ4LTQ4bDAtMjg4YzAtMjYuNSAyMS41LTQ4IDQ4LTQ4ek00OCAxMjhsODAgMCAwIDY0LTY0IDAgMCAyNTYgMTkyIDAgMC0zMiA2NCAwIDAgNDhjMCAyNi41LTIxLjUgNDgtNDggNDhMNDggNTEyYy0yNi41IDAtNDgtMjEuNS00OC00OEwwIDE3NmMwLTI2LjUgMjEuNS00OCA0OC00OHoiLz48L3N2Zz4=);\n",
       "    background-repeat: no-repeat;\n",
       "    background-size: 14px 14px;\n",
       "    background-position: 0;\n",
       "    display: inline-block;\n",
       "    width: 14px;\n",
       "    height: 14px;\n",
       "    cursor: pointer;\n",
       "}\n",
       "</style><body><div id=\"sk-container-id-2\" class=\"sk-top-container\"><div class=\"sk-text-repr-fallback\"><pre>Pipeline(steps=[(&#x27;standardscaler&#x27;, StandardScaler()),\n",
       "                (&#x27;kmeans&#x27;, KMeans(n_clusters=3, random_state=42))])</pre><b>In a Jupyter environment, please rerun this cell to show the HTML representation or trust the notebook. <br />On GitHub, the HTML representation is unable to render, please try loading this page with nbviewer.org.</b></div><div class=\"sk-container\" hidden><div class=\"sk-item sk-dashed-wrapped\"><div class=\"sk-label-container\"><div class=\"sk-label fitted sk-toggleable\"><input class=\"sk-toggleable__control sk-hidden--visually\" id=\"sk-estimator-id-4\" type=\"checkbox\" ><label for=\"sk-estimator-id-4\" class=\"sk-toggleable__label fitted sk-toggleable__label-arrow\"><div><div>Pipeline</div></div><div><a class=\"sk-estimator-doc-link fitted\" rel=\"noreferrer\" target=\"_blank\" href=\"https://scikit-learn.org/1.7/modules/generated/sklearn.pipeline.Pipeline.html\">?<span>Documentation for Pipeline</span></a><span class=\"sk-estimator-doc-link fitted\">i<span>Fitted</span></span></div></label><div class=\"sk-toggleable__content fitted\" data-param-prefix=\"\">\n",
       "        <div class=\"estimator-table\">\n",
       "            <details>\n",
       "                <summary>Parameters</summary>\n",
       "                <table class=\"parameters-table\">\n",
       "                  <tbody>\n",
       "                    \n",
       "        <tr class=\"user-set\">\n",
       "            <td><i class=\"copy-paste-icon\"\n",
       "                 onclick=\"copyToClipboard('steps',\n",
       "                          this.parentElement.nextElementSibling)\"\n",
       "            ></i></td>\n",
       "            <td class=\"param\">steps&nbsp;</td>\n",
       "            <td class=\"value\">[(&#x27;standardscaler&#x27;, ...), (&#x27;kmeans&#x27;, ...)]</td>\n",
       "        </tr>\n",
       "    \n",
       "\n",
       "        <tr class=\"default\">\n",
       "            <td><i class=\"copy-paste-icon\"\n",
       "                 onclick=\"copyToClipboard('transform_input',\n",
       "                          this.parentElement.nextElementSibling)\"\n",
       "            ></i></td>\n",
       "            <td class=\"param\">transform_input&nbsp;</td>\n",
       "            <td class=\"value\">None</td>\n",
       "        </tr>\n",
       "    \n",
       "\n",
       "        <tr class=\"default\">\n",
       "            <td><i class=\"copy-paste-icon\"\n",
       "                 onclick=\"copyToClipboard('memory',\n",
       "                          this.parentElement.nextElementSibling)\"\n",
       "            ></i></td>\n",
       "            <td class=\"param\">memory&nbsp;</td>\n",
       "            <td class=\"value\">None</td>\n",
       "        </tr>\n",
       "    \n",
       "\n",
       "        <tr class=\"default\">\n",
       "            <td><i class=\"copy-paste-icon\"\n",
       "                 onclick=\"copyToClipboard('verbose',\n",
       "                          this.parentElement.nextElementSibling)\"\n",
       "            ></i></td>\n",
       "            <td class=\"param\">verbose&nbsp;</td>\n",
       "            <td class=\"value\">False</td>\n",
       "        </tr>\n",
       "    \n",
       "                  </tbody>\n",
       "                </table>\n",
       "            </details>\n",
       "        </div>\n",
       "    </div></div></div><div class=\"sk-serial\"><div class=\"sk-item\"><div class=\"sk-estimator fitted sk-toggleable\"><input class=\"sk-toggleable__control sk-hidden--visually\" id=\"sk-estimator-id-5\" type=\"checkbox\" ><label for=\"sk-estimator-id-5\" class=\"sk-toggleable__label fitted sk-toggleable__label-arrow\"><div><div>StandardScaler</div></div><div><a class=\"sk-estimator-doc-link fitted\" rel=\"noreferrer\" target=\"_blank\" href=\"https://scikit-learn.org/1.7/modules/generated/sklearn.preprocessing.StandardScaler.html\">?<span>Documentation for StandardScaler</span></a></div></label><div class=\"sk-toggleable__content fitted\" data-param-prefix=\"standardscaler__\">\n",
       "        <div class=\"estimator-table\">\n",
       "            <details>\n",
       "                <summary>Parameters</summary>\n",
       "                <table class=\"parameters-table\">\n",
       "                  <tbody>\n",
       "                    \n",
       "        <tr class=\"default\">\n",
       "            <td><i class=\"copy-paste-icon\"\n",
       "                 onclick=\"copyToClipboard('copy',\n",
       "                          this.parentElement.nextElementSibling)\"\n",
       "            ></i></td>\n",
       "            <td class=\"param\">copy&nbsp;</td>\n",
       "            <td class=\"value\">True</td>\n",
       "        </tr>\n",
       "    \n",
       "\n",
       "        <tr class=\"default\">\n",
       "            <td><i class=\"copy-paste-icon\"\n",
       "                 onclick=\"copyToClipboard('with_mean',\n",
       "                          this.parentElement.nextElementSibling)\"\n",
       "            ></i></td>\n",
       "            <td class=\"param\">with_mean&nbsp;</td>\n",
       "            <td class=\"value\">True</td>\n",
       "        </tr>\n",
       "    \n",
       "\n",
       "        <tr class=\"default\">\n",
       "            <td><i class=\"copy-paste-icon\"\n",
       "                 onclick=\"copyToClipboard('with_std',\n",
       "                          this.parentElement.nextElementSibling)\"\n",
       "            ></i></td>\n",
       "            <td class=\"param\">with_std&nbsp;</td>\n",
       "            <td class=\"value\">True</td>\n",
       "        </tr>\n",
       "    \n",
       "                  </tbody>\n",
       "                </table>\n",
       "            </details>\n",
       "        </div>\n",
       "    </div></div></div><div class=\"sk-item\"><div class=\"sk-estimator fitted sk-toggleable\"><input class=\"sk-toggleable__control sk-hidden--visually\" id=\"sk-estimator-id-6\" type=\"checkbox\" ><label for=\"sk-estimator-id-6\" class=\"sk-toggleable__label fitted sk-toggleable__label-arrow\"><div><div>KMeans</div></div><div><a class=\"sk-estimator-doc-link fitted\" rel=\"noreferrer\" target=\"_blank\" href=\"https://scikit-learn.org/1.7/modules/generated/sklearn.cluster.KMeans.html\">?<span>Documentation for KMeans</span></a></div></label><div class=\"sk-toggleable__content fitted\" data-param-prefix=\"kmeans__\">\n",
       "        <div class=\"estimator-table\">\n",
       "            <details>\n",
       "                <summary>Parameters</summary>\n",
       "                <table class=\"parameters-table\">\n",
       "                  <tbody>\n",
       "                    \n",
       "        <tr class=\"user-set\">\n",
       "            <td><i class=\"copy-paste-icon\"\n",
       "                 onclick=\"copyToClipboard('n_clusters',\n",
       "                          this.parentElement.nextElementSibling)\"\n",
       "            ></i></td>\n",
       "            <td class=\"param\">n_clusters&nbsp;</td>\n",
       "            <td class=\"value\">3</td>\n",
       "        </tr>\n",
       "    \n",
       "\n",
       "        <tr class=\"default\">\n",
       "            <td><i class=\"copy-paste-icon\"\n",
       "                 onclick=\"copyToClipboard('init',\n",
       "                          this.parentElement.nextElementSibling)\"\n",
       "            ></i></td>\n",
       "            <td class=\"param\">init&nbsp;</td>\n",
       "            <td class=\"value\">&#x27;k-means++&#x27;</td>\n",
       "        </tr>\n",
       "    \n",
       "\n",
       "        <tr class=\"default\">\n",
       "            <td><i class=\"copy-paste-icon\"\n",
       "                 onclick=\"copyToClipboard('n_init',\n",
       "                          this.parentElement.nextElementSibling)\"\n",
       "            ></i></td>\n",
       "            <td class=\"param\">n_init&nbsp;</td>\n",
       "            <td class=\"value\">&#x27;auto&#x27;</td>\n",
       "        </tr>\n",
       "    \n",
       "\n",
       "        <tr class=\"default\">\n",
       "            <td><i class=\"copy-paste-icon\"\n",
       "                 onclick=\"copyToClipboard('max_iter',\n",
       "                          this.parentElement.nextElementSibling)\"\n",
       "            ></i></td>\n",
       "            <td class=\"param\">max_iter&nbsp;</td>\n",
       "            <td class=\"value\">300</td>\n",
       "        </tr>\n",
       "    \n",
       "\n",
       "        <tr class=\"default\">\n",
       "            <td><i class=\"copy-paste-icon\"\n",
       "                 onclick=\"copyToClipboard('tol',\n",
       "                          this.parentElement.nextElementSibling)\"\n",
       "            ></i></td>\n",
       "            <td class=\"param\">tol&nbsp;</td>\n",
       "            <td class=\"value\">0.0001</td>\n",
       "        </tr>\n",
       "    \n",
       "\n",
       "        <tr class=\"default\">\n",
       "            <td><i class=\"copy-paste-icon\"\n",
       "                 onclick=\"copyToClipboard('verbose',\n",
       "                          this.parentElement.nextElementSibling)\"\n",
       "            ></i></td>\n",
       "            <td class=\"param\">verbose&nbsp;</td>\n",
       "            <td class=\"value\">0</td>\n",
       "        </tr>\n",
       "    \n",
       "\n",
       "        <tr class=\"user-set\">\n",
       "            <td><i class=\"copy-paste-icon\"\n",
       "                 onclick=\"copyToClipboard('random_state',\n",
       "                          this.parentElement.nextElementSibling)\"\n",
       "            ></i></td>\n",
       "            <td class=\"param\">random_state&nbsp;</td>\n",
       "            <td class=\"value\">42</td>\n",
       "        </tr>\n",
       "    \n",
       "\n",
       "        <tr class=\"default\">\n",
       "            <td><i class=\"copy-paste-icon\"\n",
       "                 onclick=\"copyToClipboard('copy_x',\n",
       "                          this.parentElement.nextElementSibling)\"\n",
       "            ></i></td>\n",
       "            <td class=\"param\">copy_x&nbsp;</td>\n",
       "            <td class=\"value\">True</td>\n",
       "        </tr>\n",
       "    \n",
       "\n",
       "        <tr class=\"default\">\n",
       "            <td><i class=\"copy-paste-icon\"\n",
       "                 onclick=\"copyToClipboard('algorithm',\n",
       "                          this.parentElement.nextElementSibling)\"\n",
       "            ></i></td>\n",
       "            <td class=\"param\">algorithm&nbsp;</td>\n",
       "            <td class=\"value\">&#x27;lloyd&#x27;</td>\n",
       "        </tr>\n",
       "    \n",
       "                  </tbody>\n",
       "                </table>\n",
       "            </details>\n",
       "        </div>\n",
       "    </div></div></div></div></div></div></div><script>function copyToClipboard(text, element) {\n",
       "    // Get the parameter prefix from the closest toggleable content\n",
       "    const toggleableContent = element.closest('.sk-toggleable__content');\n",
       "    const paramPrefix = toggleableContent ? toggleableContent.dataset.paramPrefix : '';\n",
       "    const fullParamName = paramPrefix ? `${paramPrefix}${text}` : text;\n",
       "\n",
       "    const originalStyle = element.style;\n",
       "    const computedStyle = window.getComputedStyle(element);\n",
       "    const originalWidth = computedStyle.width;\n",
       "    const originalHTML = element.innerHTML.replace('Copied!', '');\n",
       "\n",
       "    navigator.clipboard.writeText(fullParamName)\n",
       "        .then(() => {\n",
       "            element.style.width = originalWidth;\n",
       "            element.style.color = 'green';\n",
       "            element.innerHTML = \"Copied!\";\n",
       "\n",
       "            setTimeout(() => {\n",
       "                element.innerHTML = originalHTML;\n",
       "                element.style = originalStyle;\n",
       "            }, 2000);\n",
       "        })\n",
       "        .catch(err => {\n",
       "            console.error('Failed to copy:', err);\n",
       "            element.style.color = 'red';\n",
       "            element.innerHTML = \"Failed!\";\n",
       "            setTimeout(() => {\n",
       "                element.innerHTML = originalHTML;\n",
       "                element.style = originalStyle;\n",
       "            }, 2000);\n",
       "        });\n",
       "    return false;\n",
       "}\n",
       "\n",
       "document.querySelectorAll('.fa-regular.fa-copy').forEach(function(element) {\n",
       "    const toggleableContent = element.closest('.sk-toggleable__content');\n",
       "    const paramPrefix = toggleableContent ? toggleableContent.dataset.paramPrefix : '';\n",
       "    const paramName = element.parentElement.nextElementSibling.textContent.trim();\n",
       "    const fullParamName = paramPrefix ? `${paramPrefix}${paramName}` : paramName;\n",
       "\n",
       "    element.setAttribute('title', fullParamName);\n",
       "});\n",
       "</script></body>"
      ],
      "text/plain": [
       "Pipeline(steps=[('standardscaler', StandardScaler()),\n",
       "                ('kmeans', KMeans(n_clusters=3, random_state=42))])"
      ]
     },
     "execution_count": 55,
     "metadata": {},
     "output_type": "execute_result"
    }
   ],
   "source": [
    "# Build model final model as best n=3\n",
    "final_model = make_pipeline(\n",
    "    StandardScaler(),\n",
    "    KMeans(n_clusters=3,random_state=42)\n",
    ")\n",
    "\n",
    "# Fit model to data\n",
    "final_model.fit(X)\n"
   ]
  },
  {
   "cell_type": "code",
   "execution_count": 56,
   "id": "443178e1-8e76-410a-a20c-6ba8067e76c4",
   "metadata": {},
   "outputs": [],
   "source": [
    "# Assert that model has been fit to data\n",
    "check_is_fitted(final_model)"
   ]
  },
  {
   "cell_type": "code",
   "execution_count": 57,
   "id": "99029378-74b4-4e23-9124-c372a1dd1ee9",
   "metadata": {},
   "outputs": [
    {
     "name": "stdout",
     "output_type": "stream",
     "text": [
      "labels type: <class 'numpy.ndarray'>\n",
      "labels len: 2240\n",
      "[2 0 1 0 0]\n"
     ]
    }
   ],
   "source": [
    "labels =final_model.named_steps[\"kmeans\"].labels_\n",
    "print(\"labels type:\", type(labels))\n",
    "print(\"labels len:\", len(labels))\n",
    "print(labels[:5])"
   ]
  },
  {
   "cell_type": "code",
   "execution_count": 58,
   "id": "6ed212f7-ae1c-40fa-8a64-4345fb265f59",
   "metadata": {},
   "outputs": [
    {
     "name": "stdout",
     "output_type": "stream",
     "text": [
      "xgb type: <class 'pandas.core.frame.DataFrame'>\n",
      "xgb shape: (3, 10)\n"
     ]
    },
    {
     "data": {
      "text/html": [
       "<div>\n",
       "<style scoped>\n",
       "    .dataframe tbody tr th:only-of-type {\n",
       "        vertical-align: middle;\n",
       "    }\n",
       "\n",
       "    .dataframe tbody tr th {\n",
       "        vertical-align: top;\n",
       "    }\n",
       "\n",
       "    .dataframe thead th {\n",
       "        text-align: right;\n",
       "    }\n",
       "</style>\n",
       "<table border=\"1\" class=\"dataframe\">\n",
       "  <thead>\n",
       "    <tr style=\"text-align: right;\">\n",
       "      <th></th>\n",
       "      <th>NumStorePurchases</th>\n",
       "      <th>Age</th>\n",
       "      <th>Recency</th>\n",
       "      <th>MntFruits</th>\n",
       "      <th>MntSweetProducts</th>\n",
       "      <th>MntGoldProds</th>\n",
       "      <th>MntFishProducts</th>\n",
       "      <th>MntMeatProducts</th>\n",
       "      <th>MntWines</th>\n",
       "      <th>Income</th>\n",
       "    </tr>\n",
       "  </thead>\n",
       "  <tbody>\n",
       "    <tr>\n",
       "      <th>0</th>\n",
       "      <td>3.472315</td>\n",
       "      <td>54.191275</td>\n",
       "      <td>48.895973</td>\n",
       "      <td>5.544463</td>\n",
       "      <td>5.703020</td>\n",
       "      <td>18.856544</td>\n",
       "      <td>8.417785</td>\n",
       "      <td>31.140101</td>\n",
       "      <td>65.595638</td>\n",
       "      <td>36691.584732</td>\n",
       "    </tr>\n",
       "    <tr>\n",
       "      <th>1</th>\n",
       "      <td>8.421927</td>\n",
       "      <td>60.529900</td>\n",
       "      <td>49.935216</td>\n",
       "      <td>24.729236</td>\n",
       "      <td>26.370432</td>\n",
       "      <td>63.006645</td>\n",
       "      <td>37.089701</td>\n",
       "      <td>208.420266</td>\n",
       "      <td>587.350498</td>\n",
       "      <td>65050.584718</td>\n",
       "    </tr>\n",
       "    <tr>\n",
       "      <th>2</th>\n",
       "      <td>8.432735</td>\n",
       "      <td>55.695067</td>\n",
       "      <td>48.565022</td>\n",
       "      <td>83.903587</td>\n",
       "      <td>85.085202</td>\n",
       "      <td>85.654709</td>\n",
       "      <td>115.908072</td>\n",
       "      <td>473.946188</td>\n",
       "      <td>558.387892</td>\n",
       "      <td>76493.820628</td>\n",
       "    </tr>\n",
       "  </tbody>\n",
       "</table>\n",
       "</div>"
      ],
      "text/plain": [
       "   NumStorePurchases        Age    Recency  MntFruits  MntSweetProducts  \\\n",
       "0           3.472315  54.191275  48.895973   5.544463          5.703020   \n",
       "1           8.421927  60.529900  49.935216  24.729236         26.370432   \n",
       "2           8.432735  55.695067  48.565022  83.903587         85.085202   \n",
       "\n",
       "   MntGoldProds  MntFishProducts  MntMeatProducts    MntWines        Income  \n",
       "0     18.856544         8.417785        31.140101   65.595638  36691.584732  \n",
       "1     63.006645        37.089701       208.420266  587.350498  65050.584718  \n",
       "2     85.654709       115.908072       473.946188  558.387892  76493.820628  "
      ]
     },
     "execution_count": 58,
     "metadata": {},
     "output_type": "execute_result"
    }
   ],
   "source": [
    "#centroids\n",
    "xgb = X.groupby(labels).mean()\n",
    "\n",
    "print(\"xgb type:\", type(xgb))\n",
    "print(\"xgb shape:\", xgb.shape)\n",
    "xgb"
   ]
  },
  {
   "cell_type": "code",
   "execution_count": 59,
   "id": "37aef613-f0d1-43f1-ada5-f30286bf1e7a",
   "metadata": {},
   "outputs": [
    {
     "data": {
      "application/vnd.plotly.v1+json": {
       "config": {
        "plotlyServerURL": "https://plot.ly"
       },
       "data": [
        {
         "alignmentgroup": "True",
         "hovertemplate": "variable=NumStorePurchases<br>index=%{x}<br>value=%{y}<extra></extra>",
         "legendgroup": "NumStorePurchases",
         "marker": {
          "color": "#636efa",
          "pattern": {
           "shape": ""
          }
         },
         "name": "NumStorePurchases",
         "offsetgroup": "NumStorePurchases",
         "orientation": "v",
         "showlegend": true,
         "textposition": "auto",
         "type": "bar",
         "x": {
          "bdata": "AAAAAAEAAAACAAAA",
          "dtype": "i4"
         },
         "xaxis": "x",
         "y": {
          "bdata": "9m3AUE3HC0C2EtLNBtggQOwObX+P3SBA",
          "dtype": "f8"
         },
         "yaxis": "y"
        },
        {
         "alignmentgroup": "True",
         "hovertemplate": "variable=Age<br>index=%{x}<br>value=%{y}<extra></extra>",
         "legendgroup": "Age",
         "marker": {
          "color": "#EF553B",
          "pattern": {
           "shape": ""
          }
         },
         "name": "Age",
         "offsetgroup": "Age",
         "orientation": "v",
         "showlegend": true,
         "textposition": "auto",
         "type": "bar",
         "x": {
          "bdata": "AAAAAAEAAAACAAAA",
          "dtype": "i4"
         },
         "xaxis": "x",
         "y": {
          "bdata": "VhZntHsYS0BhhirG00NOQMju0Pb32EtA",
          "dtype": "f8"
         },
         "yaxis": "y"
        },
        {
         "alignmentgroup": "True",
         "hovertemplate": "variable=Recency<br>index=%{x}<br>value=%{y}<extra></extra>",
         "legendgroup": "Recency",
         "marker": {
          "color": "#00cc96",
          "pattern": {
           "shape": ""
          }
         },
         "name": "Recency",
         "offsetgroup": "Recency",
         "orientation": "v",
         "showlegend": true,
         "textposition": "auto",
         "type": "bar",
         "x": {
          "bdata": "AAAAAAEAAAACAAAA",
          "dtype": "i4"
         },
         "xaxis": "x",
         "y": {
          "bdata": "TwqSP69ySEAuMvkntfdIQEP6mqdSSEhA",
          "dtype": "f8"
         },
         "yaxis": "y"
        },
        {
         "alignmentgroup": "True",
         "hovertemplate": "variable=MntFruits<br>index=%{x}<br>value=%{y}<extra></extra>",
         "legendgroup": "MntFruits",
         "marker": {
          "color": "#ab63fa",
          "pattern": {
           "shape": ""
          }
         },
         "name": "MntFruits",
         "offsetgroup": "MntFruits",
         "orientation": "v",
         "showlegend": true,
         "textposition": "auto",
         "type": "bar",
         "x": {
          "bdata": "AAAAAAEAAAACAAAA",
          "dtype": "i4"
         },
         "xaxis": "x",
         "y": {
          "bdata": "ZXFGu4ctFkDPYeEzr7o4QM80bmDU+VRA",
          "dtype": "f8"
         },
         "yaxis": "y"
        },
        {
         "alignmentgroup": "True",
         "hovertemplate": "variable=MntSweetProducts<br>index=%{x}<br>value=%{y}<extra></extra>",
         "legendgroup": "MntSweetProducts",
         "marker": {
          "color": "#FFA15A",
          "pattern": {
           "shape": ""
          }
         },
         "name": "MntSweetProducts",
         "offsetgroup": "MntSweetProducts",
         "orientation": "v",
         "showlegend": true,
         "textposition": "auto",
         "type": "bar",
         "x": {
          "bdata": "AAAAAAEAAAACAAAA",
          "dtype": "i4"
         },
         "xaxis": "x",
         "y": {
          "bdata": "JsKTguTPFkC4yOSf1F46QCxmOfJzRVVA",
          "dtype": "f8"
         },
         "yaxis": "y"
        },
        {
         "alignmentgroup": "True",
         "hovertemplate": "variable=MntGoldProds<br>index=%{x}<br>value=%{y}<extra></extra>",
         "legendgroup": "MntGoldProds",
         "marker": {
          "color": "#19d3f3",
          "pattern": {
           "shape": ""
          }
         },
         "name": "MntGoldProds",
         "offsetgroup": "MntGoldProds",
         "orientation": "v",
         "showlegend": true,
         "textposition": "auto",
         "type": "bar",
         "x": {
          "bdata": "AAAAAAEAAAACAAAA",
          "dtype": "i4"
         },
         "xaxis": "x",
         "y": {
          "bdata": "f15lcUbbMkDAVkK62YBPQE+lkL7maVVA",
          "dtype": "f8"
         },
         "yaxis": "y"
        },
        {
         "alignmentgroup": "True",
         "hovertemplate": "variable=MntFishProducts<br>index=%{x}<br>value=%{y}<extra></extra>",
         "legendgroup": "MntFishProducts",
         "marker": {
          "color": "#FF6692",
          "pattern": {
           "shape": ""
          }
         },
         "name": "MntFishProducts",
         "offsetgroup": "MntFishProducts",
         "orientation": "v",
         "showlegend": true,
         "textposition": "auto",
         "type": "bar",
         "x": {
          "bdata": "AAAAAAEAAAACAAAA",
          "dtype": "i4"
         },
         "xaxis": "x",
         "y": {
          "bdata": "4UlB8ufVIEAjk39Se4tCQNH299gd+lxA",
          "dtype": "f8"
         },
         "yaxis": "y"
        },
        {
         "alignmentgroup": "True",
         "hovertemplate": "variable=MntMeatProducts<br>index=%{x}<br>value=%{y}<extra></extra>",
         "legendgroup": "MntMeatProducts",
         "marker": {
          "color": "#B6E880",
          "pattern": {
           "shape": ""
          }
         },
         "name": "MntMeatProducts",
         "offsetgroup": "MntMeatProducts",
         "orientation": "v",
         "showlegend": true,
         "textposition": "auto",
         "type": "bar",
         "x": {
          "bdata": "AAAAAAEAAAACAAAA",
          "dtype": "i4"
         },
         "xaxis": "x",
         "y": {
          "bdata": "r7I4o90jP0C/+zjRcg1qQPm5YpYjn31A",
          "dtype": "f8"
         },
         "yaxis": "y"
        },
        {
         "alignmentgroup": "True",
         "hovertemplate": "variable=MntWines<br>index=%{x}<br>value=%{y}<extra></extra>",
         "legendgroup": "MntWines",
         "marker": {
          "color": "#FF97FF",
          "pattern": {
           "shape": ""
          }
         },
         "name": "MntWines",
         "offsetgroup": "MntWines",
         "orientation": "v",
         "showlegend": true,
         "textposition": "auto",
         "type": "bar",
         "x": {
          "bdata": "AAAAAAEAAAACAAAA",
          "dtype": "i4"
         },
         "xaxis": "x",
         "y": {
          "bdata": "lcUZ7R5mUEACthLSzVqCQLmBUWcac4FA",
          "dtype": "f8"
         },
         "yaxis": "y"
        },
        {
         "alignmentgroup": "True",
         "hovertemplate": "variable=Income<br>index=%{x}<br>value=%{y}<extra></extra>",
         "legendgroup": "Income",
         "marker": {
          "color": "#FECB52",
          "pattern": {
           "shape": ""
          }
         },
         "name": "Income",
         "offsetgroup": "Income",
         "orientation": "v",
         "showlegend": true,
         "textposition": "auto",
         "type": "bar",
         "x": {
          "bdata": "AAAAAAEAAAACAAAA",
          "dtype": "i4"
         },
         "xaxis": "x",
         "y": {
          "bdata": "Gu0etnLq4UB1swG2UsPvQGyeSiHdrPJA",
          "dtype": "f8"
         },
         "yaxis": "y"
        }
       ],
       "layout": {
        "barmode": "group",
        "legend": {
         "title": {
          "text": "variable"
         },
         "tracegroupgap": 0
        },
        "template": {
         "data": {
          "bar": [
           {
            "error_x": {
             "color": "#2a3f5f"
            },
            "error_y": {
             "color": "#2a3f5f"
            },
            "marker": {
             "line": {
              "color": "#E5ECF6",
              "width": 0.5
             },
             "pattern": {
              "fillmode": "overlay",
              "size": 10,
              "solidity": 0.2
             }
            },
            "type": "bar"
           }
          ],
          "barpolar": [
           {
            "marker": {
             "line": {
              "color": "#E5ECF6",
              "width": 0.5
             },
             "pattern": {
              "fillmode": "overlay",
              "size": 10,
              "solidity": 0.2
             }
            },
            "type": "barpolar"
           }
          ],
          "carpet": [
           {
            "aaxis": {
             "endlinecolor": "#2a3f5f",
             "gridcolor": "white",
             "linecolor": "white",
             "minorgridcolor": "white",
             "startlinecolor": "#2a3f5f"
            },
            "baxis": {
             "endlinecolor": "#2a3f5f",
             "gridcolor": "white",
             "linecolor": "white",
             "minorgridcolor": "white",
             "startlinecolor": "#2a3f5f"
            },
            "type": "carpet"
           }
          ],
          "choropleth": [
           {
            "colorbar": {
             "outlinewidth": 0,
             "ticks": ""
            },
            "type": "choropleth"
           }
          ],
          "contour": [
           {
            "colorbar": {
             "outlinewidth": 0,
             "ticks": ""
            },
            "colorscale": [
             [
              0,
              "#0d0887"
             ],
             [
              0.1111111111111111,
              "#46039f"
             ],
             [
              0.2222222222222222,
              "#7201a8"
             ],
             [
              0.3333333333333333,
              "#9c179e"
             ],
             [
              0.4444444444444444,
              "#bd3786"
             ],
             [
              0.5555555555555556,
              "#d8576b"
             ],
             [
              0.6666666666666666,
              "#ed7953"
             ],
             [
              0.7777777777777778,
              "#fb9f3a"
             ],
             [
              0.8888888888888888,
              "#fdca26"
             ],
             [
              1,
              "#f0f921"
             ]
            ],
            "type": "contour"
           }
          ],
          "contourcarpet": [
           {
            "colorbar": {
             "outlinewidth": 0,
             "ticks": ""
            },
            "type": "contourcarpet"
           }
          ],
          "heatmap": [
           {
            "colorbar": {
             "outlinewidth": 0,
             "ticks": ""
            },
            "colorscale": [
             [
              0,
              "#0d0887"
             ],
             [
              0.1111111111111111,
              "#46039f"
             ],
             [
              0.2222222222222222,
              "#7201a8"
             ],
             [
              0.3333333333333333,
              "#9c179e"
             ],
             [
              0.4444444444444444,
              "#bd3786"
             ],
             [
              0.5555555555555556,
              "#d8576b"
             ],
             [
              0.6666666666666666,
              "#ed7953"
             ],
             [
              0.7777777777777778,
              "#fb9f3a"
             ],
             [
              0.8888888888888888,
              "#fdca26"
             ],
             [
              1,
              "#f0f921"
             ]
            ],
            "type": "heatmap"
           }
          ],
          "histogram": [
           {
            "marker": {
             "pattern": {
              "fillmode": "overlay",
              "size": 10,
              "solidity": 0.2
             }
            },
            "type": "histogram"
           }
          ],
          "histogram2d": [
           {
            "colorbar": {
             "outlinewidth": 0,
             "ticks": ""
            },
            "colorscale": [
             [
              0,
              "#0d0887"
             ],
             [
              0.1111111111111111,
              "#46039f"
             ],
             [
              0.2222222222222222,
              "#7201a8"
             ],
             [
              0.3333333333333333,
              "#9c179e"
             ],
             [
              0.4444444444444444,
              "#bd3786"
             ],
             [
              0.5555555555555556,
              "#d8576b"
             ],
             [
              0.6666666666666666,
              "#ed7953"
             ],
             [
              0.7777777777777778,
              "#fb9f3a"
             ],
             [
              0.8888888888888888,
              "#fdca26"
             ],
             [
              1,
              "#f0f921"
             ]
            ],
            "type": "histogram2d"
           }
          ],
          "histogram2dcontour": [
           {
            "colorbar": {
             "outlinewidth": 0,
             "ticks": ""
            },
            "colorscale": [
             [
              0,
              "#0d0887"
             ],
             [
              0.1111111111111111,
              "#46039f"
             ],
             [
              0.2222222222222222,
              "#7201a8"
             ],
             [
              0.3333333333333333,
              "#9c179e"
             ],
             [
              0.4444444444444444,
              "#bd3786"
             ],
             [
              0.5555555555555556,
              "#d8576b"
             ],
             [
              0.6666666666666666,
              "#ed7953"
             ],
             [
              0.7777777777777778,
              "#fb9f3a"
             ],
             [
              0.8888888888888888,
              "#fdca26"
             ],
             [
              1,
              "#f0f921"
             ]
            ],
            "type": "histogram2dcontour"
           }
          ],
          "mesh3d": [
           {
            "colorbar": {
             "outlinewidth": 0,
             "ticks": ""
            },
            "type": "mesh3d"
           }
          ],
          "parcoords": [
           {
            "line": {
             "colorbar": {
              "outlinewidth": 0,
              "ticks": ""
             }
            },
            "type": "parcoords"
           }
          ],
          "pie": [
           {
            "automargin": true,
            "type": "pie"
           }
          ],
          "scatter": [
           {
            "fillpattern": {
             "fillmode": "overlay",
             "size": 10,
             "solidity": 0.2
            },
            "type": "scatter"
           }
          ],
          "scatter3d": [
           {
            "line": {
             "colorbar": {
              "outlinewidth": 0,
              "ticks": ""
             }
            },
            "marker": {
             "colorbar": {
              "outlinewidth": 0,
              "ticks": ""
             }
            },
            "type": "scatter3d"
           }
          ],
          "scattercarpet": [
           {
            "marker": {
             "colorbar": {
              "outlinewidth": 0,
              "ticks": ""
             }
            },
            "type": "scattercarpet"
           }
          ],
          "scattergeo": [
           {
            "marker": {
             "colorbar": {
              "outlinewidth": 0,
              "ticks": ""
             }
            },
            "type": "scattergeo"
           }
          ],
          "scattergl": [
           {
            "marker": {
             "colorbar": {
              "outlinewidth": 0,
              "ticks": ""
             }
            },
            "type": "scattergl"
           }
          ],
          "scattermap": [
           {
            "marker": {
             "colorbar": {
              "outlinewidth": 0,
              "ticks": ""
             }
            },
            "type": "scattermap"
           }
          ],
          "scattermapbox": [
           {
            "marker": {
             "colorbar": {
              "outlinewidth": 0,
              "ticks": ""
             }
            },
            "type": "scattermapbox"
           }
          ],
          "scatterpolar": [
           {
            "marker": {
             "colorbar": {
              "outlinewidth": 0,
              "ticks": ""
             }
            },
            "type": "scatterpolar"
           }
          ],
          "scatterpolargl": [
           {
            "marker": {
             "colorbar": {
              "outlinewidth": 0,
              "ticks": ""
             }
            },
            "type": "scatterpolargl"
           }
          ],
          "scatterternary": [
           {
            "marker": {
             "colorbar": {
              "outlinewidth": 0,
              "ticks": ""
             }
            },
            "type": "scatterternary"
           }
          ],
          "surface": [
           {
            "colorbar": {
             "outlinewidth": 0,
             "ticks": ""
            },
            "colorscale": [
             [
              0,
              "#0d0887"
             ],
             [
              0.1111111111111111,
              "#46039f"
             ],
             [
              0.2222222222222222,
              "#7201a8"
             ],
             [
              0.3333333333333333,
              "#9c179e"
             ],
             [
              0.4444444444444444,
              "#bd3786"
             ],
             [
              0.5555555555555556,
              "#d8576b"
             ],
             [
              0.6666666666666666,
              "#ed7953"
             ],
             [
              0.7777777777777778,
              "#fb9f3a"
             ],
             [
              0.8888888888888888,
              "#fdca26"
             ],
             [
              1,
              "#f0f921"
             ]
            ],
            "type": "surface"
           }
          ],
          "table": [
           {
            "cells": {
             "fill": {
              "color": "#EBF0F8"
             },
             "line": {
              "color": "white"
             }
            },
            "header": {
             "fill": {
              "color": "#C8D4E3"
             },
             "line": {
              "color": "white"
             }
            },
            "type": "table"
           }
          ]
         },
         "layout": {
          "annotationdefaults": {
           "arrowcolor": "#2a3f5f",
           "arrowhead": 0,
           "arrowwidth": 1
          },
          "autotypenumbers": "strict",
          "coloraxis": {
           "colorbar": {
            "outlinewidth": 0,
            "ticks": ""
           }
          },
          "colorscale": {
           "diverging": [
            [
             0,
             "#8e0152"
            ],
            [
             0.1,
             "#c51b7d"
            ],
            [
             0.2,
             "#de77ae"
            ],
            [
             0.3,
             "#f1b6da"
            ],
            [
             0.4,
             "#fde0ef"
            ],
            [
             0.5,
             "#f7f7f7"
            ],
            [
             0.6,
             "#e6f5d0"
            ],
            [
             0.7,
             "#b8e186"
            ],
            [
             0.8,
             "#7fbc41"
            ],
            [
             0.9,
             "#4d9221"
            ],
            [
             1,
             "#276419"
            ]
           ],
           "sequential": [
            [
             0,
             "#0d0887"
            ],
            [
             0.1111111111111111,
             "#46039f"
            ],
            [
             0.2222222222222222,
             "#7201a8"
            ],
            [
             0.3333333333333333,
             "#9c179e"
            ],
            [
             0.4444444444444444,
             "#bd3786"
            ],
            [
             0.5555555555555556,
             "#d8576b"
            ],
            [
             0.6666666666666666,
             "#ed7953"
            ],
            [
             0.7777777777777778,
             "#fb9f3a"
            ],
            [
             0.8888888888888888,
             "#fdca26"
            ],
            [
             1,
             "#f0f921"
            ]
           ],
           "sequentialminus": [
            [
             0,
             "#0d0887"
            ],
            [
             0.1111111111111111,
             "#46039f"
            ],
            [
             0.2222222222222222,
             "#7201a8"
            ],
            [
             0.3333333333333333,
             "#9c179e"
            ],
            [
             0.4444444444444444,
             "#bd3786"
            ],
            [
             0.5555555555555556,
             "#d8576b"
            ],
            [
             0.6666666666666666,
             "#ed7953"
            ],
            [
             0.7777777777777778,
             "#fb9f3a"
            ],
            [
             0.8888888888888888,
             "#fdca26"
            ],
            [
             1,
             "#f0f921"
            ]
           ]
          },
          "colorway": [
           "#636efa",
           "#EF553B",
           "#00cc96",
           "#ab63fa",
           "#FFA15A",
           "#19d3f3",
           "#FF6692",
           "#B6E880",
           "#FF97FF",
           "#FECB52"
          ],
          "font": {
           "color": "#2a3f5f"
          },
          "geo": {
           "bgcolor": "white",
           "lakecolor": "white",
           "landcolor": "#E5ECF6",
           "showlakes": true,
           "showland": true,
           "subunitcolor": "white"
          },
          "hoverlabel": {
           "align": "left"
          },
          "hovermode": "closest",
          "mapbox": {
           "style": "light"
          },
          "paper_bgcolor": "white",
          "plot_bgcolor": "#E5ECF6",
          "polar": {
           "angularaxis": {
            "gridcolor": "white",
            "linecolor": "white",
            "ticks": ""
           },
           "bgcolor": "#E5ECF6",
           "radialaxis": {
            "gridcolor": "white",
            "linecolor": "white",
            "ticks": ""
           }
          },
          "scene": {
           "xaxis": {
            "backgroundcolor": "#E5ECF6",
            "gridcolor": "white",
            "gridwidth": 2,
            "linecolor": "white",
            "showbackground": true,
            "ticks": "",
            "zerolinecolor": "white"
           },
           "yaxis": {
            "backgroundcolor": "#E5ECF6",
            "gridcolor": "white",
            "gridwidth": 2,
            "linecolor": "white",
            "showbackground": true,
            "ticks": "",
            "zerolinecolor": "white"
           },
           "zaxis": {
            "backgroundcolor": "#E5ECF6",
            "gridcolor": "white",
            "gridwidth": 2,
            "linecolor": "white",
            "showbackground": true,
            "ticks": "",
            "zerolinecolor": "white"
           }
          },
          "shapedefaults": {
           "line": {
            "color": "#2a3f5f"
           }
          },
          "ternary": {
           "aaxis": {
            "gridcolor": "white",
            "linecolor": "white",
            "ticks": ""
           },
           "baxis": {
            "gridcolor": "white",
            "linecolor": "white",
            "ticks": ""
           },
           "bgcolor": "#E5ECF6",
           "caxis": {
            "gridcolor": "white",
            "linecolor": "white",
            "ticks": ""
           }
          },
          "title": {
           "x": 0.05
          },
          "xaxis": {
           "automargin": true,
           "gridcolor": "white",
           "linecolor": "white",
           "ticks": "",
           "title": {
            "standoff": 15
           },
           "zerolinecolor": "white",
           "zerolinewidth": 2
          },
          "yaxis": {
           "automargin": true,
           "gridcolor": "white",
           "linecolor": "white",
           "ticks": "",
           "title": {
            "standoff": 15
           },
           "zerolinecolor": "white",
           "zerolinewidth": 2
          }
         }
        },
        "title": {
         "text": "mean customer segmentation by clusters"
        },
        "xaxis": {
         "anchor": "y",
         "domain": [
          0,
          1
         ],
         "title": {
          "text": "cluster"
         }
        },
        "yaxis": {
         "anchor": "x",
         "domain": [
          0,
          1
         ],
         "title": {
          "text": "value[$]"
         },
         "type": "log"
        }
       }
      },
      "image/png": "[encoded data removed]"
     },
     "metadata": {},
     "output_type": "display_data"
    }
   ],
   "source": [
    "# Create side-by-side bar chart of `xgb`\n",
    "fig = px.bar(\n",
    "    xgb,\n",
    "    barmode=\"group\",\n",
    "    title=\"mean customer segmentation by clusters\"\n",
    "    \n",
    ") \n",
    "fig.update_layout(xaxis_title=\"cluster\",yaxis_title=\"value[$]\"),\n",
    "fig.update_yaxes(type=\"log\")\n",
    "# save\n",
    "fig.write_image(\"Customer_segmentation.png\", scale=3)\n",
    "\n",
    "\n",
    "fig.show()"
   ]
  },
  {
   "cell_type": "code",
   "execution_count": 60,
   "id": "89044eff-192e-4e9c-8329-ed8b5a6c4fa9",
   "metadata": {},
   "outputs": [
    {
     "name": "stdout",
     "output_type": "stream",
     "text": [
      "X_pca type: <class 'pandas.core.frame.DataFrame'>\n",
      "X_pca shape: (2240, 2)\n"
     ]
    },
    {
     "data": {
      "text/html": [
       "<div>\n",
       "<style scoped>\n",
       "    .dataframe tbody tr th:only-of-type {\n",
       "        vertical-align: middle;\n",
       "    }\n",
       "\n",
       "    .dataframe tbody tr th {\n",
       "        vertical-align: top;\n",
       "    }\n",
       "\n",
       "    .dataframe thead th {\n",
       "        text-align: right;\n",
       "    }\n",
       "</style>\n",
       "<table border=\"1\" class=\"dataframe\">\n",
       "  <thead>\n",
       "    <tr style=\"text-align: right;\">\n",
       "      <th></th>\n",
       "      <th>PC1</th>\n",
       "      <th>PC2</th>\n",
       "    </tr>\n",
       "  </thead>\n",
       "  <tbody>\n",
       "    <tr>\n",
       "      <th>0</th>\n",
       "      <td>5904.546932</td>\n",
       "      <td>399.144788</td>\n",
       "    </tr>\n",
       "    <tr>\n",
       "      <th>1</th>\n",
       "      <td>-5896.916231</td>\n",
       "      <td>-280.673445</td>\n",
       "    </tr>\n",
       "    <tr>\n",
       "      <th>2</th>\n",
       "      <td>19374.975305</td>\n",
       "      <td>-73.396246</td>\n",
       "    </tr>\n",
       "    <tr>\n",
       "      <th>3</th>\n",
       "      <td>-25593.951997</td>\n",
       "      <td>-94.669261</td>\n",
       "    </tr>\n",
       "    <tr>\n",
       "      <th>4</th>\n",
       "      <td>6053.481381</td>\n",
       "      <td>-195.204785</td>\n",
       "    </tr>\n",
       "  </tbody>\n",
       "</table>\n",
       "</div>"
      ],
      "text/plain": [
       "            PC1         PC2\n",
       "0   5904.546932  399.144788\n",
       "1  -5896.916231 -280.673445\n",
       "2  19374.975305  -73.396246\n",
       "3 -25593.951997  -94.669261\n",
       "4   6053.481381 -195.204785"
      ]
     },
     "execution_count": 60,
     "metadata": {},
     "output_type": "execute_result"
    }
   ],
   "source": [
    "# Instantiate transformer\n",
    "pca = PCA(n_components=2,random_state=42)\n",
    "\n",
    "# Transform `X`\n",
    "X_t = pca.fit_transform(X)\n",
    "\n",
    "# Put `X_t` into DataFrame\n",
    "X_pca = pd.DataFrame(X_t,columns=[\"PC1\",\"PC2\"])\n",
    "print(\"X_pca type:\", type(X_pca))\n",
    "print(\"X_pca shape:\", X_pca.shape)\n",
    "X_pca.head()"
   ]
  },
  {
   "cell_type": "code",
   "execution_count": null,
   "id": "490728d6-0a72-47c7-8901-1a86cf34eea7",
   "metadata": {},
   "outputs": [],
   "source": [
    "# Create scatter plot of `PC2` vs `PC1`\n",
    "fig =px.scatter(\n",
    "    data_frame=X_pca,\n",
    "    x=\"PC1\",\n",
    "    y=\"PC2\",\n",
    "    color=labels.astype(str),\n",
    "    title= \"PCA Representation of Clusters\"\n",
    ")\n",
    "fig.update_layout(xaxis_title=\"PC1\",yaxis_title=\"PC2[$]\")\n",
    "fig.write_image(\"PCA_scatter_plot.png\", scale=3)\n",
    "fig.show()"
   ]
  },
  {
   "cell_type": "code",
   "execution_count": null,
   "id": "08fa664a-1d5a-4b09-8a16-a5611b9a5843",
   "metadata": {},
   "outputs": [],
   "source": []
  }
 ],
 "metadata": {
  "kernelspec": {
   "display_name": "Python 3 (ipykernel)",
   "language": "python",
   "name": "python3"
  },
  "language_info": {
   "codemirror_mode": {
    "name": "ipython",
    "version": 3
   },
   "file_extension": ".py",
   "mimetype": "text/x-python",
   "name": "python",
   "nbconvert_exporter": "python",
   "pygments_lexer": "ipython3",
   "version": "3.12.3"
  }
 },
 "nbformat": 4,
 "nbformat_minor": 5
}
